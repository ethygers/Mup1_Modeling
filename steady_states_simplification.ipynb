{
 "cells": [
  {
   "cell_type": "code",
   "execution_count": 3,
   "id": "124d5a8a",
   "metadata": {},
   "outputs": [],
   "source": [
    "import sympy as sy"
   ]
  },
  {
   "cell_type": "code",
   "execution_count": 2,
   "id": "9159deed",
   "metadata": {},
   "outputs": [
    {
     "name": "stdout",
     "output_type": "stream",
     "text": [
      "0: (Ae*f*(-j*(Ap*M**2*a*b*h**2*n*p/(Ae*w**2*(-b - Ap*n/Ae)*(-Ae*f/Ap - M*h/w - f*n/(-b - Ap*n/Ae))**2*(-M*h*j/(w*(-Ae*f/Ap - M*h/w - f*n/(-b - Ap*n/Ae))) - a - j)*(M*a*b*h/(w*(-Ae*f/Ap - M*h/w - f*n/(-b - Ap*n/Ae))*(-M*h*j/(w*(-Ae*f/Ap - M*h/w - f*n/(-b - Ap*n/Ae))) - a - j)) - b - d)) - Ap*M*h*n*p/(Ae*w*(-b - Ap*n/Ae)*(-Ae*f/Ap - M*h/w - f*n/(-b - Ap*n/Ae))))/(-M*h*j/(w*(-Ae*f/Ap - M*h/w - f*n/(-b - Ap*n/Ae))) - a - j) - Ap*M*a*b*h*n*p/(Ae*w*(-b - Ap*n/Ae)*(-Ae*f/Ap - M*h/w - f*n/(-b - Ap*n/Ae))*(-M*h*j/(w*(-Ae*f/Ap - M*h/w - f*n/(-b - Ap*n/Ae))) - a - j)*(M*a*b*h/(w*(-Ae*f/Ap - M*h/w - f*n/(-b - Ap*n/Ae))*(-M*h*j/(w*(-Ae*f/Ap - M*h/w - f*n/(-b - Ap*n/Ae))) - a - j)) - b - d)) + Ap*n*p/(Ae*(-b - Ap*n/Ae)))/(Ap*(-Ae*f/Ap - M*h/w - f*n/(-b - Ap*n/Ae))) + p - j*(-Ae*f*(-j*(Ap*M**2*a*b*h**2*n*p/(Ae*w**2*(-b - Ap*n/Ae)*(-Ae*f/Ap - M*h/w - f*n/(-b - Ap*n/Ae))**2*(-M*h*j/(w*(-Ae*f/Ap - M*h/w - f*n/(-b - Ap*n/Ae))) - a - j)*(M*a*b*h/(w*(-Ae*f/Ap - M*h/w - f*n/(-b - Ap*n/Ae))*(-M*h*j/(w*(-Ae*f/Ap - M*h/w - f*n/(-b - Ap*n/Ae))) - a - j)) - b - d)) - Ap*M*h*n*p/(Ae*w*(-b - Ap*n/Ae)*(-Ae*f/Ap - M*h/w - f*n/(-b - Ap*n/Ae))))/(-M*h*j/(w*(-Ae*f/Ap - M*h/w - f*n/(-b - Ap*n/Ae))) - a - j) - Ap*M*a*b*h*n*p/(Ae*w*(-b - Ap*n/Ae)*(-Ae*f/Ap - M*h/w - f*n/(-b - Ap*n/Ae))*(-M*h*j/(w*(-Ae*f/Ap - M*h/w - f*n/(-b - Ap*n/Ae))) - a - j)*(M*a*b*h/(w*(-Ae*f/Ap - M*h/w - f*n/(-b - Ap*n/Ae))*(-M*h*j/(w*(-Ae*f/Ap - M*h/w - f*n/(-b - Ap*n/Ae))) - a - j)) - b - d)) + Ap*n*p/(Ae*(-b - Ap*n/Ae)))/(Ap*(-Ae*f/Ap - M*h/w - f*n/(-b - Ap*n/Ae))) - p)/a)/(h*(M/w + Me))\n",
      "1: (Ae*f*(-j*(Ap*M**2*a*b*h**2*n*p/(Ae*w**2*(-b - Ap*n/Ae)*(-Ae*f/Ap - M*h/w - f*n/(-b - Ap*n/Ae))**2*(-M*h*j/(w*(-Ae*f/Ap - M*h/w - f*n/(-b - Ap*n/Ae))) - a - j)*(M*a*b*h/(w*(-Ae*f/Ap - M*h/w - f*n/(-b - Ap*n/Ae))*(-M*h*j/(w*(-Ae*f/Ap - M*h/w - f*n/(-b - Ap*n/Ae))) - a - j)) - b - d)) - Ap*M*h*n*p/(Ae*w*(-b - Ap*n/Ae)*(-Ae*f/Ap - M*h/w - f*n/(-b - Ap*n/Ae))))/(-M*h*j/(w*(-Ae*f/Ap - M*h/w - f*n/(-b - Ap*n/Ae))) - a - j) - Ap*M*a*b*h*n*p/(Ae*w*(-b - Ap*n/Ae)*(-Ae*f/Ap - M*h/w - f*n/(-b - Ap*n/Ae))*(-M*h*j/(w*(-Ae*f/Ap - M*h/w - f*n/(-b - Ap*n/Ae))) - a - j)*(M*a*b*h/(w*(-Ae*f/Ap - M*h/w - f*n/(-b - Ap*n/Ae))*(-M*h*j/(w*(-Ae*f/Ap - M*h/w - f*n/(-b - Ap*n/Ae))) - a - j)) - b - d)) + Ap*n*p/(Ae*(-b - Ap*n/Ae)))/(Ap*(-Ae*f/Ap - M*h/w - f*n/(-b - Ap*n/Ae))) + p)/a\n",
      "2: (Ae*f*(-j*(Ap*M**2*a*b*h**2*n*p/(Ae*w**2*(-b - Ap*n/Ae)*(-Ae*f/Ap - M*h/w - f*n/(-b - Ap*n/Ae))**2*(-M*h*j/(w*(-Ae*f/Ap - M*h/w - f*n/(-b - Ap*n/Ae))) - a - j)*(M*a*b*h/(w*(-Ae*f/Ap - M*h/w - f*n/(-b - Ap*n/Ae))*(-M*h*j/(w*(-Ae*f/Ap - M*h/w - f*n/(-b - Ap*n/Ae))) - a - j)) - b - d)) - Ap*M*h*n*p/(Ae*w*(-b - Ap*n/Ae)*(-Ae*f/Ap - M*h/w - f*n/(-b - Ap*n/Ae))))/(-M*h*j/(w*(-Ae*f/Ap - M*h/w - f*n/(-b - Ap*n/Ae))) - a - j) - Ap*M*a*b*h*n*p/(Ae*w*(-b - Ap*n/Ae)*(-Ae*f/Ap - M*h/w - f*n/(-b - Ap*n/Ae))*(-M*h*j/(w*(-Ae*f/Ap - M*h/w - f*n/(-b - Ap*n/Ae))) - a - j)*(M*a*b*h/(w*(-Ae*f/Ap - M*h/w - f*n/(-b - Ap*n/Ae))*(-M*h*j/(w*(-Ae*f/Ap - M*h/w - f*n/(-b - Ap*n/Ae))) - a - j)) - b - d)) + Ap*n*p/(Ae*(-b - Ap*n/Ae)))/(Ap*(-Ae*f/Ap - M*h/w - f*n/(-b - Ap*n/Ae))) + p)/u\n",
      "3: (-Ae*f*(-j*(Ap*M**2*a*b*h**2*n*p/(Ae*w**2*(-b - Ap*n/Ae)*(-Ae*f/Ap - M*h/w - f*n/(-b - Ap*n/Ae))**2*(-M*h*j/(w*(-Ae*f/Ap - M*h/w - f*n/(-b - Ap*n/Ae))) - a - j)*(M*a*b*h/(w*(-Ae*f/Ap - M*h/w - f*n/(-b - Ap*n/Ae))*(-M*h*j/(w*(-Ae*f/Ap - M*h/w - f*n/(-b - Ap*n/Ae))) - a - j)) - b - d)) - Ap*M*h*n*p/(Ae*w*(-b - Ap*n/Ae)*(-Ae*f/Ap - M*h/w - f*n/(-b - Ap*n/Ae))))/(-M*h*j/(w*(-Ae*f/Ap - M*h/w - f*n/(-b - Ap*n/Ae))) - a - j) - Ap*M*a*b*h*n*p/(Ae*w*(-b - Ap*n/Ae)*(-Ae*f/Ap - M*h/w - f*n/(-b - Ap*n/Ae))*(-M*h*j/(w*(-Ae*f/Ap - M*h/w - f*n/(-b - Ap*n/Ae))) - a - j)*(M*a*b*h/(w*(-Ae*f/Ap - M*h/w - f*n/(-b - Ap*n/Ae))*(-M*h*j/(w*(-Ae*f/Ap - M*h/w - f*n/(-b - Ap*n/Ae))) - a - j)) - b - d)) + Ap*n*p/(Ae*(-b - Ap*n/Ae)))/(Ap*(-Ae*f/Ap - M*h/w - f*n/(-b - Ap*n/Ae))) - p)/(-b - Ap*n/Ae)\n",
      "4: (-j*(Ap*M**2*a*b*h**2*n*p/(Ae*w**2*(-b - Ap*n/Ae)*(-Ae*f/Ap - M*h/w - f*n/(-b - Ap*n/Ae))**2*(-M*h*j/(w*(-Ae*f/Ap - M*h/w - f*n/(-b - Ap*n/Ae))) - a - j)*(M*a*b*h/(w*(-Ae*f/Ap - M*h/w - f*n/(-b - Ap*n/Ae))*(-M*h*j/(w*(-Ae*f/Ap - M*h/w - f*n/(-b - Ap*n/Ae))) - a - j)) - b - d)) - Ap*M*h*n*p/(Ae*w*(-b - Ap*n/Ae)*(-Ae*f/Ap - M*h/w - f*n/(-b - Ap*n/Ae))))/(-M*h*j/(w*(-Ae*f/Ap - M*h/w - f*n/(-b - Ap*n/Ae))) - a - j) - Ap*M*a*b*h*n*p/(Ae*w*(-b - Ap*n/Ae)*(-Ae*f/Ap - M*h/w - f*n/(-b - Ap*n/Ae))*(-M*h*j/(w*(-Ae*f/Ap - M*h/w - f*n/(-b - Ap*n/Ae))) - a - j)*(M*a*b*h/(w*(-Ae*f/Ap - M*h/w - f*n/(-b - Ap*n/Ae))*(-M*h*j/(w*(-Ae*f/Ap - M*h/w - f*n/(-b - Ap*n/Ae))) - a - j)) - b - d)) + Ap*n*p/(Ae*(-b - Ap*n/Ae)))/(-Ae*f/Ap - M*h/w - f*n/(-b - Ap*n/Ae))\n",
      "5: (Ap*M**2*a*b*h**2*n*p/(Ae*w**2*(-b - Ap*n/Ae)*(-Ae*f/Ap - M*h/w - f*n/(-b - Ap*n/Ae))**2*(-M*h*j/(w*(-Ae*f/Ap - M*h/w - f*n/(-b - Ap*n/Ae))) - a - j)*(M*a*b*h/(w*(-Ae*f/Ap - M*h/w - f*n/(-b - Ap*n/Ae))*(-M*h*j/(w*(-Ae*f/Ap - M*h/w - f*n/(-b - Ap*n/Ae))) - a - j)) - b - d)) - Ap*M*h*n*p/(Ae*w*(-b - Ap*n/Ae)*(-Ae*f/Ap - M*h/w - f*n/(-b - Ap*n/Ae))))/(-M*h*j/(w*(-Ae*f/Ap - M*h/w - f*n/(-b - Ap*n/Ae))) - a - j)\n",
      "6: (Ap*M**2*a**2*b*h**2*n*p/(Ae*w**2*(-b - Ap*n/Ae)*(-Ae*f/Ap - M*h/w - f*n/(-b - Ap*n/Ae))**2*(-M*h*j/(w*(-Ae*f/Ap - M*h/w - f*n/(-b - Ap*n/Ae))) - a - j)**2*(M*a*b*h/(w*(-Ae*f/Ap - M*h/w - f*n/(-b - Ap*n/Ae))*(-M*h*j/(w*(-Ae*f/Ap - M*h/w - f*n/(-b - Ap*n/Ae))) - a - j)) - b - d)) - Ap*M*a*h*n*p/(Ae*w*(-b - Ap*n/Ae)*(-Ae*f/Ap - M*h/w - f*n/(-b - Ap*n/Ae))*(-M*h*j/(w*(-Ae*f/Ap - M*h/w - f*n/(-b - Ap*n/Ae))) - a - j)))/u\n",
      "7: Ap*M*a*h*n*p/(Ae*w*(-b - Ap*n/Ae)*(-Ae*f/Ap - M*h/w - f*n/(-b - Ap*n/Ae))*(-M*h*j/(w*(-Ae*f/Ap - M*h/w - f*n/(-b - Ap*n/Ae))) - a - j)*(M*a*b*h/(w*(-Ae*f/Ap - M*h/w - f*n/(-b - Ap*n/Ae))*(-M*h*j/(w*(-Ae*f/Ap - M*h/w - f*n/(-b - Ap*n/Ae))) - a - j)) - b - d))\n"
     ]
    }
   ],
   "source": [
    "t, Me, p, h, w, j, f, Ae, Ap, u, a, b, d, n, V, vmax, Km = sy.symbols(\"t, Me, p, h, w, j, f, Ae, Ap, u, a, b, d, n, V, vmax, Km\")\n",
    "P, Pm, Pa, Pu, M, E, Em, Ea, Eu = sy.symbols(\"P, Pm, Pa, Pu, M, E, Em, Ea, Eu\")\n",
    "\n",
    "raw_sol = sy.Matrix([[-(-Ae*f*(-j*(Ap*M**2*a*b*h**2*n*p/(Ae*w**2*(-b - Ap*n/Ae)*(-Ae*f/Ap - M*h/w - f*n/(-b - Ap*n/Ae))**2*(-M*h*j/(w*(-Ae*f/Ap - M*h/w - f*n/(-b - Ap*n/Ae))) - a - j)*(M*a*b*h/(w*(-Ae*f/Ap - M*h/w - f*n/(-b - Ap*n/Ae))*(-M*h*j/(w*(-Ae*f/Ap - M*h/w - f*n/(-b - Ap*n/Ae))) - a - j)) - b - d)) - Ap*M*h*n*p/(Ae*w*(-b - Ap*n/Ae)*(-Ae*f/Ap - M*h/w - f*n/(-b - Ap*n/Ae))))/(-M*h*j/(w*(-Ae*f/Ap - M*h/w - f*n/(-b - Ap*n/Ae))) - a - j) - Ap*M*a*b*h*n*p/(Ae*w*(-b - Ap*n/Ae)*(-Ae*f/Ap - M*h/w - f*n/(-b - Ap*n/Ae))*(-M*h*j/(w*(-Ae*f/Ap - M*h/w - f*n/(-b - Ap*n/Ae))) - a - j)*(M*a*b*h/(w*(-Ae*f/Ap - M*h/w - f*n/(-b - Ap*n/Ae))*(-M*h*j/(w*(-Ae*f/Ap - M*h/w - f*n/(-b - Ap*n/Ae))) - a - j)) - b - d)) + Ap*n*p/(Ae*(-b - Ap*n/Ae)))/(Ap*(-Ae*f/Ap - M*h/w - f*n/(-b - Ap*n/Ae))) - p + j*(-Ae*f*(-j*(Ap*M**2*a*b*h**2*n*p/(Ae*w**2*(-b - Ap*n/Ae)*(-Ae*f/Ap - M*h/w - f*n/(-b - Ap*n/Ae))**2*(-M*h*j/(w*(-Ae*f/Ap - M*h/w - f*n/(-b - Ap*n/Ae))) - a - j)*(M*a*b*h/(w*(-Ae*f/Ap - M*h/w - f*n/(-b - Ap*n/Ae))*(-M*h*j/(w*(-Ae*f/Ap - M*h/w - f*n/(-b - Ap*n/Ae))) - a - j)) - b - d)) - Ap*M*h*n*p/(Ae*w*(-b - Ap*n/Ae)*(-Ae*f/Ap - M*h/w - f*n/(-b - Ap*n/Ae))))/(-M*h*j/(w*(-Ae*f/Ap - M*h/w - f*n/(-b - Ap*n/Ae))) - a - j) - Ap*M*a*b*h*n*p/(Ae*w*(-b - Ap*n/Ae)*(-Ae*f/Ap - M*h/w - f*n/(-b - Ap*n/Ae))*(-M*h*j/(w*(-Ae*f/Ap - M*h/w - f*n/(-b - Ap*n/Ae))) - a - j)*(M*a*b*h/(w*(-Ae*f/Ap - M*h/w - f*n/(-b - Ap*n/Ae))*(-M*h*j/(w*(-Ae*f/Ap - M*h/w - f*n/(-b - Ap*n/Ae))) - a - j)) - b - d)) + Ap*n*p/(Ae*(-b - Ap*n/Ae)))/(Ap*(-Ae*f/Ap - M*h/w - f*n/(-b - Ap*n/Ae))) - p)/a)/(h*(M/w + Me))], \n",
    "                     [-(-Ae*f*(-j*(Ap*M**2*a*b*h**2*n*p/(Ae*w**2*(-b - Ap*n/Ae)*(-Ae*f/Ap - M*h/w - f*n/(-b - Ap*n/Ae))**2*(-M*h*j/(w*(-Ae*f/Ap - M*h/w - f*n/(-b - Ap*n/Ae))) - a - j)*(M*a*b*h/(w*(-Ae*f/Ap - M*h/w - f*n/(-b - Ap*n/Ae))*(-M*h*j/(w*(-Ae*f/Ap - M*h/w - f*n/(-b - Ap*n/Ae))) - a - j)) - b - d)) - Ap*M*h*n*p/(Ae*w*(-b - Ap*n/Ae)*(-Ae*f/Ap - M*h/w - f*n/(-b - Ap*n/Ae))))/(-M*h*j/(w*(-Ae*f/Ap - M*h/w - f*n/(-b - Ap*n/Ae))) - a - j) - Ap*M*a*b*h*n*p/(Ae*w*(-b - Ap*n/Ae)*(-Ae*f/Ap - M*h/w - f*n/(-b - Ap*n/Ae))*(-M*h*j/(w*(-Ae*f/Ap - M*h/w - f*n/(-b - Ap*n/Ae))) - a - j)*(M*a*b*h/(w*(-Ae*f/Ap - M*h/w - f*n/(-b - Ap*n/Ae))*(-M*h*j/(w*(-Ae*f/Ap - M*h/w - f*n/(-b - Ap*n/Ae))) - a - j)) - b - d)) + Ap*n*p/(Ae*(-b - Ap*n/Ae)))/(Ap*(-Ae*f/Ap - M*h/w - f*n/(-b - Ap*n/Ae))) - p)/a], \n",
    "                     [-(-Ae*f*(-j*(Ap*M**2*a*b*h**2*n*p/(Ae*w**2*(-b - Ap*n/Ae)*(-Ae*f/Ap - M*h/w - f*n/(-b - Ap*n/Ae))**2*(-M*h*j/(w*(-Ae*f/Ap - M*h/w - f*n/(-b - Ap*n/Ae))) - a - j)*(M*a*b*h/(w*(-Ae*f/Ap - M*h/w - f*n/(-b - Ap*n/Ae))*(-M*h*j/(w*(-Ae*f/Ap - M*h/w - f*n/(-b - Ap*n/Ae))) - a - j)) - b - d)) - Ap*M*h*n*p/(Ae*w*(-b - Ap*n/Ae)*(-Ae*f/Ap - M*h/w - f*n/(-b - Ap*n/Ae))))/(-M*h*j/(w*(-Ae*f/Ap - M*h/w - f*n/(-b - Ap*n/Ae))) - a - j) - Ap*M*a*b*h*n*p/(Ae*w*(-b - Ap*n/Ae)*(-Ae*f/Ap - M*h/w - f*n/(-b - Ap*n/Ae))*(-M*h*j/(w*(-Ae*f/Ap - M*h/w - f*n/(-b - Ap*n/Ae))) - a - j)*(M*a*b*h/(w*(-Ae*f/Ap - M*h/w - f*n/(-b - Ap*n/Ae))*(-M*h*j/(w*(-Ae*f/Ap - M*h/w - f*n/(-b - Ap*n/Ae))) - a - j)) - b - d)) + Ap*n*p/(Ae*(-b - Ap*n/Ae)))/(Ap*(-Ae*f/Ap - M*h/w - f*n/(-b - Ap*n/Ae))) - p)/u], \n",
    "                     [(-Ae*f*(-j*(Ap*M**2*a*b*h**2*n*p/(Ae*w**2*(-b - Ap*n/Ae)*(-Ae*f/Ap - M*h/w - f*n/(-b - Ap*n/Ae))**2*(-M*h*j/(w*(-Ae*f/Ap - M*h/w - f*n/(-b - Ap*n/Ae))) - a - j)*(M*a*b*h/(w*(-Ae*f/Ap - M*h/w - f*n/(-b - Ap*n/Ae))*(-M*h*j/(w*(-Ae*f/Ap - M*h/w - f*n/(-b - Ap*n/Ae))) - a - j)) - b - d)) - Ap*M*h*n*p/(Ae*w*(-b - Ap*n/Ae)*(-Ae*f/Ap - M*h/w - f*n/(-b - Ap*n/Ae))))/(-M*h*j/(w*(-Ae*f/Ap - M*h/w - f*n/(-b - Ap*n/Ae))) - a - j) - Ap*M*a*b*h*n*p/(Ae*w*(-b - Ap*n/Ae)*(-Ae*f/Ap - M*h/w - f*n/(-b - Ap*n/Ae))*(-M*h*j/(w*(-Ae*f/Ap - M*h/w - f*n/(-b - Ap*n/Ae))) - a - j)*(M*a*b*h/(w*(-Ae*f/Ap - M*h/w - f*n/(-b - Ap*n/Ae))*(-M*h*j/(w*(-Ae*f/Ap - M*h/w - f*n/(-b - Ap*n/Ae))) - a - j)) - b - d)) + Ap*n*p/(Ae*(-b - Ap*n/Ae)))/(Ap*(-Ae*f/Ap - M*h/w - f*n/(-b - Ap*n/Ae))) - p)/(-b - Ap*n/Ae)], \n",
    "                     [(-j*(Ap*M**2*a*b*h**2*n*p/(Ae*w**2*(-b - Ap*n/Ae)*(-Ae*f/Ap - M*h/w - f*n/(-b - Ap*n/Ae))**2*(-M*h*j/(w*(-Ae*f/Ap - M*h/w - f*n/(-b - Ap*n/Ae))) - a - j)*(M*a*b*h/(w*(-Ae*f/Ap - M*h/w - f*n/(-b - Ap*n/Ae))*(-M*h*j/(w*(-Ae*f/Ap - M*h/w - f*n/(-b - Ap*n/Ae))) - a - j)) - b - d)) - Ap*M*h*n*p/(Ae*w*(-b - Ap*n/Ae)*(-Ae*f/Ap - M*h/w - f*n/(-b - Ap*n/Ae))))/(-M*h*j/(w*(-Ae*f/Ap - M*h/w - f*n/(-b - Ap*n/Ae))) - a - j) - Ap*M*a*b*h*n*p/(Ae*w*(-b - Ap*n/Ae)*(-Ae*f/Ap - M*h/w - f*n/(-b - Ap*n/Ae))*(-M*h*j/(w*(-Ae*f/Ap - M*h/w - f*n/(-b - Ap*n/Ae))) - a - j)*(M*a*b*h/(w*(-Ae*f/Ap - M*h/w - f*n/(-b - Ap*n/Ae))*(-M*h*j/(w*(-Ae*f/Ap - M*h/w - f*n/(-b - Ap*n/Ae))) - a - j)) - b - d)) + Ap*n*p/(Ae*(-b - Ap*n/Ae)))/(-Ae*f/Ap - M*h/w - f*n/(-b - Ap*n/Ae))], \n",
    "                     [(Ap*M**2*a*b*h**2*n*p/(Ae*w**2*(-b - Ap*n/Ae)*(-Ae*f/Ap - M*h/w - f*n/(-b - Ap*n/Ae))**2*(-M*h*j/(w*(-Ae*f/Ap - M*h/w - f*n/(-b - Ap*n/Ae))) - a - j)*(M*a*b*h/(w*(-Ae*f/Ap - M*h/w - f*n/(-b - Ap*n/Ae))*(-M*h*j/(w*(-Ae*f/Ap - M*h/w - f*n/(-b - Ap*n/Ae))) - a - j)) - b - d)) - Ap*M*h*n*p/(Ae*w*(-b - Ap*n/Ae)*(-Ae*f/Ap - M*h/w - f*n/(-b - Ap*n/Ae))))/(-M*h*j/(w*(-Ae*f/Ap - M*h/w - f*n/(-b - Ap*n/Ae))) - a - j)], \n",
    "                     [-(-Ap*M**2*a**2*b*h**2*n*p/(Ae*w**2*(-b - Ap*n/Ae)*(-Ae*f/Ap - M*h/w - f*n/(-b - Ap*n/Ae))**2*(-M*h*j/(w*(-Ae*f/Ap - M*h/w - f*n/(-b - Ap*n/Ae))) - a - j)**2*(M*a*b*h/(w*(-Ae*f/Ap - M*h/w - f*n/(-b - Ap*n/Ae))*(-M*h*j/(w*(-Ae*f/Ap - M*h/w - f*n/(-b - Ap*n/Ae))) - a - j)) - b - d)) + Ap*M*a*h*n*p/(Ae*w*(-b - Ap*n/Ae)*(-Ae*f/Ap - M*h/w - f*n/(-b - Ap*n/Ae))*(-M*h*j/(w*(-Ae*f/Ap - M*h/w - f*n/(-b - Ap*n/Ae))) - a - j)))/u], \n",
    "                     [Ap*M*a*h*n*p/(Ae*w*(-b - Ap*n/Ae)*(-Ae*f/Ap - M*h/w - f*n/(-b - Ap*n/Ae))*(-M*h*j/(w*(-Ae*f/Ap - M*h/w - f*n/(-b - Ap*n/Ae))) - a - j)*(M*a*b*h/(w*(-Ae*f/Ap - M*h/w - f*n/(-b - Ap*n/Ae))*(-M*h*j/(w*(-Ae*f/Ap - M*h/w - f*n/(-b - Ap*n/Ae))) - a - j)) - b - d))]])\n",
    "\n",
    "for i in range(8):\n",
    "    print(f\"{i}: {raw_sol[i]}\")"
   ]
  },
  {
   "cell_type": "code",
   "execution_count": 3,
   "metadata": {},
   "outputs": [
    {
     "name": "stdout",
     "output_type": "stream",
     "text": [
      "([(x0, M/w), (x1, h*x0), (x2, f*n/(b + Ap*n/Ae)), (x3, Ae*f/Ap + x1 - x2), (x4, -x1/x3), (x5, j*x4), (x6, 1/(a + j + x5)), (x7, a*b*x6), (x8, x4*x7), (x9, 1/(b + d + x8)), (x10, 1/x3), (x11, x1*x10), (x12, x11*x7*x9 + 1), (x13, x10*x2), (x14, x8*x9 - 1)], [p*(x13*(j*x11*x12*x6 + x12) + 1 + j*(x13*(x14*x5*x6 - x14) + 1)/a)/(h*(Me + x0))])\n",
      "p*w*(-Ae*Ap*a*f*n*w*(b + d)*(Ae**2*a*b*f*w + Ae**2*b*f*j*w + Ae*Ap*M*a*b*h + Ap**2*M*a*h*n + Ap*M*h*j*(Ae*b + Ap*n)) + a*(Ap*M*a*b*h*(Ae*b + Ap*n) - (b + d)*(Ae**2*a*b*f*w + Ae**2*b*f*j*w + Ae*Ap*M*a*b*h + Ap**2*M*a*h*n))*(Ae**2*b*f*w + Ae*Ap*M*b*h + Ap**2*M*h*n) - j*(Ae*Ap*f*n*w*(b + d)*(Ae**2*a*b*f*w + Ae**2*b*f*j*w + Ae*Ap*M*a*b*h + Ap**2*M*a*h*n + Ap*M*h*j*(Ae*b + Ap*n)) - (Ap*M*a*b*h*(Ae*b + Ap*n) - (b + d)*(Ae**2*a*b*f*w + Ae**2*b*f*j*w + Ae*Ap*M*a*b*h + Ap**2*M*a*h*n))*(Ae**2*b*f*w + Ae*Ap*M*b*h + Ap**2*M*h*n)))/(a*h*(M + Me*w)*(Ap*M*a*b*h*(Ae*b + Ap*n) - (b + d)*(Ae**2*a*b*f*w + Ae**2*b*f*j*w + Ae*Ap*M*a*b*h + Ap**2*M*a*h*n))*(Ae**2*b*f*w + Ae*Ap*M*b*h + Ap**2*M*h*n))\n"
     ]
    }
   ],
   "source": [
    "## solving for P\n",
    "sol_0 = raw_sol[0]\n",
    "\n",
    "simplified_0 = sy.cse(sol_0, optimizations='basic')\n",
    "print(simplified_0)\n",
    "\n",
    "x0 = M/w\n",
    "x1 = sy.simplify(h*x0)\n",
    "x2 = sy.simplify(f*n/(b + Ap*n/Ae))\n",
    "x3 = sy.simplify(Ae*f/Ap + x1 - x2)\n",
    "x4 = sy.simplify(-x1/x3)\n",
    "x5 = sy.simplify(j*x4)\n",
    "x6 = sy.simplify(1/(a + j + x5))\n",
    "x7 = sy.simplify(a*b*x6)\n",
    "x8 = sy.simplify(x4*x7)\n",
    "x9 = sy.simplify(1/(b + d + x8))\n",
    "x10 = sy.simplify(1/x3)\n",
    "x11 = sy.simplify(x1*x10)\n",
    "x12 = sy.simplify(x11*x7*x9 + 1)\n",
    "x13 = sy.simplify(x10*x2)\n",
    "x14 = sy.simplify(x8*x9 - 1)\n",
    "\n",
    "sol0 = sy.simplify(p*(x13*(j*x11*x12*x6 + x12) + 1 + j*(x13*(x14*x5*x6 - x14) + 1)/a)/(h*(Me + x0)))\n",
    "print(sol0)\n"
   ]
  },
  {
   "cell_type": "code",
   "execution_count": 4,
   "id": "ede158bb",
   "metadata": {},
   "outputs": [],
   "source": [
    "## Pm computed in terminal\n",
    "\n",
    "Pm = p*(Ae*b + Ap*n)*(Ae*a*b*f*w + Ae*a*d*f*w + Ae*b*f*j*w + Ae*d*f*j*w + Ap*M*a*d*h)/(a*(Ae**2*a*b**2*f*w + Ae**2*a*b*d*f*w + Ae**2*b**2*f*j*w + Ae**2*b*d*f*j*w + Ae*Ap*M*a*b*d*h + Ap**2*M*a*d*h*n))"
   ]
  },
  {
   "cell_type": "code",
   "execution_count": 5,
   "id": "f9dcae94",
   "metadata": {},
   "outputs": [
    {
     "name": "stdout",
     "output_type": "stream",
     "text": [
      "p*w*(a + j)*(Ae*b + Ap*n)*(Ae*a*b*f*w + Ae*a*d*f*w + Ae*b*f*j*w + Ae*d*f*j*w + Ap*M*a*d*h)/(a*h*(M + Me*w)*(Ae**2*a*b**2*f*w + Ae**2*a*b*d*f*w + Ae**2*b**2*f*j*w + Ae**2*b*d*f*j*w + Ae*Ap*M*a*b*d*h + Ap**2*M*a*d*h*n))\n"
     ]
    }
   ],
   "source": [
    "print(sy.factor(sol0))"
   ]
  },
  {
   "cell_type": "code",
   "execution_count": 6,
   "id": "76715d69",
   "metadata": {},
   "outputs": [
    {
     "name": "stdout",
     "output_type": "stream",
     "text": [
      "([(x0, M*h/w), (x1, f*n/(b + Ap*n/Ae)), (x2, Ae*f/Ap + x0 - x1), (x3, 1/x2), (x4, -x0/x2), (x5, 1/(a + j*x4 + j)), (x6, a*b*x5), (x7, x0*x3), (x8, x6*x7/(b + d + x4*x6) + 1)], [p*(x1*x3*(j*x5*x7*x8 + x8) + 1)/u])\n",
      "p*(Ae**2*a*b**2*f*w + Ae**2*a*b*d*f*w + Ae**2*b**2*f*j*w + Ae**2*b*d*f*j*w + Ae*Ap*M*a*b*d*h + Ae*Ap*a*b*f*n*w + Ae*Ap*a*d*f*n*w + Ae*Ap*b*f*j*n*w + Ae*Ap*d*f*j*n*w + Ap**2*M*a*d*h*n)/(u*(Ae**2*a*b**2*f*w + Ae**2*a*b*d*f*w + Ae**2*b**2*f*j*w + Ae**2*b*d*f*j*w + Ae*Ap*M*a*b*d*h + Ap**2*M*a*d*h*n))\n",
      "p*(Ae*b + Ap*n)*(Ae*a*b*f*w + Ae*a*d*f*w + Ae*b*f*j*w + Ae*d*f*j*w + Ap*M*a*d*h)/(u*(Ae**2*a*b**2*f*w + Ae**2*a*b*d*f*w + Ae**2*b**2*f*j*w + Ae**2*b*d*f*j*w + Ae*Ap*M*a*b*d*h + Ap**2*M*a*d*h*n))\n"
     ]
    }
   ],
   "source": [
    "## solving for Pa\n",
    "sol_2 = raw_sol[2]\n",
    "\n",
    "simplified_2 = sy.cse(sol_2, optimizations='basic')\n",
    "print(simplified_2)\n",
    "\n",
    "x0 = M*h/w\n",
    "x1 = f*n/(b+Ap*n/Ae)\n",
    "x2 = sy.simplify(Ae*f/Ap + x0 - x1)\n",
    "x3 = sy.simplify(1/x2)\n",
    "x4 = sy.simplify(-x0/x2)\n",
    "x5 = sy.simplify(1/(a + j*x4 + j))\n",
    "x6 = sy.simplify(a*b*x5)\n",
    "x7 = sy.simplify(x0*x3)\n",
    "x8 = sy.simplify(x6*x7/(b + d + x4*x6) + 1)\n",
    "\n",
    "sol2 = sy.simplify(p*(x1*x3*(j*x5*x7*x8 + x8) + 1)/u)\n",
    "print(sol2)\n",
    "print(sy.factor(sol2))"
   ]
  },
  {
   "cell_type": "code",
   "execution_count": 7,
   "id": "01b49361",
   "metadata": {},
   "outputs": [
    {
     "name": "stdout",
     "output_type": "stream",
     "text": [
      "([(x0, 1/(b + Ap*n/Ae)), (x1, M*h/w), (x2, f*n*x0), (x3, Ae*f/Ap + x1 - x2), (x4, -x1/x3), (x5, j*x4), (x6, 1/(a + j + x5)), (x7, a*b*x4*x6), (x8, x7/(b + d + x7) - 1)], [p*x0*(x2*(x5*x6*x8 - x8)/x3 + 1)])\n",
      "Ae*p*(Ae*a*b*f*w + Ae*a*d*f*w + Ae*b*f*j*w + Ae*d*f*j*w + Ap*M*a*d*h)/(Ae**2*a*b**2*f*w + Ae**2*a*b*d*f*w + Ae**2*b**2*f*j*w + Ae**2*b*d*f*j*w + Ae*Ap*M*a*b*d*h + Ap**2*M*a*d*h*n)\n",
      "Ae*p*(Ae*a*b*f*w + Ae*a*d*f*w + Ae*b*f*j*w + Ae*d*f*j*w + Ap*M*a*d*h)/(Ae**2*a*b**2*f*w + Ae**2*a*b*d*f*w + Ae**2*b**2*f*j*w + Ae**2*b*d*f*j*w + Ae*Ap*M*a*b*d*h + Ap**2*M*a*d*h*n)\n"
     ]
    }
   ],
   "source": [
    "## simplifying Pu\n",
    "sol_3 = raw_sol[3]\n",
    "\n",
    "simplified_3 = sy.cse(sol_3, optimizations='basic')\n",
    "print(simplified_3)\n",
    "\n",
    "x0 = 1/(b + Ap*n/Ae)\n",
    "x1 = M*h/w\n",
    "x2 = sy.simplify(f*n*x0)\n",
    "x3 = sy.simplify(Ae*f/Ap + x1 - x2)\n",
    "x4 = sy.simplify(-x1/x3)\n",
    "x5 = sy.simplify(j*x4)\n",
    "x6 = sy.simplify(1/(a + j + x5))\n",
    "x7 = sy.simplify(a*b*x4*x6)\n",
    "x8 = sy.simplify(x7/(b + d + x7) - 1)\n",
    "\n",
    "sol3 = sy.simplify(p*x0*(x2*(x5*x6*x8 - x8)/x3 + 1))\n",
    "print(sol3)\n",
    "print(sy.factor(sol3))"
   ]
  },
  {
   "cell_type": "code",
   "execution_count": 8,
   "id": "1a442a37",
   "metadata": {},
   "outputs": [
    {
     "name": "stdout",
     "output_type": "stream",
     "text": [
      "([(x0, Ap*n/Ae), (x1, 1/(b + x0)), (x2, M*h/w), (x3, Ae*f/Ap - f*n*x1 + x2), (x4, 1/x3), (x5, -x2/x3), (x6, 1/(a + j*x5 + j)), (x7, a*b*x6), (x8, x2*x4), (x9, x7*x8/(b + d + x5*x7) + 1)], [p*x0*x1*x4*(j*x6*x8*x9 + x9)])\n",
      "Ap**2*n*p*w*(a*b + a*d + b*j + d*j)/(Ae**2*a*b**2*f*w + Ae**2*a*b*d*f*w + Ae**2*b**2*f*j*w + Ae**2*b*d*f*j*w + Ae*Ap*M*a*b*d*h + Ap**2*M*a*d*h*n)\n",
      "Ap**2*n*p*w*(a + j)*(b + d)/(Ae**2*a*b**2*f*w + Ae**2*a*b*d*f*w + Ae**2*b**2*f*j*w + Ae**2*b*d*f*j*w + Ae*Ap*M*a*b*d*h + Ap**2*M*a*d*h*n)\n"
     ]
    }
   ],
   "source": [
    "## simplifying E\n",
    "sol_4 = raw_sol[4]\n",
    "\n",
    "simplified_4 = sy.cse(sol_4, optimizations='basic')\n",
    "print(simplified_4)\n",
    "\n",
    "x0 = Ap*n/Ae\n",
    "x1 = sy.simplify(1/(b + x0))\n",
    "x2 = M*h/w\n",
    "x3 = sy.simplify(Ae*f/Ap - f*n*x1 + x2)\n",
    "x4 = sy.simplify(1/x3)\n",
    "x5 = sy.simplify(-x2/x3)\n",
    "x6 = sy.simplify(1/(a + j*x5 + j))\n",
    "x7 = sy.simplify(a*b*x6)\n",
    "x8 = sy.simplify(x2*x4)\n",
    "x9 = sy.simplify(x7*x8/(b + d + x5*x7) + 1)\n",
    "\n",
    "sol4 = sy.simplify(p*x0*x1*x4*(j*x6*x8*x9 + x9))\n",
    "print(sol4)\n",
    "print(sy.factor(sol4))"
   ]
  },
  {
   "cell_type": "code",
   "execution_count": 9,
   "id": "c3e448a6",
   "metadata": {},
   "outputs": [
    {
     "name": "stdout",
     "output_type": "stream",
     "text": [
      "([(x0, Ap*n/Ae), (x1, 1/(b + x0)), (x2, M*h/w), (x3, Ae*f/Ap - f*n*x1 + x2), (x4, 1/x3), (x5, j*x2), (x6, a + j), (x7, -1/x3), (x8, a*b*x2/(x5*x7 + x6))], [p*x0*x1*x2*x4*(x4*x8/(b + d + x7*x8) + 1)/(-x4*x5 + x6)])\n",
      "Ap**2*M*h*n*p*(b + d)/(Ae**2*a*b**2*f*w + Ae**2*a*b*d*f*w + Ae**2*b**2*f*j*w + Ae**2*b*d*f*j*w + Ae*Ap*M*a*b*d*h + Ap**2*M*a*d*h*n)\n",
      "Ap**2*M*h*n*p*(b + d)/(Ae**2*a*b**2*f*w + Ae**2*a*b*d*f*w + Ae**2*b**2*f*j*w + Ae**2*b*d*f*j*w + Ae*Ap*M*a*b*d*h + Ap**2*M*a*d*h*n)\n"
     ]
    }
   ],
   "source": [
    "## simplifying Em\n",
    "sol_5 = raw_sol[5]\n",
    "\n",
    "simplified_5 = sy.cse(sol_5, optimizations='basic')\n",
    "print(simplified_5)\n",
    "\n",
    "x0 = Ap*n/Ae\n",
    "x1 = sy.simplify(1/(b + x0))\n",
    "x2 = M*h/w\n",
    "x3 = sy.simplify(Ae*f/Ap - f*n*x1 + x2)\n",
    "x4 = sy.simplify(1/x3)\n",
    "x5 = sy.simplify(j*x2)\n",
    "x6 = a + j\n",
    "x7 = sy.simplify(-1/x3)\n",
    "x8 = sy.simplify(a*b*x2/(x5*x7 + x6))\n",
    "\n",
    "sol5 = sy.simplify(p*x0*x1*x2*x4*(x4*x8/(b + d + x7*x8) + 1)/(-x4*x5 + x6))\n",
    "print(sol5)\n",
    "print(sy.factor(sol5))"
   ]
  },
  {
   "cell_type": "code",
   "execution_count": 10,
   "id": "2e8ed2a3",
   "metadata": {},
   "outputs": [
    {
     "name": "stdout",
     "output_type": "stream",
     "text": [
      "([(x0, Ap*n/Ae), (x1, 1/(b + x0)), (x2, M*h/w), (x3, Ae*f/Ap - f*n*x1 + x2), (x4, 1/x3), (x5, j*x2), (x6, a + j), (x7, 1/(-x4*x5 + x6)), (x8, a*x2*x4), (x9, b*x8)], [p*x0*x1*x7*x8*(x7*x9/(b + d - x9/(x6 - x5/x3)) + 1)/u])\n",
      "Ap**2*M*a*h*n*p*(b + d)/(u*(Ae**2*a*b**2*f*w + Ae**2*a*b*d*f*w + Ae**2*b**2*f*j*w + Ae**2*b*d*f*j*w + Ae*Ap*M*a*b*d*h + Ap**2*M*a*d*h*n))\n",
      "Ap**2*M*a*h*n*p*(b + d)/(u*(Ae**2*a*b**2*f*w + Ae**2*a*b*d*f*w + Ae**2*b**2*f*j*w + Ae**2*b*d*f*j*w + Ae*Ap*M*a*b*d*h + Ap**2*M*a*d*h*n))\n"
     ]
    }
   ],
   "source": [
    "## simplifying Ea\n",
    "sol_6 = raw_sol[6]\n",
    "\n",
    "simplified_6 = sy.cse(sol_6, optimizations='basic')\n",
    "print(simplified_6)\n",
    "\n",
    "x0 = Ap*n/Ae\n",
    "x1 = sy.simplify(1/(b + x0))\n",
    "x2 = M*h/w\n",
    "x3 = sy.simplify(Ae*f/Ap - f*n*x1 + x2)\n",
    "x4 = sy.simplify(1/x3)\n",
    "x5 = sy.simplify(j*x2)\n",
    "x6 = a + j\n",
    "x7 = sy.simplify(1/(-x4*x5 + x6))\n",
    "x8 = sy.simplify(a*x2*x4)\n",
    "x9 = b*x8\n",
    "\n",
    "sol6 = sy.simplify(p*x0*x1*x7*x8*(x7*x9/(b + d - x9/(x6 - x5/x3)) + 1)/u)\n",
    "print(sol6)\n",
    "print(sy.factor(sol6))"
   ]
  },
  {
   "cell_type": "code",
   "execution_count": 11,
   "id": "e8bdc985",
   "metadata": {},
   "outputs": [
    {
     "name": "stdout",
     "output_type": "stream",
     "text": [
      "([(x0, Ap*n/Ae), (x1, 1/(b + x0)), (x2, M*h/w), (x3, Ae*f/Ap - f*n*x1 + x2), (x4, 1/x3), (x5, j*x2), (x6, a + j), (x7, a*x2*x4)], [p*x0*x1*x7/((-x4*x5 + x6)*(-b*x7/(x6 - x5/x3) + b + d))])\n",
      "Ap**2*M*a*h*n*p/(-Ap*M*a*b*h*(Ae*b + Ap*n) + (b + d)*(-Ap*M*h*j*(Ae*b + Ap*n) + (a + j)*(Ae**2*b*f*w + Ae*Ap*M*b*h + Ap**2*M*h*n)))\n",
      "Ap**2*M*a*h*n*p/(Ae**2*a*b**2*f*w + Ae**2*a*b*d*f*w + Ae**2*b**2*f*j*w + Ae**2*b*d*f*j*w + Ae*Ap*M*a*b*d*h + Ap**2*M*a*d*h*n)\n"
     ]
    }
   ],
   "source": [
    "## simplifying Eu\n",
    "sol_7 = raw_sol[7]\n",
    "\n",
    "simplified_7 = sy.cse(sol_7, optimizations='basic')\n",
    "print(simplified_7)\n",
    "\n",
    "x0 = Ap*n/Ae\n",
    "x1 = sy.simplify(1/(b + x0))\n",
    "x2 = M*h/w\n",
    "x3 = sy.simplify(Ae*f/Ap - f*n*x1 + x2)\n",
    "x4 = sy.simplify(1/x3)\n",
    "x5 = sy.simplify(j*x2)\n",
    "x6 = a + j\n",
    "x7 = sy.simplify(a*x2*x4)\n",
    "\n",
    "sol7 = sy.simplify(p*x0*x1*x7/((-x4*x5 + x6)*(-b*x7/(x6 - x5/x3) + b + d)))\n",
    "print(sol7)\n",
    "print(sy.factor(sol7))"
   ]
  },
  {
   "cell_type": "code",
   "execution_count": 4,
   "id": "0603b093",
   "metadata": {},
   "outputs": [],
   "source": [
    "# set up sympy variables\n",
    "t, Me, p, h, w, j, f, Ae, Ap, u, a, b, d, n, V, vmax, Km = sy.symbols(\"t, Me, p, h, w, j, f, Ae, Ap, u, a, b, d, n, V, vmax, Km\")\n",
    "P, Pm, Pa, Pu, M, E, Em, Ea, Eu = sy.symbols(\"P, Pm, Pa, Pu, M, E, Em, Ea, Eu\")"
   ]
  },
  {
   "cell_type": "code",
   "execution_count": 13,
   "id": "0698662f",
   "metadata": {},
   "outputs": [
    {
     "name": "stdout",
     "output_type": "stream",
     "text": [
      "initialized variables\n",
      "substitution complete\n",
      "{Ea: (Ap**2*M*a*b*h*n*p + Ap**2*M*a*d*h*n*p)/(Ae**2*a*b**2*f*u*w + Ae**2*a*b*d*f*u*w + Ae**2*b**2*f*j*u*w + Ae**2*b*d*f*j*u*w + Ae*Ap*M*a*b*d*h*u + Ap**2*M*a*d*h*n*u), Pa: (Ae**2*a*b**2*f*p*w + Ae**2*a*b*d*f*p*w + Ae**2*b**2*f*j*p*w + Ae**2*b*d*f*j*p*w + Ae*Ap*M*a*b*d*h*p + Ae*Ap*a*b*f*n*p*w + Ae*Ap*a*d*f*n*p*w + Ae*Ap*b*f*j*n*p*w + Ae*Ap*d*f*j*n*p*w + Ap**2*M*a*d*h*n*p)/(Ae**2*a*b**2*f*u*w + Ae**2*a*b*d*f*u*w + Ae**2*b**2*f*j*u*w + Ae**2*b*d*f*j*u*w + Ae*Ap*M*a*b*d*h*u + Ap**2*M*a*d*h*n*u)}\n"
     ]
    }
   ],
   "source": [
    "### A SLIGHTLY DIFFERENT METHOD ###\n",
    "\n",
    "# steady states and remaining equations\n",
    "steady_states = {E: (Ae*Ap*Ea*a*b**2*u*w + Ae*Ap*Ea*b**2*j*u*w + Ap**2*Ea*a*b*n*u*w + Ap**2*Ea*b*j*n*u*w + Ap**2*Pa*a*b*n*u*w + Ap**2*Pa*a*d*n*u*w + Ap**2*Pa*b*j*n*u*w + Ap**2*Pa*d*j*n*u*w)/(Ae**2*a*b**2*f*w + Ae**2*a*b*d*f*w + Ae**2*b**2*f*j*w + Ae**2*b*d*f*j*w + Ae*Ap*M*a*b**2*h + Ae*Ap*M*a*b*d*h + Ae*Ap*a*b*f*n*w + Ae*Ap*a*d*f*n*w + Ae*Ap*b*f*j*n*w + Ae*Ap*d*f*j*n*w + Ap**2*M*a*b*h*n + Ap**2*M*a*d*h*n), \n",
    "                    Em: (Ae*Ap*Ea*M*b**2*h*u + Ap**2*Ea*M*b*h*n*u + Ap**2*M*Pa*b*h*n*u + Ap**2*M*Pa*d*h*n*u)/(Ae**2*a*b**2*f*w + Ae**2*a*b*d*f*w + Ae**2*b**2*f*j*w + Ae**2*b*d*f*j*w + Ae*Ap*M*a*b**2*h + Ae*Ap*M*a*b*d*h + Ae*Ap*a*b*f*n*w + Ae*Ap*a*d*f*n*w + Ae*Ap*b*f*j*n*w + Ae*Ap*d*f*j*n*w + Ap**2*M*a*b*h*n + Ap**2*M*a*d*h*n), \n",
    "                    Eu: Ea*u/(b + d), \n",
    "                    P: (Ae**2*Ea*a**2*b**2*f*u*w**2 + 2*Ae**2*Ea*a*b**2*f*j*u*w**2 + Ae**2*Ea*b**2*f*j**2*u*w**2 + Ae**2*a**2*b**2*f*p*w**2 + Ae**2*a**2*b*d*f*p*w**2 + 2*Ae**2*a*b**2*f*j*p*w**2 + 2*Ae**2*a*b*d*f*j*p*w**2 + Ae**2*b**2*f*j**2*p*w**2 + Ae**2*b*d*f*j**2*p*w**2 + Ae*Ap*Ea*a**2*b*f*n*u*w**2 + 2*Ae*Ap*Ea*a*b*f*j*n*u*w**2 + Ae*Ap*Ea*b*f*j**2*n*u*w**2 + Ae*Ap*M*a**2*b**2*h*p*w + Ae*Ap*M*a**2*b*d*h*p*w + Ae*Ap*M*a*b**2*h*j*p*w + Ae*Ap*M*a*b*d*h*j*p*w + Ae*Ap*Pa*a**2*b*f*n*u*w**2 + Ae*Ap*Pa*a**2*d*f*n*u*w**2 + 2*Ae*Ap*Pa*a*b*f*j*n*u*w**2 + 2*Ae*Ap*Pa*a*d*f*j*n*u*w**2 + Ae*Ap*Pa*b*f*j**2*n*u*w**2 + Ae*Ap*Pa*d*f*j**2*n*u*w**2 + Ae*Ap*a**2*b*f*n*p*w**2 + Ae*Ap*a**2*d*f*n*p*w**2 + 2*Ae*Ap*a*b*f*j*n*p*w**2 + 2*Ae*Ap*a*d*f*j*n*p*w**2 + Ae*Ap*b*f*j**2*n*p*w**2 + Ae*Ap*d*f*j**2*n*p*w**2 + Ap**2*M*a**2*b*h*n*p*w + Ap**2*M*a**2*d*h*n*p*w + Ap**2*M*a*b*h*j*n*p*w + Ap**2*M*a*d*h*j*n*p*w)/(Ae**2*M*a**2*b**2*f*h*w + Ae**2*M*a**2*b*d*f*h*w + Ae**2*M*a*b**2*f*h*j*w + Ae**2*M*a*b*d*f*h*j*w + Ae**2*Me*a**2*b**2*f*h*w**2 + Ae**2*Me*a**2*b*d*f*h*w**2 + Ae**2*Me*a*b**2*f*h*j*w**2 + Ae**2*Me*a*b*d*f*h*j*w**2 + Ae*Ap*M**2*a**2*b**2*h**2 + Ae*Ap*M**2*a**2*b*d*h**2 + Ae*Ap*M*Me*a**2*b**2*h**2*w + Ae*Ap*M*Me*a**2*b*d*h**2*w + Ae*Ap*M*a**2*b*f*h*n*w + Ae*Ap*M*a**2*d*f*h*n*w + Ae*Ap*M*a*b*f*h*j*n*w + Ae*Ap*M*a*d*f*h*j*n*w + Ae*Ap*Me*a**2*b*f*h*n*w**2 + Ae*Ap*Me*a**2*d*f*h*n*w**2 + Ae*Ap*Me*a*b*f*h*j*n*w**2 + Ae*Ap*Me*a*d*f*h*j*n*w**2 + Ap**2*M**2*a**2*b*h**2*n + Ap**2*M**2*a**2*d*h**2*n + Ap**2*M*Me*a**2*b*h**2*n*w + Ap**2*M*Me*a**2*d*h**2*n*w), \n",
    "                    Pm: (Ae**2*Ea*a*b**2*f*u*w + Ae**2*Ea*b**2*f*j*u*w + Ae**2*a*b**2*f*p*w + Ae**2*a*b*d*f*p*w + Ae**2*b**2*f*j*p*w + Ae**2*b*d*f*j*p*w + Ae*Ap*Ea*a*b*f*n*u*w + Ae*Ap*Ea*b*f*j*n*u*w + Ae*Ap*M*a*b**2*h*p + Ae*Ap*M*a*b*d*h*p + Ae*Ap*Pa*a*b*f*n*u*w + Ae*Ap*Pa*a*d*f*n*u*w + Ae*Ap*Pa*b*f*j*n*u*w + Ae*Ap*Pa*d*f*j*n*u*w + Ae*Ap*a*b*f*n*p*w + Ae*Ap*a*d*f*n*p*w + Ae*Ap*b*f*j*n*p*w + Ae*Ap*d*f*j*n*p*w + Ap**2*M*a*b*h*n*p + Ap**2*M*a*d*h*n*p)/(Ae**2*a**2*b**2*f*w + Ae**2*a**2*b*d*f*w + Ae**2*a*b**2*f*j*w + Ae**2*a*b*d*f*j*w + Ae*Ap*M*a**2*b**2*h + Ae*Ap*M*a**2*b*d*h + Ae*Ap*a**2*b*f*n*w + Ae*Ap*a**2*d*f*n*w + Ae*Ap*a*b*f*j*n*w + Ae*Ap*a*d*f*j*n*w + Ap**2*M*a**2*b*h*n + Ap**2*M*a**2*d*h*n), \n",
    "                    Pu: Ae*Pa*u/(Ae*b + Ap*n)}\n",
    "dPa = a*Pm - u*Pa\n",
    "dEa = a*Em - u*Ea \n",
    "print(\"initialized variables\")\n",
    "\n",
    "# substitute\n",
    "dPa = sy.simplify(dPa.subs(Pm, steady_states[Pm]))\n",
    "dEa = sy.simplify(dEa.subs(Em, steady_states[Em]))\n",
    "print(\"substitution complete\")\n",
    "\n",
    "sol = sy.solve([dPa, dEa], [Pa, Ea])\n",
    "print(sol)"
   ]
  },
  {
   "cell_type": "code",
   "execution_count": 14,
   "id": "410b9b05",
   "metadata": {},
   "outputs": [
    {
     "data": {
      "text/latex": [
       "$\\displaystyle \\frac{Ap^{2} n p w \\left(a b + a d + b j + d j\\right)}{Ae^{2} a b^{2} f w + Ae^{2} a b d f w + Ae^{2} b^{2} f j w + Ae^{2} b d f j w + Ae Ap M a b d h + Ap^{2} M a d h n}$"
      ],
      "text/plain": [
       "Ap**2*n*p*w*(a*b + a*d + b*j + d*j)/(Ae**2*a*b**2*f*w + Ae**2*a*b*d*f*w + Ae**2*b**2*f*j*w + Ae**2*b*d*f*j*w + Ae*Ap*M*a*b*d*h + Ap**2*M*a*d*h*n)"
      ]
     },
     "execution_count": 14,
     "metadata": {},
     "output_type": "execute_result"
    }
   ],
   "source": [
    "E = sy.simplify(steady_states[E].subs(Ea, sol[Ea]))\n",
    "sy.simplify(E.subs(Pa, sol[Pa]))"
   ]
  },
  {
   "cell_type": "code",
   "execution_count": 15,
   "id": "b7143b88",
   "metadata": {},
   "outputs": [
    {
     "data": {
      "text/latex": [
       "$\\displaystyle \\frac{Ap^{2} M h n p \\left(b + d\\right)}{Ae^{2} a b^{2} f w + Ae^{2} a b d f w + Ae^{2} b^{2} f j w + Ae^{2} b d f j w + Ae Ap M a b d h + Ap^{2} M a d h n}$"
      ],
      "text/plain": [
       "Ap**2*M*h*n*p*(b + d)/(Ae**2*a*b**2*f*w + Ae**2*a*b*d*f*w + Ae**2*b**2*f*j*w + Ae**2*b*d*f*j*w + Ae*Ap*M*a*b*d*h + Ap**2*M*a*d*h*n)"
      ]
     },
     "execution_count": 15,
     "metadata": {},
     "output_type": "execute_result"
    }
   ],
   "source": [
    "Em = sy.simplify(steady_states[Em].subs(Ea, sol[Ea]))\n",
    "sy.simplify(Em.subs(Pa, sol[Pa]))"
   ]
  },
  {
   "cell_type": "code",
   "execution_count": 16,
   "id": "479b771b",
   "metadata": {},
   "outputs": [
    {
     "data": {
      "text/latex": [
       "$\\displaystyle \\frac{Ap^{2} M a h n p}{Ae^{2} a b^{2} f w + Ae^{2} a b d f w + Ae^{2} b^{2} f j w + Ae^{2} b d f j w + Ae Ap M a b d h + Ap^{2} M a d h n}$"
      ],
      "text/plain": [
       "Ap**2*M*a*h*n*p/(Ae**2*a*b**2*f*w + Ae**2*a*b*d*f*w + Ae**2*b**2*f*j*w + Ae**2*b*d*f*j*w + Ae*Ap*M*a*b*d*h + Ap**2*M*a*d*h*n)"
      ]
     },
     "execution_count": 16,
     "metadata": {},
     "output_type": "execute_result"
    }
   ],
   "source": [
    "Eu = sy.simplify(steady_states[Eu].subs(Ea, sol[Ea]))\n",
    "sy.simplify(Eu.subs(Pa, sol[Pa]))"
   ]
  },
  {
   "cell_type": "code",
   "execution_count": 17,
   "id": "718e53e5",
   "metadata": {},
   "outputs": [
    {
     "data": {
      "text/latex": [
       "$\\displaystyle \\frac{p w \\left(a + j\\right) \\left(Ae b + Ap n\\right) \\left(Ae a b f w + Ae a d f w + Ae b f j w + Ae d f j w + Ap M a d h\\right)}{a h \\left(M + Me w\\right) \\left(Ae^{2} a b^{2} f w + Ae^{2} a b d f w + Ae^{2} b^{2} f j w + Ae^{2} b d f j w + Ae Ap M a b d h + Ap^{2} M a d h n\\right)}$"
      ],
      "text/plain": [
       "p*w*(a + j)*(Ae*b + Ap*n)*(Ae*a*b*f*w + Ae*a*d*f*w + Ae*b*f*j*w + Ae*d*f*j*w + Ap*M*a*d*h)/(a*h*(M + Me*w)*(Ae**2*a*b**2*f*w + Ae**2*a*b*d*f*w + Ae**2*b**2*f*j*w + Ae**2*b*d*f*j*w + Ae*Ap*M*a*b*d*h + Ap**2*M*a*d*h*n))"
      ]
     },
     "execution_count": 17,
     "metadata": {},
     "output_type": "execute_result"
    }
   ],
   "source": [
    "P = sy.simplify(steady_states[P].subs(Ea, sol[Ea]))\n",
    "sy.factor(sy.simplify(P.subs(Pa, sol[Pa])))"
   ]
  },
  {
   "cell_type": "code",
   "execution_count": 18,
   "id": "d0298227",
   "metadata": {},
   "outputs": [
    {
     "data": {
      "text/latex": [
       "$\\displaystyle \\frac{p \\left(Ae b + Ap n\\right) \\left(Ae a b f w + Ae a d f w + Ae b f j w + Ae d f j w + Ap M a d h\\right)}{a \\left(Ae^{2} a b^{2} f w + Ae^{2} a b d f w + Ae^{2} b^{2} f j w + Ae^{2} b d f j w + Ae Ap M a b d h + Ap^{2} M a d h n\\right)}$"
      ],
      "text/plain": [
       "p*(Ae*b + Ap*n)*(Ae*a*b*f*w + Ae*a*d*f*w + Ae*b*f*j*w + Ae*d*f*j*w + Ap*M*a*d*h)/(a*(Ae**2*a*b**2*f*w + Ae**2*a*b*d*f*w + Ae**2*b**2*f*j*w + Ae**2*b*d*f*j*w + Ae*Ap*M*a*b*d*h + Ap**2*M*a*d*h*n))"
      ]
     },
     "execution_count": 18,
     "metadata": {},
     "output_type": "execute_result"
    }
   ],
   "source": [
    "Pm = sy.simplify(steady_states[Pm].subs(Ea, sol[Ea]))\n",
    "sy.factor(sy.simplify(Pm.subs(Pa, sol[Pa])))"
   ]
  },
  {
   "cell_type": "code",
   "execution_count": 19,
   "id": "68c42b32",
   "metadata": {},
   "outputs": [
    {
     "data": {
      "text/latex": [
       "$\\displaystyle \\frac{Ae p \\left(Ae a b f w + Ae a d f w + Ae b f j w + Ae d f j w + Ap M a d h\\right)}{Ae^{2} a b^{2} f w + Ae^{2} a b d f w + Ae^{2} b^{2} f j w + Ae^{2} b d f j w + Ae Ap M a b d h + Ap^{2} M a d h n}$"
      ],
      "text/plain": [
       "Ae*p*(Ae*a*b*f*w + Ae*a*d*f*w + Ae*b*f*j*w + Ae*d*f*j*w + Ap*M*a*d*h)/(Ae**2*a*b**2*f*w + Ae**2*a*b*d*f*w + Ae**2*b**2*f*j*w + Ae**2*b*d*f*j*w + Ae*Ap*M*a*b*d*h + Ap**2*M*a*d*h*n)"
      ]
     },
     "execution_count": 19,
     "metadata": {},
     "output_type": "execute_result"
    }
   ],
   "source": [
    "Pu = sy.simplify(steady_states[Pu].subs(Ea, sol[Ea]))\n",
    "sy.factor(sy.simplify(Pu.subs(Pa, sol[Pa])))"
   ]
  },
  {
   "cell_type": "code",
   "execution_count": 5,
   "id": "73eafe37",
   "metadata": {},
   "outputs": [
    {
     "name": "stdout",
     "output_type": "stream",
     "text": [
      "-E*M*h/w - M*P*h/w - M*vmax/(V*(Km + M)) + (Em + Pm)*(j + u)\n",
      "computed new_m1: -Ap**2*M*h*n*p*(a*b + a*d + b*j + d*j)/(Ae**2*a*b**2*f*w + Ae**2*a*b*d*f*w + Ae**2*b**2*f*j*w + Ae**2*b*d*f*j*w + Ae*Ap*M*a*b*d*h + Ap**2*M*a*d*h*n) - M*P*h/w - M*vmax/(V*(Km + M)) + (Em + Pm)*(j + u)\n",
      "computed new_m2: -Ap**2*M*h*n*p*(a*b + a*d + b*j + d*j)/(Ae**2*a*b**2*f*w + Ae**2*a*b*d*f*w + Ae**2*b**2*f*j*w + Ae**2*b*d*f*j*w + Ae*Ap*M*a*b*d*h + Ap**2*M*a*d*h*n) - M*P*h/w - M*vmax/(V*(Km + M)) + (j + u)*(Ap**2*M*h*n*p*(b + d)/(Ae**2*a*b**2*f*w + Ae**2*a*b*d*f*w + Ae**2*b**2*f*j*w + Ae**2*b*d*f*j*w + Ae*Ap*M*a*b*d*h + Ap**2*M*a*d*h*n) + Pm)\n",
      "computed new_m3: -Ap**2*M*h*n*p*(a*b + a*d + b*j + d*j)/(Ae**2*a*b**2*f*w + Ae**2*a*b*d*f*w + Ae**2*b**2*f*j*w + Ae**2*b*d*f*j*w + Ae*Ap*M*a*b*d*h + Ap**2*M*a*d*h*n) - M*p*(a + j)*(Ae*b + Ap*n)*(Ae*a*b*f*w + Ae*a*d*f*w + Ae*b*f*j*w + Ae*d*f*j*w + Ap*M*a*d*h)/(a*(M + Me*w)*(Ae**2*a*b**2*f*w + Ae**2*a*b*d*f*w + Ae**2*b**2*f*j*w + Ae**2*b*d*f*j*w + Ae*Ap*M*a*b*d*h + Ap**2*M*a*d*h*n)) - M*vmax/(V*(Km + M)) + (j + u)*(Ap**2*M*h*n*p*(b + d)/(Ae**2*a*b**2*f*w + Ae**2*a*b*d*f*w + Ae**2*b**2*f*j*w + Ae**2*b*d*f*j*w + Ae*Ap*M*a*b*d*h + Ap**2*M*a*d*h*n) + Pm)\n",
      "computed new_m4: -Ap**2*M*h*n*p*(a*b + a*d + b*j + d*j)/(Ae**2*a*b**2*f*w + Ae**2*a*b*d*f*w + Ae**2*b**2*f*j*w + Ae**2*b*d*f*j*w + Ae*Ap*M*a*b*d*h + Ap**2*M*a*d*h*n) - M*p*(a + j)*(Ae*b + Ap*n)*(Ae*a*b*f*w + Ae*a*d*f*w + Ae*b*f*j*w + Ae*d*f*j*w + Ap*M*a*d*h)/(a*(M + Me*w)*(Ae**2*a*b**2*f*w + Ae**2*a*b*d*f*w + Ae**2*b**2*f*j*w + Ae**2*b*d*f*j*w + Ae*Ap*M*a*b*d*h + Ap**2*M*a*d*h*n)) - M*vmax/(V*(Km + M)) + (j + u)*(Ap**2*M*h*n*p*(b + d)/(Ae**2*a*b**2*f*w + Ae**2*a*b*d*f*w + Ae**2*b**2*f*j*w + Ae**2*b*d*f*j*w + Ae*Ap*M*a*b*d*h + Ap**2*M*a*d*h*n) + p*(Ae*b + Ap*n)*(Ae*a*b*f*w + Ae*a*d*f*w + Ae*b*f*j*w + Ae*d*f*j*w + Ap*M*a*d*h)/(a*(Ae**2*a*b**2*f*w + Ae**2*a*b*d*f*w + Ae**2*b**2*f*j*w + Ae**2*b*d*f*j*w + Ae*Ap*M*a*b*d*h + Ap**2*M*a*d*h*n)))\n",
      "-Ap**2*M*h*n*p*(a*b + a*d + b*j + d*j)/(Ae**2*a*b**2*f*w + Ae**2*a*b*d*f*w + Ae**2*b**2*f*j*w + Ae**2*b*d*f*j*w + Ae*Ap*M*a*b*d*h + Ap**2*M*a*d*h*n) - M*p*(a + j)*(Ae*b + Ap*n)*(Ae*a*b*f*w + Ae*a*d*f*w + Ae*b*f*j*w + Ae*d*f*j*w + Ap*M*a*d*h)/(a*(M + Me*w)*(Ae**2*a*b**2*f*w + Ae**2*a*b*d*f*w + Ae**2*b**2*f*j*w + Ae**2*b*d*f*j*w + Ae*Ap*M*a*b*d*h + Ap**2*M*a*d*h*n)) - M*vmax/(V*(Km + M)) + (j + u)*(Ap**2*M*h*n*p*(b + d)/(Ae**2*a*b**2*f*w + Ae**2*a*b*d*f*w + Ae**2*b**2*f*j*w + Ae**2*b*d*f*j*w + Ae*Ap*M*a*b*d*h + Ap**2*M*a*d*h*n) + p*(Ae*b + Ap*n)*(Ae*a*b*f*w + Ae*a*d*f*w + Ae*b*f*j*w + Ae*d*f*j*w + Ap*M*a*d*h)/(a*(Ae**2*a*b**2*f*w + Ae**2*a*b*d*f*w + Ae**2*b**2*f*j*w + Ae**2*b*d*f*j*w + Ae*Ap*M*a*b*d*h + Ap**2*M*a*d*h*n)))\n"
     ]
    },
    {
     "data": {
      "text/latex": [
       "$\\displaystyle - \\frac{Ap^{2} M h n p \\left(a b + a d + b j + d j\\right)}{Ae^{2} a b^{2} f w + Ae^{2} a b d f w + Ae^{2} b^{2} f j w + Ae^{2} b d f j w + Ae Ap M a b d h + Ap^{2} M a d h n} - \\frac{M p \\left(a + j\\right) \\left(Ae b + Ap n\\right) \\left(Ae a b f w + Ae a d f w + Ae b f j w + Ae d f j w + Ap M a d h\\right)}{a \\left(M + Me w\\right) \\left(Ae^{2} a b^{2} f w + Ae^{2} a b d f w + Ae^{2} b^{2} f j w + Ae^{2} b d f j w + Ae Ap M a b d h + Ap^{2} M a d h n\\right)} - \\frac{M vmax}{V \\left(Km + M\\right)} + \\left(j + u\\right) \\left(\\frac{Ap^{2} M h n p \\left(b + d\\right)}{Ae^{2} a b^{2} f w + Ae^{2} a b d f w + Ae^{2} b^{2} f j w + Ae^{2} b d f j w + Ae Ap M a b d h + Ap^{2} M a d h n} + \\frac{p \\left(Ae b + Ap n\\right) \\left(Ae a b f w + Ae a d f w + Ae b f j w + Ae d f j w + Ap M a d h\\right)}{a \\left(Ae^{2} a b^{2} f w + Ae^{2} a b d f w + Ae^{2} b^{2} f j w + Ae^{2} b d f j w + Ae Ap M a b d h + Ap^{2} M a d h n\\right)}\\right)$"
      ],
      "text/plain": [
       "-Ap**2*M*h*n*p*(a*b + a*d + b*j + d*j)/(Ae**2*a*b**2*f*w + Ae**2*a*b*d*f*w + Ae**2*b**2*f*j*w + Ae**2*b*d*f*j*w + Ae*Ap*M*a*b*d*h + Ap**2*M*a*d*h*n) - M*p*(a + j)*(Ae*b + Ap*n)*(Ae*a*b*f*w + Ae*a*d*f*w + Ae*b*f*j*w + Ae*d*f*j*w + Ap*M*a*d*h)/(a*(M + Me*w)*(Ae**2*a*b**2*f*w + Ae**2*a*b*d*f*w + Ae**2*b**2*f*j*w + Ae**2*b*d*f*j*w + Ae*Ap*M*a*b*d*h + Ap**2*M*a*d*h*n)) - M*vmax/(V*(Km + M)) + (j + u)*(Ap**2*M*h*n*p*(b + d)/(Ae**2*a*b**2*f*w + Ae**2*a*b*d*f*w + Ae**2*b**2*f*j*w + Ae**2*b*d*f*j*w + Ae*Ap*M*a*b*d*h + Ap**2*M*a*d*h*n) + p*(Ae*b + Ap*n)*(Ae*a*b*f*w + Ae*a*d*f*w + Ae*b*f*j*w + Ae*d*f*j*w + Ap*M*a*d*h)/(a*(Ae**2*a*b**2*f*w + Ae**2*a*b*d*f*w + Ae**2*b**2*f*j*w + Ae**2*b*d*f*j*w + Ae*Ap*M*a*b*d*h + Ap**2*M*a*d*h*n)))"
      ]
     },
     "execution_count": 5,
     "metadata": {},
     "output_type": "execute_result"
    }
   ],
   "source": [
    "# substitution into M to get equation for bisection method\n",
    "# steady states computed previously\n",
    "steady_states = {E: Ap**2*n*p*w*(a*b + a*d + b*j + d*j)/(Ae**2*a*b**2*f*w + Ae**2*a*b*d*f*w + Ae**2*b**2*f*j*w + Ae**2*b*d*f*j*w + Ae*Ap*M*a*b*d*h + Ap**2*M*a*d*h*n),\n",
    "                    Em: Ap**2*M*h*n*p*(b + d)/(Ae**2*a*b**2*f*w + Ae**2*a*b*d*f*w + Ae**2*b**2*f*j*w + Ae**2*b*d*f*j*w + Ae*Ap*M*a*b*d*h + Ap**2*M*a*d*h*n),\n",
    "                    Ea: (Ap**2*M*a*b*h*n*p + Ap**2*M*a*d*h*n*p)/(Ae**2*a*b**2*f*u*w + Ae**2*a*b*d*f*u*w + Ae**2*b**2*f*j*u*w + Ae**2*b*d*f*j*u*w + Ae*Ap*M*a*b*d*h*u + Ap**2*M*a*d*h*n*u), \n",
    "                    Eu: Ap**2*M*a*h*n*p/(Ae**2*a*b**2*f*w + Ae**2*a*b*d*f*w + Ae**2*b**2*f*j*w + Ae**2*b*d*f*j*w + Ae*Ap*M*a*b*d*h + Ap**2*M*a*d*h*n),\n",
    "                    P: p*w*(a + j)*(Ae*b + Ap*n)*(Ae*a*b*f*w + Ae*a*d*f*w + Ae*b*f*j*w + Ae*d*f*j*w + Ap*M*a*d*h)/(a*h*(M + Me*w)*(Ae**2*a*b**2*f*w + Ae**2*a*b*d*f*w + Ae**2*b**2*f*j*w + Ae**2*b*d*f*j*w + Ae*Ap*M*a*b*d*h + Ap**2*M*a*d*h*n)),\n",
    "                    Pm: p*(Ae*b + Ap*n)*(Ae*a*b*f*w + Ae*a*d*f*w + Ae*b*f*j*w + Ae*d*f*j*w + Ap*M*a*d*h)/(a*(Ae**2*a*b**2*f*w + Ae**2*a*b*d*f*w + Ae**2*b**2*f*j*w + Ae**2*b*d*f*j*w + Ae*Ap*M*a*b*d*h + Ap**2*M*a*d*h*n)),\n",
    "                    Pa: (Ae**2*a*b**2*f*p*w + Ae**2*a*b*d*f*p*w + Ae**2*b**2*f*j*p*w + Ae**2*b*d*f*j*p*w + Ae*Ap*M*a*b*d*h*p + Ae*Ap*a*b*f*n*p*w + Ae*Ap*a*d*f*n*p*w + Ae*Ap*b*f*j*n*p*w + Ae*Ap*d*f*j*n*p*w + Ap**2*M*a*d*h*n*p)/(Ae**2*a*b**2*f*u*w + Ae**2*a*b*d*f*u*w + Ae**2*b**2*f*j*u*w + Ae**2*b*d*f*j*u*w + Ae*Ap*M*a*b*d*h*u + Ap**2*M*a*d*h*n*u),\n",
    "                    Pu: Ae*p*(Ae*a*b*f*w + Ae*a*d*f*w + Ae*b*f*j*w + Ae*d*f*j*w + Ap*M*a*d*h)/(Ae**2*a*b**2*f*w + Ae**2*a*b*d*f*w + Ae**2*b**2*f*j*w + Ae**2*b*d*f*j*w + Ae*Ap*M*a*b*d*h + Ap**2*M*a*d*h*n)}\n",
    "\n",
    "# substitutions\n",
    "dM = -(h/w)*M*P - (h/w)*E*M + (j + u)*(Em + Pm) - vmax*M/(V*(Km + M))\n",
    "print(dM)\n",
    "new_m1 = dM.subs(E, steady_states[E])\n",
    "print(f\"computed new_m1: {new_m1}\")\n",
    "new_m2 = new_m1.subs(Em, steady_states[Em])\n",
    "print(f\"computed new_m2: {new_m2}\")\n",
    "new_m3 = new_m2.subs(P, steady_states[P])\n",
    "print(f\"computed new_m3: {new_m3}\")\n",
    "new_m4 = new_m3.subs(Pm, steady_states[Pm])\n",
    "print(f\"computed new_m4: {new_m4}\")\n",
    "new_m5 = new_m4.subs(Pa, steady_states[Pa])\n",
    "print(new_m5)\n",
    "new_m5\n"
   ]
  },
  {
   "cell_type": "code",
   "execution_count": 6,
   "id": "e5af53b0",
   "metadata": {},
   "outputs": [
    {
     "name": "stdout",
     "output_type": "stream",
     "text": [
      "([(x0, a*b), (x1, a*d), (x2, b*j), (x3, d*j), (x4, Ae*b), (x5, M*h), (x6, x1*x5), (x7, Ap*x6), (x8, Ae**2), (x9, f*w), (x10, d*x8*x9), (x11, Ap**2*n), (x12, a*x9), (x13, b**2*x8), (x14, j*x9), (x15, 1/(x0*x10 + x10*x2 + x11*x6 + x12*x13 + x13*x14 + x4*x7)), (x16, p*x15), (x17, x11*x5), (x18, Ae*x9), (x19, (Ap*n + x4)*(x1*x18 + x12*x4 + x14*x4 + x18*x3 + x7)/a)], [-M*x16*x19*(a + j)/(M + Me*w) - M*vmax/(V*(Km + M)) + p*x15*(j + u)*(x17*(b + d) + x19) - x16*x17*(x0 + x1 + x2 + x3)])\n",
      "x0 = a*b\n",
      "x1 = a*d\n",
      "x2 = b*j\n",
      "x3 = d*j\n",
      "x4 = Ae*b\n",
      "x5 = M*h\n",
      "x6 = sy.simplify(x1*x5)\n",
      "x7 = sy.simplify(Ap*x6)\n",
      "x8 = Ae**2\n",
      "x9 = f*w\n",
      "x10 = sy.simplify(d*x8*x9)\n",
      "x11 = Ap**2*n\n",
      "x12 = sy.simplify(a*x9)\n",
      "x13 = sy.simplify(b**2*x8)\n",
      "x14 = sy.simplify(j*x9)\n",
      "x15 = sy.simplify(1/(x0*x10 + x10*x2 + x11*x6 + x12*x13 + x13*x14 + x4*x7))\n",
      "x16 = sy.simplify(p*x15)\n",
      "x17 = sy.simplify(x11*x5)\n",
      "x18 = sy.simplify(Ae*x9)\n",
      "x19 = sy.simplify((Ap*n + x4)*(x1*x18 + x12*x4 + x14*x4 + x18*x3 + x7)/a)\n"
     ]
    }
   ],
   "source": [
    "## simplifying M\n",
    "M1 = new_m4\n",
    "\n",
    "simplifier = sy.cse(M1, optimizations='basic')\n",
    "print(simplifier)\n",
    "\n",
    "# Generate the code:\n",
    "for name, expr in simplifier[0]:\n",
    "    # If expr refers to another x-variable, wrap in simplify\n",
    "    expr_str = expr if isinstance(expr, str) else sy.srepr(expr)\n",
    "    need_simp = 'x' in expr_str\n",
    "    if need_simp:\n",
    "        print(f\"{name} = sy.simplify({expr})\")\n",
    "    else:\n",
    "        print(f\"{name} = {expr}\")\n",
    "\n",
    "# sol7 = sy.simplify(p*x0*x1*x7/((-x4*x5 + x6)*(-b*x7/(x6 - x5/x3) + b + d)))\n",
    "# print(sol7)\n",
    "# print(sy.factor(sol7))"
   ]
  },
  {
   "cell_type": "code",
   "execution_count": 7,
   "id": "43da3456",
   "metadata": {},
   "outputs": [],
   "source": [
    "# save the substitution expressions\n",
    "x0 = a*b\n",
    "x1 = a*d\n",
    "x2 = b*j\n",
    "x3 = d*j\n",
    "x4 = Ae*b\n",
    "x5 = M*h\n",
    "x6 = sy.simplify(x1*x5)\n",
    "x7 = sy.simplify(Ap*x6)\n",
    "x8 = Ae**2\n",
    "x9 = f*w\n",
    "x10 = sy.simplify(d*x8*x9)\n",
    "x11 = Ap**2*n\n",
    "x12 = sy.simplify(a*x9)\n",
    "x13 = sy.simplify(b**2*x8)\n",
    "x14 = sy.simplify(j*x9)\n",
    "x15 = sy.simplify(1/(x0*x10 + x10*x2 + x11*x6 + x12*x13 + x13*x14 + x4*x7))\n",
    "x16 = sy.simplify(p*x15)\n",
    "x17 = sy.simplify(x11*x5)\n",
    "x18 = sy.simplify(Ae*x9)\n",
    "x19 = sy.simplify((Ap*n + x4)*(x1*x18 + x12*x4 + x14*x4 + x18*x3 + x7)/a)"
   ]
  },
  {
   "cell_type": "code",
   "execution_count": 8,
   "id": "c0e2ed79",
   "metadata": {},
   "outputs": [
    {
     "name": "stdout",
     "output_type": "stream",
     "text": [
      "(-Ap**2*M*V*a*h*n*p*(Km + M)*(M + Me*w)*(a*b + a*d + b*j + d*j) - M*V*p*(Km + M)*(a + j)*(Ae*b + Ap*n)*(Ae*a*b*f*w + Ae*a*d*f*w + Ae*b*f*j*w + Ae*d*f*j*w + Ap*M*a*d*h) - M*a*vmax*(M + Me*w)*(Ae**2*a*b**2*f*w + Ae**2*a*b*d*f*w + Ae**2*b**2*f*j*w + Ae**2*b*d*f*j*w + Ae*Ap*M*a*b*d*h + Ap**2*M*a*d*h*n) + V*p*(Km + M)*(M + Me*w)*(j + u)*(Ap**2*M*a*h*n*(b + d) + (Ae*b + Ap*n)*(Ae*a*b*f*w + Ae*a*d*f*w + Ae*b*f*j*w + Ae*d*f*j*w + Ap*M*a*d*h)))/(V*a*(Km + M)*(M + Me*w)*(Ae**2*a*b**2*f*w + Ae**2*a*b*d*f*w + Ae**2*b**2*f*j*w + Ae**2*b*d*f*j*w + Ae*Ap*M*a*b*d*h + Ap**2*M*a*d*h*n))\n"
     ]
    },
    {
     "data": {
      "text/latex": [
       "$\\displaystyle \\frac{- Ap^{2} M V a h n p \\left(Km + M\\right) \\left(M + Me w\\right) \\left(a b + a d + b j + d j\\right) - M V p \\left(Km + M\\right) \\left(a + j\\right) \\left(Ae b + Ap n\\right) \\left(Ae a b f w + Ae a d f w + Ae b f j w + Ae d f j w + Ap M a d h\\right) - M a vmax \\left(M + Me w\\right) \\left(Ae^{2} a b^{2} f w + Ae^{2} a b d f w + Ae^{2} b^{2} f j w + Ae^{2} b d f j w + Ae Ap M a b d h + Ap^{2} M a d h n\\right) + V p \\left(Km + M\\right) \\left(M + Me w\\right) \\left(j + u\\right) \\left(Ap^{2} M a h n \\left(b + d\\right) + \\left(Ae b + Ap n\\right) \\left(Ae a b f w + Ae a d f w + Ae b f j w + Ae d f j w + Ap M a d h\\right)\\right)}{V a \\left(Km + M\\right) \\left(M + Me w\\right) \\left(Ae^{2} a b^{2} f w + Ae^{2} a b d f w + Ae^{2} b^{2} f j w + Ae^{2} b d f j w + Ae Ap M a b d h + Ap^{2} M a d h n\\right)}$"
      ],
      "text/plain": [
       "(-Ap**2*M*V*a*h*n*p*(Km + M)*(M + Me*w)*(a*b + a*d + b*j + d*j) - M*V*p*(Km + M)*(a + j)*(Ae*b + Ap*n)*(Ae*a*b*f*w + Ae*a*d*f*w + Ae*b*f*j*w + Ae*d*f*j*w + Ap*M*a*d*h) - M*a*vmax*(M + Me*w)*(Ae**2*a*b**2*f*w + Ae**2*a*b*d*f*w + Ae**2*b**2*f*j*w + Ae**2*b*d*f*j*w + Ae*Ap*M*a*b*d*h + Ap**2*M*a*d*h*n) + V*p*(Km + M)*(M + Me*w)*(j + u)*(Ap**2*M*a*h*n*(b + d) + (Ae*b + Ap*n)*(Ae*a*b*f*w + Ae*a*d*f*w + Ae*b*f*j*w + Ae*d*f*j*w + Ap*M*a*d*h)))/(V*a*(Km + M)*(M + Me*w)*(Ae**2*a*b**2*f*w + Ae**2*a*b*d*f*w + Ae**2*b**2*f*j*w + Ae**2*b*d*f*j*w + Ae*Ap*M*a*b*d*h + Ap**2*M*a*d*h*n))"
      ]
     },
     "execution_count": 8,
     "metadata": {},
     "output_type": "execute_result"
    }
   ],
   "source": [
    "dM = sy.simplify(-M*x16*x19*(a + j)/(M + Me*w) - M*vmax/(V*(Km + M)) + p*x15*(j + u)*(x17*(b + d) + x19) - x16*x17*(x0 + x1 + x2 + x3))\n",
    "print(dM)\n",
    "dM"
   ]
  },
  {
   "cell_type": "code",
   "execution_count": 16,
   "id": "f4734a0f",
   "metadata": {},
   "outputs": [
    {
     "name": "stdout",
     "output_type": "stream",
     "text": [
      "191.204588910134*(-340.326594032656*M*(0.0008478*M + 37675.20376752)*(M + 2.5) - 0.088*M*(0.06646752*M + 1770734.57707344)*(M + 32*Me) - 57.8949403551215*M*(M + 2.5)*(M + 32*Me) + 4.384309*(M + 2.5)*(M + 32*Me)*(13.40354844*M + 2953735.97537357))/((0.06646752*M + 1770734.57707344)*(M + 2.5)*(M + 32*Me))\n"
     ]
    },
    {
     "data": {
      "image/png": "[encoded data removed]",
      "text/plain": [
       "<Figure size 640x480 with 1 Axes>"
      ]
     },
     "metadata": {},
     "output_type": "display_data"
    }
   ],
   "source": [
    "from matplotlib import pyplot as plt\n",
    "import numpy as np\n",
    "\n",
    "params = {p:8.3e-5, h:135, w:32, j:100, f:.25, Ae:47, Ap:314, u:1,\n",
    "                a:1e-5, b:1, d:.002, n:0.1, V:523, vmax:8.8e3, Km:2.5}\n",
    "\n",
    "dM_params = dM.subs(params)\n",
    "print(dM_params)\n",
    "\n",
    "dM_func = sy.lambdify((Me, M), dM_params)\n",
    "M_vals = np.linspace(5, 10000, 100)\n",
    "\n",
    "plt.plot(M_vals, dM_func(.1, M_vals))\n",
    "plt.plot(M_vals, np.zeros_like(M_vals))\n",
    "plt.ylim(-10, 100)\n",
    "plt.show()"
   ]
  },
  {
   "cell_type": "code",
   "execution_count": null,
   "id": "3dce7fc8",
   "metadata": {},
   "outputs": [],
   "source": []
  }
 ],
 "metadata": {
  "kernelspec": {
   "display_name": "r_venv",
   "language": "python",
   "name": "python3"
  },
  "language_info": {
   "codemirror_mode": {
    "name": "ipython",
    "version": 3
   },
   "file_extension": ".py",
   "mimetype": "text/x-python",
   "name": "python",
   "nbconvert_exporter": "python",
   "pygments_lexer": "ipython3",
   "version": "3.10.12"
  }
 },
 "nbformat": 4,
 "nbformat_minor": 5
}
