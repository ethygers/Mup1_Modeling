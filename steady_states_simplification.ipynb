{
 "cells": [
  {
   "cell_type": "code",
   "execution_count": 1,
   "id": "124d5a8a",
   "metadata": {},
   "outputs": [],
   "source": [
    "import sympy as sy"
   ]
  },
  {
   "cell_type": "code",
   "execution_count": null,
   "id": "9159deed",
   "metadata": {},
   "outputs": [
    {
     "name": "stdout",
     "output_type": "stream",
     "text": [
      "0: (Ae*f*(-j*(Ap*M**2*a*b*h**2*n*p/(Ae*w**2*(-b - Ap*n/Ae)*(-Ae*f/Ap - M*h/w - f*n/(-b - Ap*n/Ae))**2*(-M*h*j/(w*(-Ae*f/Ap - M*h/w - f*n/(-b - Ap*n/Ae))) - a - j)*(M*a*b*h/(w*(-Ae*f/Ap - M*h/w - f*n/(-b - Ap*n/Ae))*(-M*h*j/(w*(-Ae*f/Ap - M*h/w - f*n/(-b - Ap*n/Ae))) - a - j)) - b - d)) - Ap*M*h*n*p/(Ae*w*(-b - Ap*n/Ae)*(-Ae*f/Ap - M*h/w - f*n/(-b - Ap*n/Ae))))/(-M*h*j/(w*(-Ae*f/Ap - M*h/w - f*n/(-b - Ap*n/Ae))) - a - j) - Ap*M*a*b*h*n*p/(Ae*w*(-b - Ap*n/Ae)*(-Ae*f/Ap - M*h/w - f*n/(-b - Ap*n/Ae))*(-M*h*j/(w*(-Ae*f/Ap - M*h/w - f*n/(-b - Ap*n/Ae))) - a - j)*(M*a*b*h/(w*(-Ae*f/Ap - M*h/w - f*n/(-b - Ap*n/Ae))*(-M*h*j/(w*(-Ae*f/Ap - M*h/w - f*n/(-b - Ap*n/Ae))) - a - j)) - b - d)) + Ap*n*p/(Ae*(-b - Ap*n/Ae)))/(Ap*(-Ae*f/Ap - M*h/w - f*n/(-b - Ap*n/Ae))) + p - j*(-Ae*f*(-j*(Ap*M**2*a*b*h**2*n*p/(Ae*w**2*(-b - Ap*n/Ae)*(-Ae*f/Ap - M*h/w - f*n/(-b - Ap*n/Ae))**2*(-M*h*j/(w*(-Ae*f/Ap - M*h/w - f*n/(-b - Ap*n/Ae))) - a - j)*(M*a*b*h/(w*(-Ae*f/Ap - M*h/w - f*n/(-b - Ap*n/Ae))*(-M*h*j/(w*(-Ae*f/Ap - M*h/w - f*n/(-b - Ap*n/Ae))) - a - j)) - b - d)) - Ap*M*h*n*p/(Ae*w*(-b - Ap*n/Ae)*(-Ae*f/Ap - M*h/w - f*n/(-b - Ap*n/Ae))))/(-M*h*j/(w*(-Ae*f/Ap - M*h/w - f*n/(-b - Ap*n/Ae))) - a - j) - Ap*M*a*b*h*n*p/(Ae*w*(-b - Ap*n/Ae)*(-Ae*f/Ap - M*h/w - f*n/(-b - Ap*n/Ae))*(-M*h*j/(w*(-Ae*f/Ap - M*h/w - f*n/(-b - Ap*n/Ae))) - a - j)*(M*a*b*h/(w*(-Ae*f/Ap - M*h/w - f*n/(-b - Ap*n/Ae))*(-M*h*j/(w*(-Ae*f/Ap - M*h/w - f*n/(-b - Ap*n/Ae))) - a - j)) - b - d)) + Ap*n*p/(Ae*(-b - Ap*n/Ae)))/(Ap*(-Ae*f/Ap - M*h/w - f*n/(-b - Ap*n/Ae))) - p)/a)/(h*(M/w + Me))\n",
      "1: (Ae*f*(-j*(Ap*M**2*a*b*h**2*n*p/(Ae*w**2*(-b - Ap*n/Ae)*(-Ae*f/Ap - M*h/w - f*n/(-b - Ap*n/Ae))**2*(-M*h*j/(w*(-Ae*f/Ap - M*h/w - f*n/(-b - Ap*n/Ae))) - a - j)*(M*a*b*h/(w*(-Ae*f/Ap - M*h/w - f*n/(-b - Ap*n/Ae))*(-M*h*j/(w*(-Ae*f/Ap - M*h/w - f*n/(-b - Ap*n/Ae))) - a - j)) - b - d)) - Ap*M*h*n*p/(Ae*w*(-b - Ap*n/Ae)*(-Ae*f/Ap - M*h/w - f*n/(-b - Ap*n/Ae))))/(-M*h*j/(w*(-Ae*f/Ap - M*h/w - f*n/(-b - Ap*n/Ae))) - a - j) - Ap*M*a*b*h*n*p/(Ae*w*(-b - Ap*n/Ae)*(-Ae*f/Ap - M*h/w - f*n/(-b - Ap*n/Ae))*(-M*h*j/(w*(-Ae*f/Ap - M*h/w - f*n/(-b - Ap*n/Ae))) - a - j)*(M*a*b*h/(w*(-Ae*f/Ap - M*h/w - f*n/(-b - Ap*n/Ae))*(-M*h*j/(w*(-Ae*f/Ap - M*h/w - f*n/(-b - Ap*n/Ae))) - a - j)) - b - d)) + Ap*n*p/(Ae*(-b - Ap*n/Ae)))/(Ap*(-Ae*f/Ap - M*h/w - f*n/(-b - Ap*n/Ae))) + p)/a\n",
      "2: (Ae*f*(-j*(Ap*M**2*a*b*h**2*n*p/(Ae*w**2*(-b - Ap*n/Ae)*(-Ae*f/Ap - M*h/w - f*n/(-b - Ap*n/Ae))**2*(-M*h*j/(w*(-Ae*f/Ap - M*h/w - f*n/(-b - Ap*n/Ae))) - a - j)*(M*a*b*h/(w*(-Ae*f/Ap - M*h/w - f*n/(-b - Ap*n/Ae))*(-M*h*j/(w*(-Ae*f/Ap - M*h/w - f*n/(-b - Ap*n/Ae))) - a - j)) - b - d)) - Ap*M*h*n*p/(Ae*w*(-b - Ap*n/Ae)*(-Ae*f/Ap - M*h/w - f*n/(-b - Ap*n/Ae))))/(-M*h*j/(w*(-Ae*f/Ap - M*h/w - f*n/(-b - Ap*n/Ae))) - a - j) - Ap*M*a*b*h*n*p/(Ae*w*(-b - Ap*n/Ae)*(-Ae*f/Ap - M*h/w - f*n/(-b - Ap*n/Ae))*(-M*h*j/(w*(-Ae*f/Ap - M*h/w - f*n/(-b - Ap*n/Ae))) - a - j)*(M*a*b*h/(w*(-Ae*f/Ap - M*h/w - f*n/(-b - Ap*n/Ae))*(-M*h*j/(w*(-Ae*f/Ap - M*h/w - f*n/(-b - Ap*n/Ae))) - a - j)) - b - d)) + Ap*n*p/(Ae*(-b - Ap*n/Ae)))/(Ap*(-Ae*f/Ap - M*h/w - f*n/(-b - Ap*n/Ae))) + p)/u\n",
      "3: (-Ae*f*(-j*(Ap*M**2*a*b*h**2*n*p/(Ae*w**2*(-b - Ap*n/Ae)*(-Ae*f/Ap - M*h/w - f*n/(-b - Ap*n/Ae))**2*(-M*h*j/(w*(-Ae*f/Ap - M*h/w - f*n/(-b - Ap*n/Ae))) - a - j)*(M*a*b*h/(w*(-Ae*f/Ap - M*h/w - f*n/(-b - Ap*n/Ae))*(-M*h*j/(w*(-Ae*f/Ap - M*h/w - f*n/(-b - Ap*n/Ae))) - a - j)) - b - d)) - Ap*M*h*n*p/(Ae*w*(-b - Ap*n/Ae)*(-Ae*f/Ap - M*h/w - f*n/(-b - Ap*n/Ae))))/(-M*h*j/(w*(-Ae*f/Ap - M*h/w - f*n/(-b - Ap*n/Ae))) - a - j) - Ap*M*a*b*h*n*p/(Ae*w*(-b - Ap*n/Ae)*(-Ae*f/Ap - M*h/w - f*n/(-b - Ap*n/Ae))*(-M*h*j/(w*(-Ae*f/Ap - M*h/w - f*n/(-b - Ap*n/Ae))) - a - j)*(M*a*b*h/(w*(-Ae*f/Ap - M*h/w - f*n/(-b - Ap*n/Ae))*(-M*h*j/(w*(-Ae*f/Ap - M*h/w - f*n/(-b - Ap*n/Ae))) - a - j)) - b - d)) + Ap*n*p/(Ae*(-b - Ap*n/Ae)))/(Ap*(-Ae*f/Ap - M*h/w - f*n/(-b - Ap*n/Ae))) - p)/(-b - Ap*n/Ae)\n",
      "4: (-j*(Ap*M**2*a*b*h**2*n*p/(Ae*w**2*(-b - Ap*n/Ae)*(-Ae*f/Ap - M*h/w - f*n/(-b - Ap*n/Ae))**2*(-M*h*j/(w*(-Ae*f/Ap - M*h/w - f*n/(-b - Ap*n/Ae))) - a - j)*(M*a*b*h/(w*(-Ae*f/Ap - M*h/w - f*n/(-b - Ap*n/Ae))*(-M*h*j/(w*(-Ae*f/Ap - M*h/w - f*n/(-b - Ap*n/Ae))) - a - j)) - b - d)) - Ap*M*h*n*p/(Ae*w*(-b - Ap*n/Ae)*(-Ae*f/Ap - M*h/w - f*n/(-b - Ap*n/Ae))))/(-M*h*j/(w*(-Ae*f/Ap - M*h/w - f*n/(-b - Ap*n/Ae))) - a - j) - Ap*M*a*b*h*n*p/(Ae*w*(-b - Ap*n/Ae)*(-Ae*f/Ap - M*h/w - f*n/(-b - Ap*n/Ae))*(-M*h*j/(w*(-Ae*f/Ap - M*h/w - f*n/(-b - Ap*n/Ae))) - a - j)*(M*a*b*h/(w*(-Ae*f/Ap - M*h/w - f*n/(-b - Ap*n/Ae))*(-M*h*j/(w*(-Ae*f/Ap - M*h/w - f*n/(-b - Ap*n/Ae))) - a - j)) - b - d)) + Ap*n*p/(Ae*(-b - Ap*n/Ae)))/(-Ae*f/Ap - M*h/w - f*n/(-b - Ap*n/Ae))\n",
      "5: (Ap*M**2*a*b*h**2*n*p/(Ae*w**2*(-b - Ap*n/Ae)*(-Ae*f/Ap - M*h/w - f*n/(-b - Ap*n/Ae))**2*(-M*h*j/(w*(-Ae*f/Ap - M*h/w - f*n/(-b - Ap*n/Ae))) - a - j)*(M*a*b*h/(w*(-Ae*f/Ap - M*h/w - f*n/(-b - Ap*n/Ae))*(-M*h*j/(w*(-Ae*f/Ap - M*h/w - f*n/(-b - Ap*n/Ae))) - a - j)) - b - d)) - Ap*M*h*n*p/(Ae*w*(-b - Ap*n/Ae)*(-Ae*f/Ap - M*h/w - f*n/(-b - Ap*n/Ae))))/(-M*h*j/(w*(-Ae*f/Ap - M*h/w - f*n/(-b - Ap*n/Ae))) - a - j)\n",
      "6: (Ap*M**2*a**2*b*h**2*n*p/(Ae*w**2*(-b - Ap*n/Ae)*(-Ae*f/Ap - M*h/w - f*n/(-b - Ap*n/Ae))**2*(-M*h*j/(w*(-Ae*f/Ap - M*h/w - f*n/(-b - Ap*n/Ae))) - a - j)**2*(M*a*b*h/(w*(-Ae*f/Ap - M*h/w - f*n/(-b - Ap*n/Ae))*(-M*h*j/(w*(-Ae*f/Ap - M*h/w - f*n/(-b - Ap*n/Ae))) - a - j)) - b - d)) - Ap*M*a*h*n*p/(Ae*w*(-b - Ap*n/Ae)*(-Ae*f/Ap - M*h/w - f*n/(-b - Ap*n/Ae))*(-M*h*j/(w*(-Ae*f/Ap - M*h/w - f*n/(-b - Ap*n/Ae))) - a - j)))/u\n",
      "7: Ap*M*a*h*n*p/(Ae*w*(-b - Ap*n/Ae)*(-Ae*f/Ap - M*h/w - f*n/(-b - Ap*n/Ae))*(-M*h*j/(w*(-Ae*f/Ap - M*h/w - f*n/(-b - Ap*n/Ae))) - a - j)*(M*a*b*h/(w*(-Ae*f/Ap - M*h/w - f*n/(-b - Ap*n/Ae))*(-M*h*j/(w*(-Ae*f/Ap - M*h/w - f*n/(-b - Ap*n/Ae))) - a - j)) - b - d))\n"
     ]
    }
   ],
   "source": [
    "t, Me, p, h, w, j, f, Ae, Ap, u, a, b, d, n, V, vmax, Km = sy.symbols(\"t, Me, p, h, w, j, f, Ae, Ap, u, a, b, d, n, V, vmax, Km\")\n",
    "P, Pm, Pa, Pu, M, E, Em, Ea, Eu = sy.symbols(\"P, Pm, Pa, Pu, M, E, Em, Ea, Eu\")\n",
    "\n",
    "raw_sol = sy.Matrix([[-(-Ae*f*(-j*(Ap*M**2*a*b*h**2*n*p/(Ae*w**2*(-b - Ap*n/Ae)*(-Ae*f/Ap - M*h/w - f*n/(-b - Ap*n/Ae))**2*(-M*h*j/(w*(-Ae*f/Ap - M*h/w - f*n/(-b - Ap*n/Ae))) - a - j)*(M*a*b*h/(w*(-Ae*f/Ap - M*h/w - f*n/(-b - Ap*n/Ae))*(-M*h*j/(w*(-Ae*f/Ap - M*h/w - f*n/(-b - Ap*n/Ae))) - a - j)) - b - d)) - Ap*M*h*n*p/(Ae*w*(-b - Ap*n/Ae)*(-Ae*f/Ap - M*h/w - f*n/(-b - Ap*n/Ae))))/(-M*h*j/(w*(-Ae*f/Ap - M*h/w - f*n/(-b - Ap*n/Ae))) - a - j) - Ap*M*a*b*h*n*p/(Ae*w*(-b - Ap*n/Ae)*(-Ae*f/Ap - M*h/w - f*n/(-b - Ap*n/Ae))*(-M*h*j/(w*(-Ae*f/Ap - M*h/w - f*n/(-b - Ap*n/Ae))) - a - j)*(M*a*b*h/(w*(-Ae*f/Ap - M*h/w - f*n/(-b - Ap*n/Ae))*(-M*h*j/(w*(-Ae*f/Ap - M*h/w - f*n/(-b - Ap*n/Ae))) - a - j)) - b - d)) + Ap*n*p/(Ae*(-b - Ap*n/Ae)))/(Ap*(-Ae*f/Ap - M*h/w - f*n/(-b - Ap*n/Ae))) - p + j*(-Ae*f*(-j*(Ap*M**2*a*b*h**2*n*p/(Ae*w**2*(-b - Ap*n/Ae)*(-Ae*f/Ap - M*h/w - f*n/(-b - Ap*n/Ae))**2*(-M*h*j/(w*(-Ae*f/Ap - M*h/w - f*n/(-b - Ap*n/Ae))) - a - j)*(M*a*b*h/(w*(-Ae*f/Ap - M*h/w - f*n/(-b - Ap*n/Ae))*(-M*h*j/(w*(-Ae*f/Ap - M*h/w - f*n/(-b - Ap*n/Ae))) - a - j)) - b - d)) - Ap*M*h*n*p/(Ae*w*(-b - Ap*n/Ae)*(-Ae*f/Ap - M*h/w - f*n/(-b - Ap*n/Ae))))/(-M*h*j/(w*(-Ae*f/Ap - M*h/w - f*n/(-b - Ap*n/Ae))) - a - j) - Ap*M*a*b*h*n*p/(Ae*w*(-b - Ap*n/Ae)*(-Ae*f/Ap - M*h/w - f*n/(-b - Ap*n/Ae))*(-M*h*j/(w*(-Ae*f/Ap - M*h/w - f*n/(-b - Ap*n/Ae))) - a - j)*(M*a*b*h/(w*(-Ae*f/Ap - M*h/w - f*n/(-b - Ap*n/Ae))*(-M*h*j/(w*(-Ae*f/Ap - M*h/w - f*n/(-b - Ap*n/Ae))) - a - j)) - b - d)) + Ap*n*p/(Ae*(-b - Ap*n/Ae)))/(Ap*(-Ae*f/Ap - M*h/w - f*n/(-b - Ap*n/Ae))) - p)/a)/(h*(M/w + Me))], \n",
    "                     [-(-Ae*f*(-j*(Ap*M**2*a*b*h**2*n*p/(Ae*w**2*(-b - Ap*n/Ae)*(-Ae*f/Ap - M*h/w - f*n/(-b - Ap*n/Ae))**2*(-M*h*j/(w*(-Ae*f/Ap - M*h/w - f*n/(-b - Ap*n/Ae))) - a - j)*(M*a*b*h/(w*(-Ae*f/Ap - M*h/w - f*n/(-b - Ap*n/Ae))*(-M*h*j/(w*(-Ae*f/Ap - M*h/w - f*n/(-b - Ap*n/Ae))) - a - j)) - b - d)) - Ap*M*h*n*p/(Ae*w*(-b - Ap*n/Ae)*(-Ae*f/Ap - M*h/w - f*n/(-b - Ap*n/Ae))))/(-M*h*j/(w*(-Ae*f/Ap - M*h/w - f*n/(-b - Ap*n/Ae))) - a - j) - Ap*M*a*b*h*n*p/(Ae*w*(-b - Ap*n/Ae)*(-Ae*f/Ap - M*h/w - f*n/(-b - Ap*n/Ae))*(-M*h*j/(w*(-Ae*f/Ap - M*h/w - f*n/(-b - Ap*n/Ae))) - a - j)*(M*a*b*h/(w*(-Ae*f/Ap - M*h/w - f*n/(-b - Ap*n/Ae))*(-M*h*j/(w*(-Ae*f/Ap - M*h/w - f*n/(-b - Ap*n/Ae))) - a - j)) - b - d)) + Ap*n*p/(Ae*(-b - Ap*n/Ae)))/(Ap*(-Ae*f/Ap - M*h/w - f*n/(-b - Ap*n/Ae))) - p)/a], \n",
    "                     [-(-Ae*f*(-j*(Ap*M**2*a*b*h**2*n*p/(Ae*w**2*(-b - Ap*n/Ae)*(-Ae*f/Ap - M*h/w - f*n/(-b - Ap*n/Ae))**2*(-M*h*j/(w*(-Ae*f/Ap - M*h/w - f*n/(-b - Ap*n/Ae))) - a - j)*(M*a*b*h/(w*(-Ae*f/Ap - M*h/w - f*n/(-b - Ap*n/Ae))*(-M*h*j/(w*(-Ae*f/Ap - M*h/w - f*n/(-b - Ap*n/Ae))) - a - j)) - b - d)) - Ap*M*h*n*p/(Ae*w*(-b - Ap*n/Ae)*(-Ae*f/Ap - M*h/w - f*n/(-b - Ap*n/Ae))))/(-M*h*j/(w*(-Ae*f/Ap - M*h/w - f*n/(-b - Ap*n/Ae))) - a - j) - Ap*M*a*b*h*n*p/(Ae*w*(-b - Ap*n/Ae)*(-Ae*f/Ap - M*h/w - f*n/(-b - Ap*n/Ae))*(-M*h*j/(w*(-Ae*f/Ap - M*h/w - f*n/(-b - Ap*n/Ae))) - a - j)*(M*a*b*h/(w*(-Ae*f/Ap - M*h/w - f*n/(-b - Ap*n/Ae))*(-M*h*j/(w*(-Ae*f/Ap - M*h/w - f*n/(-b - Ap*n/Ae))) - a - j)) - b - d)) + Ap*n*p/(Ae*(-b - Ap*n/Ae)))/(Ap*(-Ae*f/Ap - M*h/w - f*n/(-b - Ap*n/Ae))) - p)/u], \n",
    "                     [(-Ae*f*(-j*(Ap*M**2*a*b*h**2*n*p/(Ae*w**2*(-b - Ap*n/Ae)*(-Ae*f/Ap - M*h/w - f*n/(-b - Ap*n/Ae))**2*(-M*h*j/(w*(-Ae*f/Ap - M*h/w - f*n/(-b - Ap*n/Ae))) - a - j)*(M*a*b*h/(w*(-Ae*f/Ap - M*h/w - f*n/(-b - Ap*n/Ae))*(-M*h*j/(w*(-Ae*f/Ap - M*h/w - f*n/(-b - Ap*n/Ae))) - a - j)) - b - d)) - Ap*M*h*n*p/(Ae*w*(-b - Ap*n/Ae)*(-Ae*f/Ap - M*h/w - f*n/(-b - Ap*n/Ae))))/(-M*h*j/(w*(-Ae*f/Ap - M*h/w - f*n/(-b - Ap*n/Ae))) - a - j) - Ap*M*a*b*h*n*p/(Ae*w*(-b - Ap*n/Ae)*(-Ae*f/Ap - M*h/w - f*n/(-b - Ap*n/Ae))*(-M*h*j/(w*(-Ae*f/Ap - M*h/w - f*n/(-b - Ap*n/Ae))) - a - j)*(M*a*b*h/(w*(-Ae*f/Ap - M*h/w - f*n/(-b - Ap*n/Ae))*(-M*h*j/(w*(-Ae*f/Ap - M*h/w - f*n/(-b - Ap*n/Ae))) - a - j)) - b - d)) + Ap*n*p/(Ae*(-b - Ap*n/Ae)))/(Ap*(-Ae*f/Ap - M*h/w - f*n/(-b - Ap*n/Ae))) - p)/(-b - Ap*n/Ae)], \n",
    "                     [(-j*(Ap*M**2*a*b*h**2*n*p/(Ae*w**2*(-b - Ap*n/Ae)*(-Ae*f/Ap - M*h/w - f*n/(-b - Ap*n/Ae))**2*(-M*h*j/(w*(-Ae*f/Ap - M*h/w - f*n/(-b - Ap*n/Ae))) - a - j)*(M*a*b*h/(w*(-Ae*f/Ap - M*h/w - f*n/(-b - Ap*n/Ae))*(-M*h*j/(w*(-Ae*f/Ap - M*h/w - f*n/(-b - Ap*n/Ae))) - a - j)) - b - d)) - Ap*M*h*n*p/(Ae*w*(-b - Ap*n/Ae)*(-Ae*f/Ap - M*h/w - f*n/(-b - Ap*n/Ae))))/(-M*h*j/(w*(-Ae*f/Ap - M*h/w - f*n/(-b - Ap*n/Ae))) - a - j) - Ap*M*a*b*h*n*p/(Ae*w*(-b - Ap*n/Ae)*(-Ae*f/Ap - M*h/w - f*n/(-b - Ap*n/Ae))*(-M*h*j/(w*(-Ae*f/Ap - M*h/w - f*n/(-b - Ap*n/Ae))) - a - j)*(M*a*b*h/(w*(-Ae*f/Ap - M*h/w - f*n/(-b - Ap*n/Ae))*(-M*h*j/(w*(-Ae*f/Ap - M*h/w - f*n/(-b - Ap*n/Ae))) - a - j)) - b - d)) + Ap*n*p/(Ae*(-b - Ap*n/Ae)))/(-Ae*f/Ap - M*h/w - f*n/(-b - Ap*n/Ae))], \n",
    "                     [(Ap*M**2*a*b*h**2*n*p/(Ae*w**2*(-b - Ap*n/Ae)*(-Ae*f/Ap - M*h/w - f*n/(-b - Ap*n/Ae))**2*(-M*h*j/(w*(-Ae*f/Ap - M*h/w - f*n/(-b - Ap*n/Ae))) - a - j)*(M*a*b*h/(w*(-Ae*f/Ap - M*h/w - f*n/(-b - Ap*n/Ae))*(-M*h*j/(w*(-Ae*f/Ap - M*h/w - f*n/(-b - Ap*n/Ae))) - a - j)) - b - d)) - Ap*M*h*n*p/(Ae*w*(-b - Ap*n/Ae)*(-Ae*f/Ap - M*h/w - f*n/(-b - Ap*n/Ae))))/(-M*h*j/(w*(-Ae*f/Ap - M*h/w - f*n/(-b - Ap*n/Ae))) - a - j)], \n",
    "                     [-(-Ap*M**2*a**2*b*h**2*n*p/(Ae*w**2*(-b - Ap*n/Ae)*(-Ae*f/Ap - M*h/w - f*n/(-b - Ap*n/Ae))**2*(-M*h*j/(w*(-Ae*f/Ap - M*h/w - f*n/(-b - Ap*n/Ae))) - a - j)**2*(M*a*b*h/(w*(-Ae*f/Ap - M*h/w - f*n/(-b - Ap*n/Ae))*(-M*h*j/(w*(-Ae*f/Ap - M*h/w - f*n/(-b - Ap*n/Ae))) - a - j)) - b - d)) + Ap*M*a*h*n*p/(Ae*w*(-b - Ap*n/Ae)*(-Ae*f/Ap - M*h/w - f*n/(-b - Ap*n/Ae))*(-M*h*j/(w*(-Ae*f/Ap - M*h/w - f*n/(-b - Ap*n/Ae))) - a - j)))/u], \n",
    "                     [Ap*M*a*h*n*p/(Ae*w*(-b - Ap*n/Ae)*(-Ae*f/Ap - M*h/w - f*n/(-b - Ap*n/Ae))*(-M*h*j/(w*(-Ae*f/Ap - M*h/w - f*n/(-b - Ap*n/Ae))) - a - j)*(M*a*b*h/(w*(-Ae*f/Ap - M*h/w - f*n/(-b - Ap*n/Ae))*(-M*h*j/(w*(-Ae*f/Ap - M*h/w - f*n/(-b - Ap*n/Ae))) - a - j)) - b - d))]])\n",
    "\n",
    "for i in range(8):\n",
    "    print(f\"{i}: {raw_sol[i]}\")"
   ]
  },
  {
   "cell_type": "code",
   "execution_count": 3,
   "metadata": {},
   "outputs": [
    {
     "name": "stdout",
     "output_type": "stream",
     "text": [
      "([(x0, M/w), (x1, h*x0), (x2, f*n/(b + Ap*n/Ae)), (x3, Ae*f/Ap + x1 - x2), (x4, -x1/x3), (x5, j*x4), (x6, 1/(a + j + x5)), (x7, a*b*x6), (x8, x4*x7), (x9, 1/(b + d + x8)), (x10, 1/x3), (x11, x1*x10), (x12, x11*x7*x9 + 1), (x13, x10*x2), (x14, x8*x9 - 1)], [p*(x13*(j*x11*x12*x6 + x12) + 1 + j*(x13*(x14*x5*x6 - x14) + 1)/a)/(h*(Me + x0))])\n",
      "p*w*(-Ae*Ap*a*f*n*w*(b + d)*(Ae**2*a*b*f*w + Ae**2*b*f*j*w + Ae*Ap*M*a*b*h + Ap**2*M*a*h*n + Ap*M*h*j*(Ae*b + Ap*n)) + a*(Ap*M*a*b*h*(Ae*b + Ap*n) - (b + d)*(Ae**2*a*b*f*w + Ae**2*b*f*j*w + Ae*Ap*M*a*b*h + Ap**2*M*a*h*n))*(Ae**2*b*f*w + Ae*Ap*M*b*h + Ap**2*M*h*n) - j*(Ae*Ap*f*n*w*(b + d)*(Ae**2*a*b*f*w + Ae**2*b*f*j*w + Ae*Ap*M*a*b*h + Ap**2*M*a*h*n + Ap*M*h*j*(Ae*b + Ap*n)) - (Ap*M*a*b*h*(Ae*b + Ap*n) - (b + d)*(Ae**2*a*b*f*w + Ae**2*b*f*j*w + Ae*Ap*M*a*b*h + Ap**2*M*a*h*n))*(Ae**2*b*f*w + Ae*Ap*M*b*h + Ap**2*M*h*n)))/(a*h*(M + Me*w)*(Ap*M*a*b*h*(Ae*b + Ap*n) - (b + d)*(Ae**2*a*b*f*w + Ae**2*b*f*j*w + Ae*Ap*M*a*b*h + Ap**2*M*a*h*n))*(Ae**2*b*f*w + Ae*Ap*M*b*h + Ap**2*M*h*n))\n"
     ]
    }
   ],
   "source": [
    "## solving for P\n",
    "sol_0 = raw_sol[0]\n",
    "\n",
    "simplified_0 = sy.cse(sol_0, optimizations='basic')\n",
    "print(simplified_0)\n",
    "\n",
    "x0 = M/w\n",
    "x1 = sy.simplify(h*x0)\n",
    "x2 = sy.simplify(f*n/(b + Ap*n/Ae))\n",
    "x3 = sy.simplify(Ae*f/Ap + x1 - x2)\n",
    "x4 = sy.simplify(-x1/x3)\n",
    "x5 = sy.simplify(j*x4)\n",
    "x6 = sy.simplify(1/(a + j + x5))\n",
    "x7 = sy.simplify(a*b*x6)\n",
    "x8 = sy.simplify(x4*x7)\n",
    "x9 = sy.simplify(1/(b + d + x8))\n",
    "x10 = sy.simplify(1/x3)\n",
    "x11 = sy.simplify(x1*x10)\n",
    "x12 = sy.simplify(x11*x7*x9 + 1)\n",
    "x13 = sy.simplify(x10*x2)\n",
    "x14 = sy.simplify(x8*x9 - 1)\n",
    "\n",
    "sol0 = sy.simplify(p*(x13*(j*x11*x12*x6 + x12) + 1 + j*(x13*(x14*x5*x6 - x14) + 1)/a)/(h*(Me + x0)))\n",
    "print(sol0)\n"
   ]
  },
  {
   "cell_type": "code",
   "execution_count": 4,
   "id": "ede158bb",
   "metadata": {},
   "outputs": [],
   "source": [
    "## Pm computed in terminal\n",
    "\n",
    "Pm = p*(Ae*b + Ap*n)*(Ae*a*b*f*w + Ae*a*d*f*w + Ae*b*f*j*w + Ae*d*f*j*w + Ap*M*a*d*h)/(a*(Ae**2*a*b**2*f*w + Ae**2*a*b*d*f*w + Ae**2*b**2*f*j*w + Ae**2*b*d*f*j*w + Ae*Ap*M*a*b*d*h + Ap**2*M*a*d*h*n))"
   ]
  },
  {
   "cell_type": "code",
   "execution_count": 5,
   "id": "f9dcae94",
   "metadata": {},
   "outputs": [
    {
     "name": "stdout",
     "output_type": "stream",
     "text": [
      "p*w*(a + j)*(Ae*b + Ap*n)*(Ae*a*b*f*w + Ae*a*d*f*w + Ae*b*f*j*w + Ae*d*f*j*w + Ap*M*a*d*h)/(a*h*(M + Me*w)*(Ae**2*a*b**2*f*w + Ae**2*a*b*d*f*w + Ae**2*b**2*f*j*w + Ae**2*b*d*f*j*w + Ae*Ap*M*a*b*d*h + Ap**2*M*a*d*h*n))\n"
     ]
    }
   ],
   "source": [
    "print(sy.factor(sol0))"
   ]
  },
  {
   "cell_type": "code",
   "execution_count": 6,
   "id": "76715d69",
   "metadata": {},
   "outputs": [
    {
     "name": "stdout",
     "output_type": "stream",
     "text": [
      "([(x0, M*h/w), (x1, f*n/(b + Ap*n/Ae)), (x2, Ae*f/Ap + x0 - x1), (x3, 1/x2), (x4, -x0/x2), (x5, 1/(a + j*x4 + j)), (x6, a*b*x5), (x7, x0*x3), (x8, x6*x7/(b + d + x4*x6) + 1)], [p*(x1*x3*(j*x5*x7*x8 + x8) + 1)/u])\n",
      "p*(Ae**2*a*b**2*f*w + Ae**2*a*b*d*f*w + Ae**2*b**2*f*j*w + Ae**2*b*d*f*j*w + Ae*Ap*M*a*b*d*h + Ae*Ap*a*b*f*n*w + Ae*Ap*a*d*f*n*w + Ae*Ap*b*f*j*n*w + Ae*Ap*d*f*j*n*w + Ap**2*M*a*d*h*n)/(u*(Ae**2*a*b**2*f*w + Ae**2*a*b*d*f*w + Ae**2*b**2*f*j*w + Ae**2*b*d*f*j*w + Ae*Ap*M*a*b*d*h + Ap**2*M*a*d*h*n))\n",
      "p*(Ae*b + Ap*n)*(Ae*a*b*f*w + Ae*a*d*f*w + Ae*b*f*j*w + Ae*d*f*j*w + Ap*M*a*d*h)/(u*(Ae**2*a*b**2*f*w + Ae**2*a*b*d*f*w + Ae**2*b**2*f*j*w + Ae**2*b*d*f*j*w + Ae*Ap*M*a*b*d*h + Ap**2*M*a*d*h*n))\n"
     ]
    }
   ],
   "source": [
    "## solving for Pa\n",
    "sol_2 = raw_sol[2]\n",
    "\n",
    "simplified_2 = sy.cse(sol_2, optimizations='basic')\n",
    "print(simplified_2)\n",
    "\n",
    "x0 = M*h/w\n",
    "x1 = f*n/(b+Ap*n/Ae)\n",
    "x2 = sy.simplify(Ae*f/Ap + x0 - x1)\n",
    "x3 = sy.simplify(1/x2)\n",
    "x4 = sy.simplify(-x0/x2)\n",
    "x5 = sy.simplify(1/(a + j*x4 + j))\n",
    "x6 = sy.simplify(a*b*x5)\n",
    "x7 = sy.simplify(x0*x3)\n",
    "x8 = sy.simplify(x6*x7/(b + d + x4*x6) + 1)\n",
    "\n",
    "sol2 = sy.simplify(p*(x1*x3*(j*x5*x7*x8 + x8) + 1)/u)\n",
    "print(sol2)\n",
    "print(sy.factor(sol2))"
   ]
  },
  {
   "cell_type": "code",
   "execution_count": 7,
   "id": "01b49361",
   "metadata": {},
   "outputs": [
    {
     "name": "stdout",
     "output_type": "stream",
     "text": [
      "([(x0, 1/(b + Ap*n/Ae)), (x1, M*h/w), (x2, f*n*x0), (x3, Ae*f/Ap + x1 - x2), (x4, -x1/x3), (x5, j*x4), (x6, 1/(a + j + x5)), (x7, a*b*x4*x6), (x8, x7/(b + d + x7) - 1)], [p*x0*(x2*(x5*x6*x8 - x8)/x3 + 1)])\n",
      "Ae*p*(Ae*a*b*f*w + Ae*a*d*f*w + Ae*b*f*j*w + Ae*d*f*j*w + Ap*M*a*d*h)/(Ae**2*a*b**2*f*w + Ae**2*a*b*d*f*w + Ae**2*b**2*f*j*w + Ae**2*b*d*f*j*w + Ae*Ap*M*a*b*d*h + Ap**2*M*a*d*h*n)\n",
      "Ae*p*(Ae*a*b*f*w + Ae*a*d*f*w + Ae*b*f*j*w + Ae*d*f*j*w + Ap*M*a*d*h)/(Ae**2*a*b**2*f*w + Ae**2*a*b*d*f*w + Ae**2*b**2*f*j*w + Ae**2*b*d*f*j*w + Ae*Ap*M*a*b*d*h + Ap**2*M*a*d*h*n)\n"
     ]
    }
   ],
   "source": [
    "## simplifying Pu\n",
    "sol_3 = raw_sol[3]\n",
    "\n",
    "simplified_3 = sy.cse(sol_3, optimizations='basic')\n",
    "print(simplified_3)\n",
    "\n",
    "x0 = 1/(b + Ap*n/Ae)\n",
    "x1 = M*h/w\n",
    "x2 = sy.simplify(f*n*x0)\n",
    "x3 = sy.simplify(Ae*f/Ap + x1 - x2)\n",
    "x4 = sy.simplify(-x1/x3)\n",
    "x5 = sy.simplify(j*x4)\n",
    "x6 = sy.simplify(1/(a + j + x5))\n",
    "x7 = sy.simplify(a*b*x4*x6)\n",
    "x8 = sy.simplify(x7/(b + d + x7) - 1)\n",
    "\n",
    "sol3 = sy.simplify(p*x0*(x2*(x5*x6*x8 - x8)/x3 + 1))\n",
    "print(sol3)\n",
    "print(sy.factor(sol3))"
   ]
  },
  {
   "cell_type": "code",
   "execution_count": 8,
   "id": "1a442a37",
   "metadata": {},
   "outputs": [
    {
     "name": "stdout",
     "output_type": "stream",
     "text": [
      "([(x0, Ap*n/Ae), (x1, 1/(b + x0)), (x2, M*h/w), (x3, Ae*f/Ap - f*n*x1 + x2), (x4, 1/x3), (x5, -x2/x3), (x6, 1/(a + j*x5 + j)), (x7, a*b*x6), (x8, x2*x4), (x9, x7*x8/(b + d + x5*x7) + 1)], [p*x0*x1*x4*(j*x6*x8*x9 + x9)])\n",
      "Ap**2*n*p*w*(a*b + a*d + b*j + d*j)/(Ae**2*a*b**2*f*w + Ae**2*a*b*d*f*w + Ae**2*b**2*f*j*w + Ae**2*b*d*f*j*w + Ae*Ap*M*a*b*d*h + Ap**2*M*a*d*h*n)\n",
      "Ap**2*n*p*w*(a + j)*(b + d)/(Ae**2*a*b**2*f*w + Ae**2*a*b*d*f*w + Ae**2*b**2*f*j*w + Ae**2*b*d*f*j*w + Ae*Ap*M*a*b*d*h + Ap**2*M*a*d*h*n)\n"
     ]
    }
   ],
   "source": [
    "## simplifying E\n",
    "sol_4 = raw_sol[4]\n",
    "\n",
    "simplified_4 = sy.cse(sol_4, optimizations='basic')\n",
    "print(simplified_4)\n",
    "\n",
    "x0 = Ap*n/Ae\n",
    "x1 = sy.simplify(1/(b + x0))\n",
    "x2 = M*h/w\n",
    "x3 = sy.simplify(Ae*f/Ap - f*n*x1 + x2)\n",
    "x4 = sy.simplify(1/x3)\n",
    "x5 = sy.simplify(-x2/x3)\n",
    "x6 = sy.simplify(1/(a + j*x5 + j))\n",
    "x7 = sy.simplify(a*b*x6)\n",
    "x8 = sy.simplify(x2*x4)\n",
    "x9 = sy.simplify(x7*x8/(b + d + x5*x7) + 1)\n",
    "\n",
    "sol4 = sy.simplify(p*x0*x1*x4*(j*x6*x8*x9 + x9))\n",
    "print(sol4)\n",
    "print(sy.factor(sol4))"
   ]
  },
  {
   "cell_type": "code",
   "execution_count": 10,
   "id": "c3e448a6",
   "metadata": {},
   "outputs": [
    {
     "name": "stdout",
     "output_type": "stream",
     "text": [
      "([(x0, Ap*n/Ae), (x1, 1/(b + x0)), (x2, M*h/w), (x3, Ae*f/Ap - f*n*x1 + x2), (x4, 1/x3), (x5, j*x2), (x6, a + j), (x7, -1/x3), (x8, a*b*x2/(x5*x7 + x6))], [p*x0*x1*x2*x4*(x4*x8/(b + d + x7*x8) + 1)/(-x4*x5 + x6)])\n",
      "Ap**2*M*h*n*p*(b + d)/(Ae**2*a*b**2*f*w + Ae**2*a*b*d*f*w + Ae**2*b**2*f*j*w + Ae**2*b*d*f*j*w + Ae*Ap*M*a*b*d*h + Ap**2*M*a*d*h*n)\n",
      "Ap**2*M*h*n*p*(b + d)/(Ae**2*a*b**2*f*w + Ae**2*a*b*d*f*w + Ae**2*b**2*f*j*w + Ae**2*b*d*f*j*w + Ae*Ap*M*a*b*d*h + Ap**2*M*a*d*h*n)\n"
     ]
    }
   ],
   "source": [
    "## simplifying Em\n",
    "sol_5 = raw_sol[5]\n",
    "\n",
    "simplified_5 = sy.cse(sol_5, optimizations='basic')\n",
    "print(simplified_5)\n",
    "\n",
    "x0 = Ap*n/Ae\n",
    "x1 = sy.simplify(1/(b + x0))\n",
    "x2 = M*h/w\n",
    "x3 = sy.simplify(Ae*f/Ap - f*n*x1 + x2)\n",
    "x4 = sy.simplify(1/x3)\n",
    "x5 = sy.simplify(j*x2)\n",
    "x6 = a + j\n",
    "x7 = sy.simplify(-1/x3)\n",
    "x8 = sy.simplify(a*b*x2/(x5*x7 + x6))\n",
    "\n",
    "sol5 = sy.simplify(p*x0*x1*x2*x4*(x4*x8/(b + d + x7*x8) + 1)/(-x4*x5 + x6))\n",
    "print(sol5)\n",
    "print(sy.factor(sol5))"
   ]
  },
  {
   "cell_type": "code",
   "execution_count": 12,
   "id": "2e8ed2a3",
   "metadata": {},
   "outputs": [
    {
     "name": "stdout",
     "output_type": "stream",
     "text": [
      "([(x0, Ap*n/Ae), (x1, 1/(b + x0)), (x2, M*h/w), (x3, Ae*f/Ap - f*n*x1 + x2), (x4, 1/x3), (x5, j*x2), (x6, a + j), (x7, 1/(-x4*x5 + x6)), (x8, a*x2*x4), (x9, b*x8)], [p*x0*x1*x7*x8*(x7*x9/(b + d - x9/(x6 - x5/x3)) + 1)/u])\n",
      "Ap**2*M*a*h*n*p*(b + d)/(u*(Ae**2*a*b**2*f*w + Ae**2*a*b*d*f*w + Ae**2*b**2*f*j*w + Ae**2*b*d*f*j*w + Ae*Ap*M*a*b*d*h + Ap**2*M*a*d*h*n))\n",
      "Ap**2*M*a*h*n*p*(b + d)/(u*(Ae**2*a*b**2*f*w + Ae**2*a*b*d*f*w + Ae**2*b**2*f*j*w + Ae**2*b*d*f*j*w + Ae*Ap*M*a*b*d*h + Ap**2*M*a*d*h*n))\n"
     ]
    }
   ],
   "source": [
    "## simplifying Ea\n",
    "sol_6 = raw_sol[6]\n",
    "\n",
    "simplified_6 = sy.cse(sol_6, optimizations='basic')\n",
    "print(simplified_6)\n",
    "\n",
    "x0 = Ap*n/Ae\n",
    "x1 = sy.simplify(1/(b + x0))\n",
    "x2 = M*h/w\n",
    "x3 = sy.simplify(Ae*f/Ap - f*n*x1 + x2)\n",
    "x4 = sy.simplify(1/x3)\n",
    "x5 = sy.simplify(j*x2)\n",
    "x6 = a + j\n",
    "x7 = sy.simplify(1/(-x4*x5 + x6))\n",
    "x8 = sy.simplify(a*x2*x4)\n",
    "x9 = b*x8\n",
    "\n",
    "sol6 = sy.simplify(p*x0*x1*x7*x8*(x7*x9/(b + d - x9/(x6 - x5/x3)) + 1)/u)\n",
    "print(sol6)\n",
    "print(sy.factor(sol6))"
   ]
  },
  {
   "cell_type": "code",
   "execution_count": 14,
   "id": "e8bdc985",
   "metadata": {},
   "outputs": [
    {
     "name": "stdout",
     "output_type": "stream",
     "text": [
      "([(x0, Ap*n/Ae), (x1, 1/(b + x0)), (x2, M*h/w), (x3, Ae*f/Ap - f*n*x1 + x2), (x4, 1/x3), (x5, j*x2), (x6, a + j), (x7, a*x2*x4)], [p*x0*x1*x7/((-x4*x5 + x6)*(-b*x7/(x6 - x5/x3) + b + d))])\n",
      "Ap**2*M*a*h*n*p/(-Ap*M*a*b*h*(Ae*b + Ap*n) + (b + d)*(-Ap*M*h*j*(Ae*b + Ap*n) + (a + j)*(Ae**2*b*f*w + Ae*Ap*M*b*h + Ap**2*M*h*n)))\n",
      "Ap**2*M*a*h*n*p/(Ae**2*a*b**2*f*w + Ae**2*a*b*d*f*w + Ae**2*b**2*f*j*w + Ae**2*b*d*f*j*w + Ae*Ap*M*a*b*d*h + Ap**2*M*a*d*h*n)\n"
     ]
    }
   ],
   "source": [
    "## simplifying Eu\n",
    "sol_7 = raw_sol[7]\n",
    "\n",
    "simplified_7 = sy.cse(sol_7, optimizations='basic')\n",
    "print(simplified_7)\n",
    "\n",
    "x0 = Ap*n/Ae\n",
    "x1 = sy.simplify(1/(b + x0))\n",
    "x2 = M*h/w\n",
    "x3 = sy.simplify(Ae*f/Ap - f*n*x1 + x2)\n",
    "x4 = sy.simplify(1/x3)\n",
    "x5 = sy.simplify(j*x2)\n",
    "x6 = a + j\n",
    "x7 = sy.simplify(a*x2*x4)\n",
    "\n",
    "sol7 = sy.simplify(p*x0*x1*x7/((-x4*x5 + x6)*(-b*x7/(x6 - x5/x3) + b + d)))\n",
    "print(sol7)\n",
    "print(sy.factor(sol7))"
   ]
  }
 ],
 "metadata": {
  "kernelspec": {
   "display_name": "r_venv",
   "language": "python",
   "name": "python3"
  },
  "language_info": {
   "codemirror_mode": {
    "name": "ipython",
    "version": 3
   },
   "file_extension": ".py",
   "mimetype": "text/x-python",
   "name": "python",
   "nbconvert_exporter": "python",
   "pygments_lexer": "ipython3",
   "version": "3.10.12"
  }
 },
 "nbformat": 4,
 "nbformat_minor": 5
}
