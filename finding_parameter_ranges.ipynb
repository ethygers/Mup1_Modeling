{
 "cells": [
  {
   "cell_type": "code",
   "execution_count": 1,
   "id": "e98998da",
   "metadata": {},
   "outputs": [],
   "source": [
    "import sympy as sy\n",
    "import numpy as np\n",
    "from matplotlib import pyplot as plt"
   ]
  },
  {
   "cell_type": "code",
   "execution_count": 3,
   "id": "c57281f8",
   "metadata": {},
   "outputs": [],
   "source": [
    "# ORIGINAL PARAMETERS #\n",
    "\n",
    "p = 8.3e-5 #'' # units mup1 per millisecond (mup1 production rate)\n",
    "w = 32 # unitless (scale factor for pH difference)\n",
    "j = 100 #'' # per millisecond (methionine unbinding rate)\n",
    "kd = 8993 # (methionine dissociation constant)\n",
    "h = j / kd #'' # per micromolar per millisecond (methionine binding rate)\n",
    "f = .25 #'' # per millisecond (recycling rate)\n",
    "Ae = 47 # micrometers^3 (endosomal membrane surface area)\n",
    "Ap = 314 # micrometers^3 (plasma membrane surface area)\n",
    "u = 1 # per millisecond (ubiquitination rate)\n",
    "a = 10 #'' # per micromolar per millisecond (art 1 binding rate)\n",
    "b = 1 # per millisecond (deubiquitination rate)\n",
    "d = .002 #'' # per millisecond (degradation rate)\n",
    "n = 0.1 #'' # per millisecond (endocytosis rate)\n",
    "V = 523 # micrometers^3 (volume of cytoplasm)\n",
    "vmax = 174333.33 # micromolars*micrometers^3 per millisecond (maximal rate of methionine metabolism)\n",
    "        # can range from 0 to infty\n",
    "Km = 350 #'' # micromolars (methionin michaelis-menten constant)\n",
    "# vmax = 8.8e3\n",
    "# Km = 2.5\n",
    "Me = .1\n"
   ]
  },
  {
   "cell_type": "code",
   "execution_count": 4,
   "id": "facd4be1",
   "metadata": {},
   "outputs": [],
   "source": [
    "# change a parameter\n",
    "vmax = -1"
   ]
  },
  {
   "cell_type": "code",
   "execution_count": 5,
   "id": "a0eabd5d",
   "metadata": {},
   "outputs": [
    {
     "data": {
      "text/latex": [
       "$\\displaystyle \\frac{- 10.7748116 M^{3} - 97153.0956589924 M^{2} - 29222614.9945766 M + 1168885922.77476}{M \\left(523.0 M^{2} + 184723.6 M + 585760.0\\right)}$"
      ],
      "text/plain": [
       "(-10.7748116*M**3 - 97153.0956589924*M**2 - 29222614.9945766*M + 1168885922.77476)/(M*(523.0*M**2 + 184723.6*M + 585760.0))"
      ]
     },
     "execution_count": 5,
     "metadata": {},
     "output_type": "execute_result"
    }
   ],
   "source": [
    "# substitution into M to get equation for bisection method\n",
    "\n",
    "# establish sympy variables\n",
    "P, Pm, Pa, Pu, E, Em, Ea, Eu, M = sy.symbols(\"P, Pm, Pa, Pu, E, Em, Ea, Eu, M\")\n",
    "\n",
    "# steady states computed previously\n",
    "steady_states = {P : p*w*(M*a**2*d*h + M*a*d*h*j + a**2*b*f*w + a**2*d*f*w + 2*a*b*f*j*w + 2*a*d*f*j*w + b*f*j**2*w + d*f*j**2*w)/(M*a**2*d*h**2*(M + Me*w)),\n",
    "                 Pm : p*(M*a*d*h + a*b*f*w + a*d*f*w + b*f*j*w + d*f*j*w)/(M*a**2*d*h),\n",
    "                 Pa : p*(M*a*d*h + a*b*f*w + a*d*f*w + b*f*j*w + d*f*j*w)/(M*a*d*h*u),\n",
    "                 Pu : p*(M*a*d*h + a*b*f*w + a*d*f*w + b*f*j*w + d*f*j*w)/(M*a*d*h*n),\n",
    "                 E : Ap*p*w*(a*b + a*d + b*j + d*j)/(Ae*M*a*d*h),\n",
    "                 Em : Ap*p*(b + d)/(Ae*a*d),\n",
    "                 Ea : Ap*p*(b + d)/(Ae*d*u),\n",
    "                 Eu : Ap*p/(Ae*d)}\n",
    "\n",
    "# substitutions\n",
    "dM = -(h/w)*M*((Ap / V)*P + (Ae / V)*E) + (j + u)*((Ae / V)*Em + (Ap / V)*Pm) - vmax*M/(V*(Km + M))  # M \n",
    "\n",
    "new_dM = dM.subs(steady_states)\n",
    "new_dM = sy.simplify(new_dM)\n",
    "new_dM"
   ]
  },
  {
   "cell_type": "code",
   "execution_count": 6,
   "id": "b34c6ff4",
   "metadata": {},
   "outputs": [
    {
     "data": {
      "image/png": "[encoded data removed]",
      "text/plain": [
       "<Figure size 640x480 with 1 Axes>"
      ]
     },
     "metadata": {},
     "output_type": "display_data"
    }
   ],
   "source": [
    "dM_func = sy.lambdify(M, new_dM)\n",
    "\n",
    "# plot dM against M\n",
    "x_vals = np.linspace(5, 100, 1000)\n",
    "plt.plot(x_vals, dM_func(x_vals))\n",
    "plt.plot(x_vals, np.zeros_like(x_vals))\n",
    "# plt.ylim(-10, 10)\n",
    "plt.show()"
   ]
  },
  {
   "cell_type": "code",
   "execution_count": 2,
   "id": "924c3c4f",
   "metadata": {},
   "outputs": [],
   "source": [
    "\"\"\"Define the model\"\"\"\n",
    "from mup1_model import bisection_M\n",
    "\n",
    "def mup1_model(t, y, parameters):\n",
    "    \"\"\"Function coding the Mup1 trafficking model.\n",
    "    \n",
    "        Parameters:\n",
    "        - y (array, list): values of P, Pm, Pa, Pu, E, Em, Ea, Eu, M\"\"\"\n",
    "\n",
    "    P, Pm, Pa, Pu, E, Em, Ea, Eu, M = y \n",
    "    p, w, j, kd, h, f, Ae, Ap, u, a, b, d, n, V, vmax, Km, Me = parameters    # unpack for readability\n",
    "\n",
    "    # define the differential equations\n",
    "    dy = [\n",
    "        p - h*Me*P - (h/w)*M*P + j*Pm + f*(Ae/Ap)*E,                       # P\n",
    "        h*Me*P + (h/w)*M*P - j*Pm - a*Pm,                                 # Pm\n",
    "        a*Pm - u*Pa,                                                      # Pa\n",
    "        u*Pa - n*Pu,                                                      # Pu\n",
    "        n*(Ap/Ae)*Pu - f*E + b*Eu - (h/w)*E*M + j*Em,                      # E\n",
    "        (h/w)*E*M - a*Em - j*Em,                                          # Em\n",
    "        a*Em - u*Ea,                                                      # Ea\n",
    "        -b*Eu + u*Ea - d*Eu,                                             # Eu\n",
    "        -(h/w)*M*((Ap / V)*P + (Ae / V)*E) + (j + u)*((Ae / V)*Em + (Ap / V)*Pm) - vmax*M/(V*(Km + M))  # M \n",
    "        ]\n",
    "\n",
    "    return dy\n",
    "\n",
    "def mup1_steady_states(parameters):\n",
    "    \"\"\"Function to find the steady states of the Mup1 trafficking model.\n",
    "    \n",
    "        Parameters:\n",
    "        - parameters (array, list): values of the parameters\"\"\"\n",
    "    p, w, j, kd, h, f, Ae, Ap, u, a, b, d, n, V, vmax, Km, Me = parameters    # unpack for readability\n",
    "    M = bisection_M(Me)\n",
    "\n",
    "    steady_states = {'P' : p*w*(M*a**2*d*h + M*a*d*h*j + a**2*b*f*w + a**2*d*f*w + 2*a*b*f*j*w + 2*a*d*f*j*w + b*f*j**2*w + d*f*j**2*w)/(M*a**2*d*h**2*(M + Me*w)),\n",
    "                    'Pm' : p*(M*a*d*h + a*b*f*w + a*d*f*w + b*f*j*w + d*f*j*w)/(M*a**2*d*h),\n",
    "                    'Pa' : p*(M*a*d*h + a*b*f*w + a*d*f*w + b*f*j*w + d*f*j*w)/(M*a*d*h*u),\n",
    "                    'Pu' : p*(M*a*d*h + a*b*f*w + a*d*f*w + b*f*j*w + d*f*j*w)/(M*a*d*h*n),\n",
    "                     'E' : Ap*p*w*(a*b + a*d + b*j + d*j)/(Ae*M*a*d*h),\n",
    "                    'Em' : Ap*p*(b + d)/(Ae*a*d),\n",
    "                    'Ea' : Ap*p*(b + d)/(Ae*d*u),\n",
    "                    'Eu' : Ap*p/(Ae*d)}\n",
    "    \n",
    "\n",
    "    return sum(steady_states.values()) + M"
   ]
  },
  {
   "cell_type": "code",
   "execution_count": 3,
   "id": "ba4b6b2b",
   "metadata": {},
   "outputs": [
    {
     "data": {
      "application/vnd.jupyter.widget-view+json": {
       "model_id": "f2c72c47d2b0449a9b9b3a28ec44b41e",
       "version_major": 2,
       "version_minor": 0
      },
      "text/plain": [
       "Running model:   0%|          | 0/4352 [00:00<?, ?it/s]"
      ]
     },
     "metadata": {},
     "output_type": "display_data"
    },
    {
     "ename": "ValueError",
     "evalue": "not enough values to unpack (expected 17, got 16)",
     "output_type": "error",
     "traceback": [
      "\u001b[0;31m---------------------------------------------------------------------------\u001b[0m",
      "\u001b[0;31mValueError\u001b[0m                                Traceback (most recent call last)",
      "Cell \u001b[0;32mIn[3], line 45\u001b[0m\n\u001b[1;32m     42\u001b[0m t_eval \u001b[38;5;241m=\u001b[39m np\u001b[38;5;241m.\u001b[39mlinspace(\u001b[38;5;241m*\u001b[39mt_span, \u001b[38;5;241m10\u001b[39m)\n\u001b[1;32m     44\u001b[0m \u001b[38;5;28;01mfor\u001b[39;00m i, X \u001b[38;5;129;01min\u001b[39;00m \u001b[38;5;28menumerate\u001b[39m(tqdm(param_values, desc\u001b[38;5;241m=\u001b[39m\u001b[38;5;124m\"\u001b[39m\u001b[38;5;124mRunning model\u001b[39m\u001b[38;5;124m\"\u001b[39m)):\n\u001b[0;32m---> 45\u001b[0m     sol \u001b[38;5;241m=\u001b[39m \u001b[43msolve_ivp\u001b[49m\u001b[43m(\u001b[49m\u001b[43mmup1_model\u001b[49m\u001b[43m,\u001b[49m\u001b[43m \u001b[49m\u001b[43mt_span\u001b[49m\u001b[43m,\u001b[49m\u001b[43m \u001b[49m\u001b[43my0\u001b[49m\u001b[43m,\u001b[49m\u001b[43m \u001b[49m\u001b[43margs\u001b[49m\u001b[38;5;241;43m=\u001b[39;49m\u001b[43m(\u001b[49m\u001b[43mX\u001b[49m\u001b[43m,\u001b[49m\u001b[43m)\u001b[49m\u001b[43m,\u001b[49m\u001b[43m \u001b[49m\u001b[43mt_eval\u001b[49m\u001b[38;5;241;43m=\u001b[39;49m\u001b[43mt_eval\u001b[49m\u001b[43m)\u001b[49m\n\u001b[1;32m     46\u001b[0m     \u001b[38;5;66;03m# have it save the total amount of mup1\u001b[39;00m\n\u001b[1;32m     47\u001b[0m     Y[i] \u001b[38;5;241m=\u001b[39m \u001b[38;5;28msum\u001b[39m(sol\u001b[38;5;241m.\u001b[39my[:, \u001b[38;5;241m-\u001b[39m\u001b[38;5;241m1\u001b[39m])\n",
      "File \u001b[0;32m~/research/r_venv/lib/python3.10/site-packages/scipy/integrate/_ivp/ivp.py:557\u001b[0m, in \u001b[0;36msolve_ivp\u001b[0;34m(fun, t_span, y0, method, t_eval, dense_output, events, vectorized, args, **options)\u001b[0m\n\u001b[1;32m    554\u001b[0m \u001b[38;5;28;01mif\u001b[39;00m method \u001b[38;5;129;01min\u001b[39;00m METHODS:\n\u001b[1;32m    555\u001b[0m     method \u001b[38;5;241m=\u001b[39m METHODS[method]\n\u001b[0;32m--> 557\u001b[0m solver \u001b[38;5;241m=\u001b[39m \u001b[43mmethod\u001b[49m\u001b[43m(\u001b[49m\u001b[43mfun\u001b[49m\u001b[43m,\u001b[49m\u001b[43m \u001b[49m\u001b[43mt0\u001b[49m\u001b[43m,\u001b[49m\u001b[43m \u001b[49m\u001b[43my0\u001b[49m\u001b[43m,\u001b[49m\u001b[43m \u001b[49m\u001b[43mtf\u001b[49m\u001b[43m,\u001b[49m\u001b[43m \u001b[49m\u001b[43mvectorized\u001b[49m\u001b[38;5;241;43m=\u001b[39;49m\u001b[43mvectorized\u001b[49m\u001b[43m,\u001b[49m\u001b[43m \u001b[49m\u001b[38;5;241;43m*\u001b[39;49m\u001b[38;5;241;43m*\u001b[39;49m\u001b[43moptions\u001b[49m\u001b[43m)\u001b[49m\n\u001b[1;32m    559\u001b[0m \u001b[38;5;28;01mif\u001b[39;00m t_eval \u001b[38;5;129;01mis\u001b[39;00m \u001b[38;5;28;01mNone\u001b[39;00m:\n\u001b[1;32m    560\u001b[0m     ts \u001b[38;5;241m=\u001b[39m [t0]\n",
      "File \u001b[0;32m~/research/r_venv/lib/python3.10/site-packages/scipy/integrate/_ivp/rk.py:94\u001b[0m, in \u001b[0;36mRungeKutta.__init__\u001b[0;34m(self, fun, t0, y0, t_bound, max_step, rtol, atol, vectorized, first_step, **extraneous)\u001b[0m\n\u001b[1;32m     92\u001b[0m \u001b[38;5;28mself\u001b[39m\u001b[38;5;241m.\u001b[39mmax_step \u001b[38;5;241m=\u001b[39m validate_max_step(max_step)\n\u001b[1;32m     93\u001b[0m \u001b[38;5;28mself\u001b[39m\u001b[38;5;241m.\u001b[39mrtol, \u001b[38;5;28mself\u001b[39m\u001b[38;5;241m.\u001b[39matol \u001b[38;5;241m=\u001b[39m validate_tol(rtol, atol, \u001b[38;5;28mself\u001b[39m\u001b[38;5;241m.\u001b[39mn)\n\u001b[0;32m---> 94\u001b[0m \u001b[38;5;28mself\u001b[39m\u001b[38;5;241m.\u001b[39mf \u001b[38;5;241m=\u001b[39m \u001b[38;5;28;43mself\u001b[39;49m\u001b[38;5;241;43m.\u001b[39;49m\u001b[43mfun\u001b[49m\u001b[43m(\u001b[49m\u001b[38;5;28;43mself\u001b[39;49m\u001b[38;5;241;43m.\u001b[39;49m\u001b[43mt\u001b[49m\u001b[43m,\u001b[49m\u001b[43m \u001b[49m\u001b[38;5;28;43mself\u001b[39;49m\u001b[38;5;241;43m.\u001b[39;49m\u001b[43my\u001b[49m\u001b[43m)\u001b[49m\n\u001b[1;32m     95\u001b[0m \u001b[38;5;28;01mif\u001b[39;00m first_step \u001b[38;5;129;01mis\u001b[39;00m \u001b[38;5;28;01mNone\u001b[39;00m:\n\u001b[1;32m     96\u001b[0m     \u001b[38;5;28mself\u001b[39m\u001b[38;5;241m.\u001b[39mh_abs \u001b[38;5;241m=\u001b[39m select_initial_step(\n\u001b[1;32m     97\u001b[0m         \u001b[38;5;28mself\u001b[39m\u001b[38;5;241m.\u001b[39mfun, \u001b[38;5;28mself\u001b[39m\u001b[38;5;241m.\u001b[39mt, \u001b[38;5;28mself\u001b[39m\u001b[38;5;241m.\u001b[39my, \u001b[38;5;28mself\u001b[39m\u001b[38;5;241m.\u001b[39mf, \u001b[38;5;28mself\u001b[39m\u001b[38;5;241m.\u001b[39mdirection,\n\u001b[1;32m     98\u001b[0m         \u001b[38;5;28mself\u001b[39m\u001b[38;5;241m.\u001b[39merror_estimator_order, \u001b[38;5;28mself\u001b[39m\u001b[38;5;241m.\u001b[39mrtol, \u001b[38;5;28mself\u001b[39m\u001b[38;5;241m.\u001b[39matol)\n",
      "File \u001b[0;32m~/research/r_venv/lib/python3.10/site-packages/scipy/integrate/_ivp/base.py:138\u001b[0m, in \u001b[0;36mOdeSolver.__init__.<locals>.fun\u001b[0;34m(t, y)\u001b[0m\n\u001b[1;32m    136\u001b[0m \u001b[38;5;28;01mdef\u001b[39;00m \u001b[38;5;21mfun\u001b[39m(t, y):\n\u001b[1;32m    137\u001b[0m     \u001b[38;5;28mself\u001b[39m\u001b[38;5;241m.\u001b[39mnfev \u001b[38;5;241m+\u001b[39m\u001b[38;5;241m=\u001b[39m \u001b[38;5;241m1\u001b[39m\n\u001b[0;32m--> 138\u001b[0m     \u001b[38;5;28;01mreturn\u001b[39;00m \u001b[38;5;28;43mself\u001b[39;49m\u001b[38;5;241;43m.\u001b[39;49m\u001b[43mfun_single\u001b[49m\u001b[43m(\u001b[49m\u001b[43mt\u001b[49m\u001b[43m,\u001b[49m\u001b[43m \u001b[49m\u001b[43my\u001b[49m\u001b[43m)\u001b[49m\n",
      "File \u001b[0;32m~/research/r_venv/lib/python3.10/site-packages/scipy/integrate/_ivp/base.py:20\u001b[0m, in \u001b[0;36mcheck_arguments.<locals>.fun_wrapped\u001b[0;34m(t, y)\u001b[0m\n\u001b[1;32m     19\u001b[0m \u001b[38;5;28;01mdef\u001b[39;00m \u001b[38;5;21mfun_wrapped\u001b[39m(t, y):\n\u001b[0;32m---> 20\u001b[0m     \u001b[38;5;28;01mreturn\u001b[39;00m np\u001b[38;5;241m.\u001b[39masarray(\u001b[43mfun\u001b[49m\u001b[43m(\u001b[49m\u001b[43mt\u001b[49m\u001b[43m,\u001b[49m\u001b[43m \u001b[49m\u001b[43my\u001b[49m\u001b[43m)\u001b[49m, dtype\u001b[38;5;241m=\u001b[39mdtype)\n",
      "File \u001b[0;32m~/research/r_venv/lib/python3.10/site-packages/scipy/integrate/_ivp/ivp.py:529\u001b[0m, in \u001b[0;36msolve_ivp.<locals>.<lambda>\u001b[0;34m(t, x, fun)\u001b[0m\n\u001b[1;32m    523\u001b[0m     suggestion_tuple \u001b[38;5;241m=\u001b[39m (\n\u001b[1;32m    524\u001b[0m         \u001b[38;5;124m\"\u001b[39m\u001b[38;5;124mSupplied \u001b[39m\u001b[38;5;124m'\u001b[39m\u001b[38;5;124margs\u001b[39m\u001b[38;5;124m'\u001b[39m\u001b[38;5;124m cannot be unpacked. Please supply `args`\u001b[39m\u001b[38;5;124m\"\u001b[39m\n\u001b[1;32m    525\u001b[0m         \u001b[38;5;124mf\u001b[39m\u001b[38;5;124m\"\u001b[39m\u001b[38;5;124m as a tuple (e.g. `args=(\u001b[39m\u001b[38;5;132;01m{\u001b[39;00margs\u001b[38;5;132;01m}\u001b[39;00m\u001b[38;5;124m,)`)\u001b[39m\u001b[38;5;124m\"\u001b[39m\n\u001b[1;32m    526\u001b[0m     )\n\u001b[1;32m    527\u001b[0m     \u001b[38;5;28;01mraise\u001b[39;00m \u001b[38;5;167;01mTypeError\u001b[39;00m(suggestion_tuple) \u001b[38;5;28;01mfrom\u001b[39;00m \u001b[38;5;21;01mexp\u001b[39;00m\n\u001b[0;32m--> 529\u001b[0m fun \u001b[38;5;241m=\u001b[39m \u001b[38;5;28;01mlambda\u001b[39;00m t, x, fun\u001b[38;5;241m=\u001b[39mfun: \u001b[43mfun\u001b[49m\u001b[43m(\u001b[49m\u001b[43mt\u001b[49m\u001b[43m,\u001b[49m\u001b[43m \u001b[49m\u001b[43mx\u001b[49m\u001b[43m,\u001b[49m\u001b[43m \u001b[49m\u001b[38;5;241;43m*\u001b[39;49m\u001b[43margs\u001b[49m\u001b[43m)\u001b[49m\n\u001b[1;32m    530\u001b[0m jac \u001b[38;5;241m=\u001b[39m options\u001b[38;5;241m.\u001b[39mget(\u001b[38;5;124m'\u001b[39m\u001b[38;5;124mjac\u001b[39m\u001b[38;5;124m'\u001b[39m)\n\u001b[1;32m    531\u001b[0m \u001b[38;5;28;01mif\u001b[39;00m \u001b[38;5;28mcallable\u001b[39m(jac):\n",
      "Cell \u001b[0;32mIn[2], line 11\u001b[0m, in \u001b[0;36mmup1_model\u001b[0;34m(t, y, parameters)\u001b[0m\n\u001b[1;32m      5\u001b[0m \u001b[38;5;250m\u001b[39m\u001b[38;5;124;03m\"\"\"Function coding the Mup1 trafficking model.\u001b[39;00m\n\u001b[1;32m      6\u001b[0m \u001b[38;5;124;03m\u001b[39;00m\n\u001b[1;32m      7\u001b[0m \u001b[38;5;124;03m    Parameters:\u001b[39;00m\n\u001b[1;32m      8\u001b[0m \u001b[38;5;124;03m    - y (array, list): values of P, Pm, Pa, Pu, E, Em, Ea, Eu, M\"\"\"\u001b[39;00m\n\u001b[1;32m     10\u001b[0m P, Pm, Pa, Pu, E, Em, Ea, Eu, M \u001b[38;5;241m=\u001b[39m y \n\u001b[0;32m---> 11\u001b[0m p, w, j, kd, h, f, Ae, Ap, u, a, b, d, n, V, vmax, Km, Me \u001b[38;5;241m=\u001b[39m parameters    \u001b[38;5;66;03m# unpack for readability\u001b[39;00m\n\u001b[1;32m     13\u001b[0m \u001b[38;5;66;03m# define the differential equations\u001b[39;00m\n\u001b[1;32m     14\u001b[0m dy \u001b[38;5;241m=\u001b[39m [\n\u001b[1;32m     15\u001b[0m     p \u001b[38;5;241m-\u001b[39m h\u001b[38;5;241m*\u001b[39mMe\u001b[38;5;241m*\u001b[39mP \u001b[38;5;241m-\u001b[39m (h\u001b[38;5;241m/\u001b[39mw)\u001b[38;5;241m*\u001b[39mM\u001b[38;5;241m*\u001b[39mP \u001b[38;5;241m+\u001b[39m j\u001b[38;5;241m*\u001b[39mPm \u001b[38;5;241m+\u001b[39m f\u001b[38;5;241m*\u001b[39m(Ae\u001b[38;5;241m/\u001b[39mAp)\u001b[38;5;241m*\u001b[39mE,                       \u001b[38;5;66;03m# P\u001b[39;00m\n\u001b[1;32m     16\u001b[0m     h\u001b[38;5;241m*\u001b[39mMe\u001b[38;5;241m*\u001b[39mP \u001b[38;5;241m+\u001b[39m (h\u001b[38;5;241m/\u001b[39mw)\u001b[38;5;241m*\u001b[39mM\u001b[38;5;241m*\u001b[39mP \u001b[38;5;241m-\u001b[39m j\u001b[38;5;241m*\u001b[39mPm \u001b[38;5;241m-\u001b[39m a\u001b[38;5;241m*\u001b[39mPm,                                 \u001b[38;5;66;03m# Pm\u001b[39;00m\n\u001b[0;32m   (...)\u001b[0m\n\u001b[1;32m     23\u001b[0m     \u001b[38;5;241m-\u001b[39m(h\u001b[38;5;241m/\u001b[39mw)\u001b[38;5;241m*\u001b[39mM\u001b[38;5;241m*\u001b[39m((Ap \u001b[38;5;241m/\u001b[39m V)\u001b[38;5;241m*\u001b[39mP \u001b[38;5;241m+\u001b[39m (Ae \u001b[38;5;241m/\u001b[39m V)\u001b[38;5;241m*\u001b[39mE) \u001b[38;5;241m+\u001b[39m (j \u001b[38;5;241m+\u001b[39m u)\u001b[38;5;241m*\u001b[39m((Ae \u001b[38;5;241m/\u001b[39m V)\u001b[38;5;241m*\u001b[39mEm \u001b[38;5;241m+\u001b[39m (Ap \u001b[38;5;241m/\u001b[39m V)\u001b[38;5;241m*\u001b[39mPm) \u001b[38;5;241m-\u001b[39m vmax\u001b[38;5;241m*\u001b[39mM\u001b[38;5;241m/\u001b[39m(V\u001b[38;5;241m*\u001b[39m(Km \u001b[38;5;241m+\u001b[39m M))  \u001b[38;5;66;03m# M \u001b[39;00m\n\u001b[1;32m     24\u001b[0m     ]\n",
      "\u001b[0;31mValueError\u001b[0m: not enough values to unpack (expected 17, got 16)"
     ]
    }
   ],
   "source": [
    "\"\"\"Parameter Sensitivity Analysis\"\"\"\n",
    "from SALib.sample import saltelli, sobol as sobol_sample\n",
    "from SALib.analyze import sobol\n",
    "from SALib.test_functions import Ishigami\n",
    "from scipy.integrate import solve_ivp\n",
    "from tqdm.notebook import tqdm\n",
    "\n",
    "# set up problem\n",
    "problem = {\n",
    "    'num_vars': 16,\n",
    "    'names': ['p', 'w', 'j', 'kd', 'h', 'f', 'Ae', 'Ap', 'u', 'a', 'b', 'd', 'n', 'V', 'vmax', 'Km'],\n",
    "    'bounds': [[8e-5, 8.5e-5],\n",
    "               [30, 34],\n",
    "               [50, 150],\n",
    "               [2182, 9102],\n",
    "               [50, 150],\n",
    "               [.1, .5],\n",
    "               [30, 60],\n",
    "               [250, 350],\n",
    "               [.5, 2],\n",
    "               [5, 15],\n",
    "               [.5, 2],\n",
    "               [.001, .003],\n",
    "               [.001, .2],\n",
    "               [475, 575],\n",
    "               [100, 500000],\n",
    "               [10, 500]]\n",
    "}\n",
    "\n",
    "# generate samples using Saltelli sampler\n",
    "param_values = sobol_sample.sample(problem, 128)\n",
    "\n",
    "# loop over sample inputs and run model\n",
    "Y = np.zeros([param_values.shape[0]])\n",
    "\n",
    "# set up for use with solve_ivp\n",
    "# Choose initial conditions\n",
    "y0 = [0, 0, 0, 0, 0, 0, 0, 0, 0]\n",
    "\n",
    "# Time span for integration\n",
    "t_span = (0, 50)\n",
    "t_eval = np.linspace(*t_span, 10)\n",
    "\n",
    "for i, X in enumerate(tqdm(param_values, desc=\"Running model\")):\n",
    "    sol = solve_ivp(mup1_model, t_span, y0, args=(X,), t_eval=t_eval)\n",
    "    # have it save the total amount of mup1\n",
    "    Y[i] = sum(sol.y[:, -1])\n",
    "\n",
    "# compute sensitivity indices using model outputs\n",
    "Si = sobol.analyze(problem, Y)\n",
    "\n",
    "Si.plot()\n",
    "plt.show()\n"
   ]
  },
  {
   "cell_type": "code",
   "execution_count": 6,
   "id": "24a401e5",
   "metadata": {},
   "outputs": [
    {
     "name": "stdout",
     "output_type": "stream",
     "text": [
      "Starting multiprocessing\n"
     ]
    },
    {
     "data": {
      "application/vnd.jupyter.widget-view+json": {
       "model_id": "c497470929f24129b3c5a94190fd2d4f",
       "version_major": 2,
       "version_minor": 0
      },
      "text/plain": [
       "Running model in parallel:   0%|          | 0/576 [00:00<?, ?it/s]"
      ]
     },
     "metadata": {},
     "output_type": "display_data"
    },
    {
     "data": {
      "image/png": "[encoded data removed]",
      "text/plain": [
       "<Figure size 640x480 with 1 Axes>"
      ]
     },
     "metadata": {},
     "output_type": "display_data"
    }
   ],
   "source": [
    "\"\"\"Trying it again using multiprocessing\"\"\"\n",
    "\n",
    "from multiprocessing import Pool\n",
    "from SALib.sample import sobol as sobol_sample, morris as morris_sample\n",
    "from SALib.analyze import sobol, morris\n",
    "from scipy.integrate import solve_ivp\n",
    "from tqdm.notebook import tqdm\n",
    "\n",
    "# set up problem\n",
    "problem = {\n",
    "    'num_vars': 17,\n",
    "    'names': ['p', 'w', 'j', 'kd', 'h', 'f', 'Ae', 'Ap', 'u', 'a', 'b', 'd', 'n', 'V', 'vmax', 'Km', 'Me'],\n",
    "    'bounds': [[8e-5, 8.5e-5],\n",
    "               [30, 34],\n",
    "               [50, 150],\n",
    "               [2182, 9102],\n",
    "               [50, 150],\n",
    "               [.1, .5],\n",
    "               [30, 60],\n",
    "               [250, 350],\n",
    "               [.5, 2],\n",
    "               [5, 15],\n",
    "               [.5, 2],\n",
    "               [.001, .003],\n",
    "               [.001, .2],\n",
    "               [475, 575],\n",
    "               [100000, 500000],\n",
    "               [10, 500],\n",
    "               [.1, 20]]\n",
    "}\n",
    "\n",
    "# generate samples using Saltelli sampler\n",
    "param_values = morris_sample.sample(problem, 32)\n",
    "\n",
    "# loop over sample inputs and run model\n",
    "Y = np.zeros([param_values.shape[0]])\n",
    "\n",
    "def run_model(X):\n",
    "    # set up for use with solve_ivp\n",
    "    y0 = [0, 0, 0, 0, 0, 0, 0, 0, 0]\n",
    "    t_span = (0, 50)\n",
    "    t_eval = np.linspace(*t_span, 10)\n",
    "    \n",
    "    sol = solve_ivp(mup1_model, t_span, y0, args=(X,), t_eval=t_eval)\n",
    "    return sum(sol.y[:, -1])\n",
    "\n",
    "print(\"Starting multiprocessing\")\n",
    "# Use multiprocessing to run the model in parallel\n",
    "with Pool() as pool:\n",
    "    # Use map instead of imap to maintain order\n",
    "    Y = list(tqdm(pool.imap(run_model, param_values), \n",
    "                    total=len(param_values),\n",
    "                    desc=\"Running model in parallel\"))\n",
    "\n",
    "# Convert to numpy array\n",
    "Y = np.array(Y)\n",
    "\n",
    "# compute sensitivity indices using model outputs\n",
    "Si = morris.analyze(problem, param_values, Y)\n",
    "\n",
    "Si.plot()\n",
    "plt.tight_layout()\n",
    "plt.savefig(\"sensitivity_analysis_morris_reduced_vmax_3.png\")\n",
    "plt.show()\n",
    "\n"
   ]
  },
  {
   "cell_type": "code",
   "execution_count": 5,
   "id": "1065783f",
   "metadata": {},
   "outputs": [
    {
     "name": "stdout",
     "output_type": "stream",
     "text": [
      "{'names': array(['p', 'w', 'j', 'kd', 'h', 'f', 'Ae', 'Ap', 'u', 'a', 'b', 'd', 'n',\n",
      "       'V', 'vmax', 'Km', 'Me'], dtype='<U4'), 'mu': masked_array(data=[0.14172381389942185, 0.1721237898514752,\n",
      "                   1.3950771003621076, 0.0, -1.4361781819235522,\n",
      "                   1.8668097324829036, -0.6549477215165088,\n",
      "                   0.3225214337139605, -0.6249702185942169,\n",
      "                   -1.3710886709741386, 2.384118951672787,\n",
      "                   -2.406594317123489, -4.079290401351, 0.0, 0.0, 0.0,\n",
      "                   8.892627380540683],\n",
      "             mask=[False, False, False, False, False, False, False, False,\n",
      "                   False, False, False, False, False, False, False, False,\n",
      "                   False],\n",
      "       fill_value=1e+20), 'mu_star': masked_array(data=[0.14172381389942185, 0.1721237898514752,\n",
      "                   1.3950771003621076, 0.0, 1.4361781819235522,\n",
      "                   1.8668097324829036, 0.6549477215165088,\n",
      "                   0.3225214337139605, 0.6249702185942169,\n",
      "                   1.3710886709741386, 2.384118951672787,\n",
      "                   2.406594317123489, 4.079290401351, 0.0, 0.0, 0.0,\n",
      "                   9.369944572505922],\n",
      "             mask=[False, False, False, False, False, False, False, False,\n",
      "                   False, False, False, False, False, False, False, False,\n",
      "                   False],\n",
      "       fill_value=1e+20), 'sigma': array([ 0.2615026 ,  0.46102649,  5.0361362 ,  0.        ,  5.10971716,\n",
      "        5.43613817,  0.4489909 ,  0.23084728,  0.59101455,  4.04606408,\n",
      "        5.05629245,  4.01169621,  7.90469902,  0.        ,  0.        ,\n",
      "        0.        , 10.09836979]), 'mu_star_conf': masked_array(data=[0.015561590068196596, 0.02646237082701918,\n",
      "                   0.329783763791989, 0.0, 0.32491002083693704,\n",
      "                   0.3251391175658427, 0.02973746137425838,\n",
      "                   0.015131381209466187, 0.037494064123722186,\n",
      "                   0.25186411215795734, 0.29681291662193277,\n",
      "                   0.24685119210069353, 0.4309954014700833, 0.0, 0.0, 0.0,\n",
      "                   0.577101886598792],\n",
      "             mask=[False, False, False, False, False, False, False, False,\n",
      "                   False, False, False, False, False, False, False, False,\n",
      "                   False],\n",
      "       fill_value=1e+20)}\n"
     ]
    }
   ],
   "source": [
    "print(Si)"
   ]
  }
 ],
 "metadata": {
  "kernelspec": {
   "display_name": "r_venv",
   "language": "python",
   "name": "python3"
  },
  "language_info": {
   "codemirror_mode": {
    "name": "ipython",
    "version": 3
   },
   "file_extension": ".py",
   "mimetype": "text/x-python",
   "name": "python",
   "nbconvert_exporter": "python",
   "pygments_lexer": "ipython3",
   "version": "3.10.12"
  }
 },
 "nbformat": 4,
 "nbformat_minor": 5
}
