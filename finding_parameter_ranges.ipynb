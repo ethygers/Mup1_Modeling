{
 "cells": [
  {
   "cell_type": "code",
   "execution_count": 1,
   "id": "e98998da",
   "metadata": {},
   "outputs": [],
   "source": [
    "import sympy as sy\n",
    "import numpy as np\n",
    "from matplotlib import pyplot as plt"
   ]
  },
  {
   "cell_type": "code",
   "execution_count": 2,
   "id": "c57281f8",
   "metadata": {},
   "outputs": [],
   "source": [
    "# ORIGINAL PARAMETERS #\n",
    "\n",
    "y = 8.3e-5 #'' # units mup1 per millisecond (mup1 production rate)\n",
    "w = 32 # unitless (scale factor for pH difference)\n",
    "j = 100 #'' # per millisecond (methionine unbinding rate)\n",
    "kd = 8993 # (methionine dissociation constant)\n",
    "k = j / kd #'' # per micromolar per millisecond (methionine binding rate)\n",
    "f = .25 #'' # per millisecond (recycling rate)\n",
    "Ae = 47 # micrometers^3 (endosomal membrane surface area)\n",
    "Ap = 314 # micrometers^3 (plasma membrane surface area)\n",
    "a = 1 # per millisecond (ubiquitination rate)\n",
    "h = 10 #'' # per micromolar per millisecond (art 1 binding rate)\n",
    "b = 1 # per millisecond (deubiquitination rate)\n",
    "z = .002 #'' # per millisecond (degradation rate)\n",
    "g = 0.1 #'' # per millisecond (endocytosis rate)\n",
    "V = 523 # micrometers^3 (volume of cytoplasm)\n",
    "vmax = 174333.33 # micromolars*micrometers^3 per millisecond (maximal rate of methionine metabolism)\n",
    "        # can range from 0 to infty\n",
    "Km = 350 #'' # micromolars (methionin michaelis-menten constant)\n",
    "# vmax = 8.8e3\n",
    "# Km = 2.5\n",
    "Me = .1\n"
   ]
  },
  {
   "cell_type": "code",
   "execution_count": 3,
   "id": "4140b894",
   "metadata": {},
   "outputs": [],
   "source": [
    "\"\"\"OLD PARAMETERS\"\"\"\n",
    "\n",
    "# parameters (filled in the ones I think would be the same or similar to Fur4)\n",
    "y = 8.3e-5 #'' # units mup1 per millisecond (mup1 production rate)\n",
    "k = 100 / 8993 #'' # per micromolar per millisecond (methionine binding rate)\n",
    "w = 32 # unitless (scale factor for pH difference)\n",
    "j = 100 #'' # per millisecond (methionine unbinding rate)\n",
    "f = .25 #'' # per millisecond (recycling rate)\n",
    "Ae = 47 # micrometers^3 (endosomal membrane surface area)\n",
    "Ap = 314 # micrometers^3 (plasma membrane surface area)\n",
    "a = 1 # per millisecond (ubiquitination rate)\n",
    "h = 1e-5 #'' # per micromolar per millisecond (art 1 binding rate)\n",
    "b = 1 # per millisecond (deubiquitination rate)\n",
    "z = .002 #'' # per millisecond (degradation rate)\n",
    "g = 0.1 #'' # per millisecond (endocytosis rate)\n",
    "V = 523 # micrometers^3 (volume of cytoplasm)\n",
    "vmax = 8.8e3 #'' # micromolars*micrometers^3 per millisecond (maximal rate of methionine metabolism)\n",
    "Km = 2.5 #'' # micromolars (methionine michaelis-menten constant)\n",
    "Me = 1"
   ]
  },
  {
   "cell_type": "code",
   "execution_count": 4,
   "id": "facd4be1",
   "metadata": {},
   "outputs": [],
   "source": [
    "# change a parameter\n",
    "vmax = 174333.33\n",
    "Km = 350\n",
    "h = .65\n",
    "j = 100\n",
    "kd = 2188\n",
    "k = j / kd\n"
   ]
  },
  {
   "cell_type": "code",
   "execution_count": null,
   "id": "a0eabd5d",
   "metadata": {},
   "outputs": [
    {
     "data": {
      "text/latex": [
       "$\\displaystyle \\frac{- 174326.285240923 M^{3} - 5385283.62994935 M^{2} + 1826531394.96217 M + 615898623350.976}{M \\left(523.0 M^{2} + 199786.0 M + 5857600.0\\right)}$"
      ],
      "text/plain": [
       "(-174326.285240923*M**3 - 5385283.62994935*M**2 + 1826531394.96217*M + 615898623350.976)/(M*(523.0*M**2 + 199786.0*M + 5857600.0))"
      ]
     },
     "execution_count": 5,
     "metadata": {},
     "output_type": "execute_result"
    }
   ],
   "source": [
    "# substitution into M to get equation for bisection method\n",
    "\n",
    "# establish sympy variables\n",
    "P, Pb, Pa, Pu, E, Em, Ea, Eu, M = sy.symbols(\"P, Pb, Pa, Pu, E, Em, Ea, Eu, M\")\n",
    "\n",
    "# steady states computed previously\n",
    "steady_states = {P : y*w*(M*h**2*z*k + M*h*z*k*j + h**2*b*f*w + h**2*z*f*w + 2*h*b*f*j*w + 2*h*z*f*j*w + b*f*j**2*w + z*f*j**2*w)/(M*h**2*z*k**2*(M + Me*w)),\n",
    "                 Pb : y*(M*h*z*k + h*b*f*w + h*z*f*w + b*f*j*w + z*f*j*w)/(M*h**2*z*k),\n",
    "                 Pa : y*(M*h*z*k + h*b*f*w + h*z*f*w + b*f*j*w + z*f*j*w)/(M*h*z*k*a),\n",
    "                 Pu : y*(M*h*z*k + h*b*f*w + h*z*f*w + b*f*j*w + z*f*j*w)/(M*h*z*k*g),\n",
    "                 E : Ap*y*w*(h*b + h*z + b*j + z*j)/(Ae*M*h*z*k),\n",
    "                 Em : Ap*y*(b + z)/(Ae*h*z),\n",
    "                 Ea : Ap*y*(b + z)/(Ae*z*a),\n",
    "                 Eu : Ap*y/(Ae*z)}\n",
    "\n",
    "# substitutions\n",
    "dM = -(k/w)*M*((Ap / V)*P + (Ae / V)*E) + (j + a)*((Ae / V)*Em + (Ap / V)*Pb) - vmax*M/(V*(Km + M))  # M \n",
    "\n",
    "new_dM = dM.subs(steady_states)\n",
    "new_dM = sy.simplify(new_dM)\n",
    "new_dM"
   ]
  },
  {
   "cell_type": "code",
   "execution_count": 6,
   "id": "b34c6ff4",
   "metadata": {},
   "outputs": [
    {
     "name": "stdout",
     "output_type": "stream",
     "text": [
      "519.5723202778026\n"
     ]
    },
    {
     "data": {
      "image/png": "[encoded data removed]",
      "text/plain": [
       "<Figure size 640x480 with 1 Axes>"
      ]
     },
     "metadata": {},
     "output_type": "display_data"
    }
   ],
   "source": [
    "# dM_func = sy.lambdify(M, new_dM)\n",
    "\n",
    "# # plot dM against M\n",
    "# x_vals = np.linspace(0.001, 200, 1000)\n",
    "# plt.plot(x_vals, dM_func(x_vals))\n",
    "# plt.plot(x_vals, np.zeros_like(x_vals))\n",
    "# plt.ylim(-100, 500)\n",
    "# plt.show()\n",
    "\n",
    "Me = sy.symbols(\"Me\")\n",
    "\n",
    "def bisection_M(m, dM=sy.lambdify(Me, (-Ap*M*y*(Km + M)*(M*y**2*z*k + M*h*z*k*j + h**2*b*f*w + h**2*z*f*w + 2*h*b*f*j*w + 2*h*z*f*j*w + h*k*(M + Me*w)*(h*b + h*z + b*j + z*j) + b*f*j**2*w + z*f*j**2*w) + Ap*y*(Km + M)*(M + Me*w)*(j + a)*(M*h*z*k + M*h*k*(b + z) + h*b*f*w + h*z*f*w + b*f*j*w + z*f*j*w) - M**2*h**2*z*k*vmax*(M + Me*w))/(M*V*h**2*z*k*(Km + M)*(M + Me*w))), \n",
    "                y=8.3e-5, k=135, w=32, j=100, f=.25, Ae=47, Ap=314, a=1,\n",
    "                h=1e-5, b=1, z=.002, g=0.1, V=523, vmax=8.8e3, Km=2.5, bounds=[0, 4000], maxiter=10000):\n",
    "    \"\"\"Solving for the steady state of M at a given methionine value Me\n",
    "        \n",
    "        Parameters:\n",
    "        - Me (float): amount of extracellular methionine\n",
    "        - dM (sympy lambda function): differential equation in terms of extracellular methionine input as independent variable\n",
    "        - parameters (floats, optional): set to the values we currently have, can be changed as needed\n",
    "        - bounds (list, optional): initial upper and lower bound for the bisection method\"\"\"\n",
    "    # save dM with substitutions for all other variables (computed in steady_states_simplification.ipynb)\n",
    "    dM = sy.simplify(dM(m))\n",
    "    dM_eq = sy.lambdify(M, dM)\n",
    "\n",
    "    # assign variables for beginning, end, and midpoint\n",
    "    x0, x1 = bounds[0], bounds[1]\n",
    "\n",
    "    # use a loop to continue splitting the interval until you find 0\n",
    "    for i in range(maxiter):\n",
    "        # assign midpoint\n",
    "        xmid = (x0 + x1) / 2    # so that it updates every time\n",
    "\n",
    "        # check function at midpoint\n",
    "        if np.isclose(dM_eq(xmid), 0):\n",
    "            return xmid\n",
    "        elif (dM_eq(xmid) > 0):   # if greater than zero, it should replace the left endpoint\n",
    "            x0 = xmid\n",
    "        else:                  # if less than zero, it should replace right endpoint\n",
    "            x1 = xmid\n",
    "    \n",
    "    # raise runtime error if it doesn't converge\n",
    "    print(m)\n",
    "    raise RuntimeError(f\"Failed to converge in {maxiter} steps\")\n",
    "\n",
    "# graph to see if it works for wide range of values\n",
    "print(bisection_M(1000))\n",
    "\n",
    "mvals = np.linspace(1, 1000, 50)\n",
    "plt.plot(mvals, [bisection_M(m) for m in mvals])\n",
    "plt.title(f\"Methionine (h = {h}, Kd = {kd})\")\n",
    "plt.xlabel(\"Me\")\n",
    "plt.ylabel(\"M\")\n",
    "# plt.savefig(f\"Images/varying_parameters/normal_except_h={h}_Kd={kd}.png\")\n",
    "plt.show()"
   ]
  },
  {
   "cell_type": "code",
   "execution_count": null,
   "id": "924c3c4f",
   "metadata": {},
   "outputs": [],
   "source": [
    "\"\"\"Define the model\"\"\"\n",
    "from mup1_model import bisection_M\n",
    "\n",
    "def mup1_model(t, y, parameters):\n",
    "    \"\"\"Function coding the Mup1 trafficking model.\n",
    "    \n",
    "        Parameters:\n",
    "        - y (array, list): values of P, Pb, Pa, Pu, E, Em, Ea, Eu, M\"\"\"\n",
    "\n",
    "    P, Pb, Pa, Pu, E, Em, Ea, Eu, M = y \n",
    "    y, w, j, kd, f, Ae, Ap, a, h, b, z, g, V, vmax, Km, Me = parameters    # unpack for readability\n",
    "    k = j / kd\n",
    "\n",
    "    # define the differential equations\n",
    "    dy = [\n",
    "        y - k*Me*P - (k/w)*M*P + j*Pb + f*(Ae/Ap)*E,                       # P\n",
    "        k*Me*P + (k/w)*M*P - j*Pb - h*Pb,                                  # Pb\n",
    "        h*Pb - a*Pa,                                                       # Pa\n",
    "        a*Pa - g*Pu,                                                       # Pu\n",
    "        g*(Ap/Ae)*Pu - f*E + b*Eu - (k/w)*E*M + j*Em,                      # E\n",
    "        (k/w)*E*M - h*Em - j*Em,                                           # Em\n",
    "        h*Em - a*Ea,                                                       # Ea\n",
    "        -b*Eu + a*Ea - z*Eu,                                               # Eu\n",
    "        -(k/w)*M*((Ap / V)*P + (Ae / V)*E) + (j + a)*((Ae / V)*Em + (Ap / V)*Pb) - vmax*M/(V*(Km + M))  # M \n",
    "        ]\n",
    "\n",
    "    return dy\n",
    "\n",
    "def mup1_steady_states(parameters):\n",
    "    \"\"\"Function to find the steady states of the Mup1 trafficking model.\n",
    "    \n",
    "        Parameters:\n",
    "        - parameters (array, list): values of the parameters\"\"\"\n",
    "    y, w, j, kd, k, f, Ae, Ap, a, h, b, z, g, V, vmax, Km, Me = parameters    # unpack for readability\n",
    "    M = bisection_M(Me)\n",
    "\n",
    "    steady_states = { 'P' : y*w*(M*h**2*z*k + M*h*z*k*j + h**2*b*f*w + h**2*z*f*w + 2*h*b*f*j*w + 2*h*z*f*j*w + b*f*j**2*w + z*f*j**2*w)/(M*h**2*z*k**2*(M + Me*w)),\n",
    "                     'Pb' : y*(M*h*z*k + h*b*f*w + h*z*f*w + b*f*j*w + z*f*j*w)/(M*h**2*z*k),\n",
    "                     'Pa' : y*(M*h*z*k + h*b*f*w + h*z*f*w + b*f*j*w + z*f*j*w)/(M*h*z*k*a),\n",
    "                     'Pu' : y*(M*h*z*k + h*b*f*w + h*z*f*w + b*f*j*w + z*f*j*w)/(M*h*z*k*g),\n",
    "                      'E' : Ap*y*w*(h*b + h*z + b*j + z*j)/(Ae*M*h*z*k),\n",
    "                     'Em' : Ap*y*(b + z)/(Ae*h*z),\n",
    "                     'Ea' : Ap*y*(b + z)/(Ae*z*a),\n",
    "                     'Eu' : Ap*y/(Ae*z)}\n",
    "    \n",
    "\n",
    "    return sum(steady_states.values()) + M"
   ]
  },
  {
   "cell_type": "code",
   "execution_count": 8,
   "id": "6a06a57a",
   "metadata": {},
   "outputs": [],
   "source": [
    "\"\"\"AI suggested parameter ranges\"\"\"\n",
    "\n",
    "parameter_ranges = [\n",
    "    [8.3e-6, 8.3e-4],     # y: Mup1 production rate – production rates can vary over orders of magnitude due to transcriptional and translational regulation, environmental cues, and promoter strength.\n",
    "    [10, 100],            # w: pH scale factor – this is a unitless scaling factor, and while its exact biological interpretation may vary, a range of 1 order of magnitude allows for exploratory analysis without being too speculative.\n",
    "    [10, 1000],           # j: Methionine unbinding rate – binding and unbinding kinetics often vary by 1–2 orders of magnitude depending on temperature, affinity, and conformational state.\n",
    "    [1000, 90000],        # kd: Dissociation constant – dissociation constants vary widely across protein-ligand systems; range chosen to reflect affinities from high (1 μM) to low (90 μM) binding strength.\n",
    "    # k is derived from j/kd, so it should not be varied independently – vary j and kd instead\n",
    "    [0.025, 2.5],         # f: Recycling rate – endosomal recycling rates can vary depending on the type of cargo, regulatory proteins, and metabolic state; 1 order of magnitude captures plausible biological fluctuation.\n",
    "    [20, 100],            # Ae: Endosomal surface area – endosomal sizes (and hence surface areas) differ based on maturation stage and cell size; this range allows for ~5x variation while remaining realistic for yeast cells.\n",
    "    [100, 1000],          # Ap: Plasma membrane surface area – reflects variability in yeast cell size; 3–10 μm diameter cells yield surface areas within this range.\n",
    "    [0.1, 10],            # a: Ubiquitination rate – enzymatic tagging rates are context-dependent, influenced by E3 ligase concentration and substrate type; range spans 2 orders of magnitude.\n",
    "    [1, 100],             # h: Art1 binding rate – ART protein interactions with transporters can vary widely depending on substrate conformation and signaling state; large range allows for nonlinearity exploration.\n",
    "    [0.1, 10],            # b: Deubiquitination rate – affected by availability of deubiquitinases and substrate accessibility; same logic as for ubiquitination rate.\n",
    "    [0.0002, 0.02],       # z: Degradation rate – protein degradation is generally slow, but this range captures variation due to stress conditions, proteasome targeting, or trafficking dynamics.\n",
    "    [0.01, 1],            # g: Endocytosis rate – strongly regulated and responsive to signaling, nutrient levels, and surface cargo density; up to 100-fold variability is plausible.\n",
    "    [200, 1000],          # V: Cytoplasmic volume – yeast cells range from ~30 to ~100 fL; cytoplasmic volume varies with cell cycle stage and environmental conditions.\n",
    "    [1e4, 1e6],           # vmax: Max methionine metabolism rate – reflects possible differences in metabolic enzyme expression, post-translational regulation, and methionine flux capacity.\n",
    "    [50, 1000],           # Km: Michaelis constant – Km values commonly vary across enzymes and contexts; this range includes both high-affinity (low Km) and low-affinity (high Km) scenarios.\n",
    "    [0.1, 500],           # Me: Extracellular methionine concentration – based on reported yeast media compositions (from starvation up to rich media); range spans near-zero to saturating conditions.\n",
    "]\n",
    "\n",
    "\n",
    "parameter_ranges_2 = [[1e-6, 1e-3],   # y: mup1 production rate (y)\n",
    "                      [10, 100],      # w: pH scale factor\n",
    "                      [10, 1000],     # j: methionine unbinding rate\n",
    "                      [1000, 100000], # kd: methionine dissociation constant\n",
    "                      [0.01, 1],      # f: recycling rate\n",
    "                      [10, 100],      # Ae: endosomal membrane surface area\n",
    "                      [100, 1000],    # Ap: plasma membrane surface area\n",
    "                      [0.1, 10],      # a: ubiquitination rate (a)\n",
    "                      [1, 100],       # h: art1 binding rate (h)\n",
    "                      [0.1, 10],      # b: deubiquitination rate\n",
    "                      [1e-4, 0.01],   # z: degradation rate (z)\n",
    "                      [0.01, 1],      # g: endocytosis rate (g)\n",
    "                      [100, 1000],    # V: cytoplasmic volume\n",
    "                      [1e4, 1e6],     # vmax: maximal methionine metabolism rate\n",
    "                      [10, 1000],     # Km: methionine Michaelis-Menten constant\n",
    "                      [.1, 500]       # Me: extracellular methionine\n",
    "]\n",
    "\n"
   ]
  },
  {
   "cell_type": "code",
   "execution_count": 9,
   "id": "ba4b6b2b",
   "metadata": {},
   "outputs": [
    {
     "data": {
      "application/vnd.jupyter.widget-view+json": {
       "model_id": "2f01b6c2c2c24de199829d9865ee21fb",
       "version_major": 2,
       "version_minor": 0
      },
      "text/plain": [
       "Running model:   0%|          | 0/1088 [00:00<?, ?it/s]"
      ]
     },
     "metadata": {},
     "output_type": "display_data"
    },
    {
     "ename": "KeyboardInterrupt",
     "evalue": "",
     "output_type": "error",
     "traceback": [
      "\u001b[0;31m---------------------------------------------------------------------------\u001b[0m",
      "\u001b[0;31mKeyboardInterrupt\u001b[0m                         Traceback (most recent call last)",
      "Cell \u001b[0;32mIn[9], line 30\u001b[0m\n\u001b[1;32m     27\u001b[0m t_eval \u001b[38;5;241m=\u001b[39m np\u001b[38;5;241m.\u001b[39mlinspace(\u001b[38;5;241m*\u001b[39mt_span, \u001b[38;5;241m10\u001b[39m)\n\u001b[1;32m     29\u001b[0m \u001b[38;5;28;01mfor\u001b[39;00m i, X \u001b[38;5;129;01min\u001b[39;00m \u001b[38;5;28menumerate\u001b[39m(tqdm(param_values, desc\u001b[38;5;241m=\u001b[39m\u001b[38;5;124m\"\u001b[39m\u001b[38;5;124mRunning model\u001b[39m\u001b[38;5;124m\"\u001b[39m)):\n\u001b[0;32m---> 30\u001b[0m     sol \u001b[38;5;241m=\u001b[39m \u001b[43msolve_ivp\u001b[49m\u001b[43m(\u001b[49m\u001b[43mmup1_model\u001b[49m\u001b[43m,\u001b[49m\u001b[43m \u001b[49m\u001b[43mt_span\u001b[49m\u001b[43m,\u001b[49m\u001b[43m \u001b[49m\u001b[43my0\u001b[49m\u001b[43m,\u001b[49m\u001b[43m \u001b[49m\u001b[43margs\u001b[49m\u001b[38;5;241;43m=\u001b[39;49m\u001b[43m(\u001b[49m\u001b[43mX\u001b[49m\u001b[43m,\u001b[49m\u001b[43m)\u001b[49m\u001b[43m,\u001b[49m\u001b[43m \u001b[49m\u001b[43mt_eval\u001b[49m\u001b[38;5;241;43m=\u001b[39;49m\u001b[43mt_eval\u001b[49m\u001b[43m)\u001b[49m\n\u001b[1;32m     31\u001b[0m     \u001b[38;5;66;03m# have it save the total amount of mup1\u001b[39;00m\n\u001b[1;32m     32\u001b[0m     Y[i] \u001b[38;5;241m=\u001b[39m \u001b[38;5;28msum\u001b[39m(sol\u001b[38;5;241m.\u001b[39my[:, \u001b[38;5;241m-\u001b[39m\u001b[38;5;241m1\u001b[39m])\n",
      "File \u001b[0;32m~/research/r_venv/lib/python3.10/site-packages/scipy/integrate/_ivp/ivp.py:591\u001b[0m, in \u001b[0;36msolve_ivp\u001b[0;34m(fun, t_span, y0, method, t_eval, dense_output, events, vectorized, args, **options)\u001b[0m\n\u001b[1;32m    589\u001b[0m status \u001b[38;5;241m=\u001b[39m \u001b[38;5;28;01mNone\u001b[39;00m\n\u001b[1;32m    590\u001b[0m \u001b[38;5;28;01mwhile\u001b[39;00m status \u001b[38;5;129;01mis\u001b[39;00m \u001b[38;5;28;01mNone\u001b[39;00m:\n\u001b[0;32m--> 591\u001b[0m     message \u001b[38;5;241m=\u001b[39m \u001b[43msolver\u001b[49m\u001b[38;5;241;43m.\u001b[39;49m\u001b[43mstep\u001b[49m\u001b[43m(\u001b[49m\u001b[43m)\u001b[49m\n\u001b[1;32m    593\u001b[0m     \u001b[38;5;28;01mif\u001b[39;00m solver\u001b[38;5;241m.\u001b[39mstatus \u001b[38;5;241m==\u001b[39m \u001b[38;5;124m'\u001b[39m\u001b[38;5;124mfinished\u001b[39m\u001b[38;5;124m'\u001b[39m:\n\u001b[1;32m    594\u001b[0m         status \u001b[38;5;241m=\u001b[39m \u001b[38;5;241m0\u001b[39m\n",
      "File \u001b[0;32m~/research/r_venv/lib/python3.10/site-packages/scipy/integrate/_ivp/base.py:181\u001b[0m, in \u001b[0;36mOdeSolver.step\u001b[0;34m(self)\u001b[0m\n\u001b[1;32m    179\u001b[0m \u001b[38;5;28;01melse\u001b[39;00m:\n\u001b[1;32m    180\u001b[0m     t \u001b[38;5;241m=\u001b[39m \u001b[38;5;28mself\u001b[39m\u001b[38;5;241m.\u001b[39mt\n\u001b[0;32m--> 181\u001b[0m     success, message \u001b[38;5;241m=\u001b[39m \u001b[38;5;28;43mself\u001b[39;49m\u001b[38;5;241;43m.\u001b[39;49m\u001b[43m_step_impl\u001b[49m\u001b[43m(\u001b[49m\u001b[43m)\u001b[49m\n\u001b[1;32m    183\u001b[0m     \u001b[38;5;28;01mif\u001b[39;00m \u001b[38;5;129;01mnot\u001b[39;00m success:\n\u001b[1;32m    184\u001b[0m         \u001b[38;5;28mself\u001b[39m\u001b[38;5;241m.\u001b[39mstatus \u001b[38;5;241m=\u001b[39m \u001b[38;5;124m'\u001b[39m\u001b[38;5;124mfailed\u001b[39m\u001b[38;5;124m'\u001b[39m\n",
      "File \u001b[0;32m~/research/r_venv/lib/python3.10/site-packages/scipy/integrate/_ivp/rk.py:144\u001b[0m, in \u001b[0;36mRungeKutta._step_impl\u001b[0;34m(self)\u001b[0m\n\u001b[1;32m    141\u001b[0m h \u001b[38;5;241m=\u001b[39m t_new \u001b[38;5;241m-\u001b[39m t\n\u001b[1;32m    142\u001b[0m h_abs \u001b[38;5;241m=\u001b[39m np\u001b[38;5;241m.\u001b[39mabs(h)\n\u001b[0;32m--> 144\u001b[0m y_new, f_new \u001b[38;5;241m=\u001b[39m \u001b[43mrk_step\u001b[49m\u001b[43m(\u001b[49m\u001b[38;5;28;43mself\u001b[39;49m\u001b[38;5;241;43m.\u001b[39;49m\u001b[43mfun\u001b[49m\u001b[43m,\u001b[49m\u001b[43m \u001b[49m\u001b[43mt\u001b[49m\u001b[43m,\u001b[49m\u001b[43m \u001b[49m\u001b[43my\u001b[49m\u001b[43m,\u001b[49m\u001b[43m \u001b[49m\u001b[38;5;28;43mself\u001b[39;49m\u001b[38;5;241;43m.\u001b[39;49m\u001b[43mf\u001b[49m\u001b[43m,\u001b[49m\u001b[43m \u001b[49m\u001b[43mh\u001b[49m\u001b[43m,\u001b[49m\u001b[43m \u001b[49m\u001b[38;5;28;43mself\u001b[39;49m\u001b[38;5;241;43m.\u001b[39;49m\u001b[43mA\u001b[49m\u001b[43m,\u001b[49m\n\u001b[1;32m    145\u001b[0m \u001b[43m                       \u001b[49m\u001b[38;5;28;43mself\u001b[39;49m\u001b[38;5;241;43m.\u001b[39;49m\u001b[43mB\u001b[49m\u001b[43m,\u001b[49m\u001b[43m \u001b[49m\u001b[38;5;28;43mself\u001b[39;49m\u001b[38;5;241;43m.\u001b[39;49m\u001b[43mC\u001b[49m\u001b[43m,\u001b[49m\u001b[43m \u001b[49m\u001b[38;5;28;43mself\u001b[39;49m\u001b[38;5;241;43m.\u001b[39;49m\u001b[43mK\u001b[49m\u001b[43m)\u001b[49m\n\u001b[1;32m    146\u001b[0m scale \u001b[38;5;241m=\u001b[39m atol \u001b[38;5;241m+\u001b[39m np\u001b[38;5;241m.\u001b[39mmaximum(np\u001b[38;5;241m.\u001b[39mabs(y), np\u001b[38;5;241m.\u001b[39mabs(y_new)) \u001b[38;5;241m*\u001b[39m rtol\n\u001b[1;32m    147\u001b[0m error_norm \u001b[38;5;241m=\u001b[39m \u001b[38;5;28mself\u001b[39m\u001b[38;5;241m.\u001b[39m_estimate_error_norm(\u001b[38;5;28mself\u001b[39m\u001b[38;5;241m.\u001b[39mK, h, scale)\n",
      "File \u001b[0;32m~/research/r_venv/lib/python3.10/site-packages/scipy/integrate/_ivp/rk.py:63\u001b[0m, in \u001b[0;36mrk_step\u001b[0;34m(fun, t, y, f, h, A, B, C, K)\u001b[0m\n\u001b[1;32m     61\u001b[0m K[\u001b[38;5;241m0\u001b[39m] \u001b[38;5;241m=\u001b[39m f\n\u001b[1;32m     62\u001b[0m \u001b[38;5;28;01mfor\u001b[39;00m s, (a, c) \u001b[38;5;129;01min\u001b[39;00m \u001b[38;5;28menumerate\u001b[39m(\u001b[38;5;28mzip\u001b[39m(A[\u001b[38;5;241m1\u001b[39m:], C[\u001b[38;5;241m1\u001b[39m:]), start\u001b[38;5;241m=\u001b[39m\u001b[38;5;241m1\u001b[39m):\n\u001b[0;32m---> 63\u001b[0m     dy \u001b[38;5;241m=\u001b[39m \u001b[43mnp\u001b[49m\u001b[38;5;241;43m.\u001b[39;49m\u001b[43mdot\u001b[49m\u001b[43m(\u001b[49m\u001b[43mK\u001b[49m\u001b[43m[\u001b[49m\u001b[43m:\u001b[49m\u001b[43ms\u001b[49m\u001b[43m]\u001b[49m\u001b[38;5;241;43m.\u001b[39;49m\u001b[43mT\u001b[49m\u001b[43m,\u001b[49m\u001b[43m \u001b[49m\u001b[43ma\u001b[49m\u001b[43m[\u001b[49m\u001b[43m:\u001b[49m\u001b[43ms\u001b[49m\u001b[43m]\u001b[49m\u001b[43m)\u001b[49m \u001b[38;5;241m*\u001b[39m h\n\u001b[1;32m     64\u001b[0m     K[s] \u001b[38;5;241m=\u001b[39m fun(t \u001b[38;5;241m+\u001b[39m c \u001b[38;5;241m*\u001b[39m h, y \u001b[38;5;241m+\u001b[39m dy)\n\u001b[1;32m     66\u001b[0m y_new \u001b[38;5;241m=\u001b[39m y \u001b[38;5;241m+\u001b[39m h \u001b[38;5;241m*\u001b[39m np\u001b[38;5;241m.\u001b[39mdot(K[:\u001b[38;5;241m-\u001b[39m\u001b[38;5;241m1\u001b[39m]\u001b[38;5;241m.\u001b[39mT, B)\n",
      "File \u001b[0;32m~/research/r_venv/lib/python3.10/site-packages/numpy/core/multiarray.py:741\u001b[0m, in \u001b[0;36mdot\u001b[0;34m(a, b, out)\u001b[0m\n\u001b[1;32m    671\u001b[0m \u001b[38;5;250m    \u001b[39m\u001b[38;5;124;03m\"\"\"\u001b[39;00m\n\u001b[1;32m    672\u001b[0m \u001b[38;5;124;03m    result_type(*arrays_and_dtypes)\u001b[39;00m\n\u001b[1;32m    673\u001b[0m \n\u001b[0;32m   (...)\u001b[0m\n\u001b[1;32m    736\u001b[0m \n\u001b[1;32m    737\u001b[0m \u001b[38;5;124;03m    \"\"\"\u001b[39;00m\n\u001b[1;32m    738\u001b[0m     \u001b[38;5;28;01mreturn\u001b[39;00m arrays_and_dtypes\n\u001b[0;32m--> 741\u001b[0m \u001b[38;5;129m@array_function_from_c_func_and_dispatcher\u001b[39m(_multiarray_umath\u001b[38;5;241m.\u001b[39mdot)\n\u001b[1;32m    742\u001b[0m \u001b[38;5;28;01mdef\u001b[39;00m \u001b[38;5;21mdot\u001b[39m(a, b, out\u001b[38;5;241m=\u001b[39m\u001b[38;5;28;01mNone\u001b[39;00m):\n\u001b[1;32m    743\u001b[0m \u001b[38;5;250m    \u001b[39m\u001b[38;5;124;03m\"\"\"\u001b[39;00m\n\u001b[1;32m    744\u001b[0m \u001b[38;5;124;03m    dot(a, b, out=None)\u001b[39;00m\n\u001b[1;32m    745\u001b[0m \n\u001b[0;32m   (...)\u001b[0m\n\u001b[1;32m    829\u001b[0m \n\u001b[1;32m    830\u001b[0m \u001b[38;5;124;03m    \"\"\"\u001b[39;00m\n\u001b[1;32m    831\u001b[0m     \u001b[38;5;28;01mreturn\u001b[39;00m (a, b, out)\n",
      "\u001b[0;31mKeyboardInterrupt\u001b[0m: "
     ]
    }
   ],
   "source": [
    "\"\"\"Parameter Sensitivity Analysis\"\"\"\n",
    "from SALib.sample import saltelli, sobol as sobol_sample\n",
    "from SALib.analyze import sobol\n",
    "from SALib.test_functions import Ishigami\n",
    "from scipy.integrate import solve_ivp\n",
    "from tqdm.notebook import tqdm\n",
    "\n",
    "# set up problem\n",
    "problem = {\n",
    "    'num_vars': 16,\n",
    "    'names': ['y', 'w', 'j', 'kd', 'f', 'Ae', 'Ap', 'a', 'h', 'b', 'z', 'g', 'V', 'vmax', 'Km', 'Me'],\n",
    "    'bounds': parameter_ranges\n",
    "}\n",
    "\n",
    "# generate samples using Saltelli sampler\n",
    "param_values = sobol_sample.sample(problem, 32)\n",
    "\n",
    "# loop over sample inputs and run model\n",
    "Y = np.zeros([param_values.shape[0]])\n",
    "\n",
    "# set up for use with solve_ivp\n",
    "# Choose initial conditions\n",
    "y0 = [0, 0, 0, 0, 0, 0, 0, 0, 0]\n",
    "\n",
    "# Time span for integration\n",
    "t_span = (0, 50)\n",
    "t_eval = np.linspace(*t_span, 10)\n",
    "\n",
    "for i, X in enumerate(tqdm(param_values, desc=\"Running model\")):\n",
    "    sol = solve_ivp(mup1_model, t_span, y0, args=(X,), t_eval=t_eval)\n",
    "    # have it save the total amount of mup1\n",
    "    Y[i] = sum(sol.y[:, -1])\n",
    "\n",
    "# compute sensitivity indices using model outputs\n",
    "Si = sobol.analyze(problem, Y)\n",
    "\n",
    "Si.plot()\n",
    "plt.show()\n"
   ]
  }
 ],
 "metadata": {
  "kernelspec": {
   "display_name": "r_venv",
   "language": "python",
   "name": "python3"
  },
  "language_info": {
   "codemirror_mode": {
    "name": "ipython",
    "version": 3
   },
   "file_extension": ".py",
   "mimetype": "text/x-python",
   "name": "python",
   "nbconvert_exporter": "python",
   "pygments_lexer": "ipython3",
   "version": "3.10.12"
  }
 },
 "nbformat": 4,
 "nbformat_minor": 5
}
