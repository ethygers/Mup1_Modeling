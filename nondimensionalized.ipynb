{
 "cells": [
  {
   "cell_type": "code",
   "execution_count": 2,
   "id": "04ab13fb",
   "metadata": {},
   "outputs": [],
   "source": [
    "import numpy as np\n"
   ]
  },
  {
   "cell_type": "code",
   "execution_count": 1,
   "id": "f567add6",
   "metadata": {},
   "outputs": [],
   "source": [
    "# parameters\n",
    "y, k, w, j, f, Ae, Ap, a, h, b, z, g, V, vmax, Km, e_i, e_o, Me = [8.3e-5, 100 / 2188, 32, 100, .25, 47, 314, 1, 10, 1, .002, 0.1, 523, 174333.33, 350, 1, 1, 10]\n",
    "\n",
    "# nondimensional\n",
    "xi = e_o / e_i\n",
    "j_ = j / e_i\n",
    "g_ = g / e_i\n",
    "z_ = z / e_i\n",
    "h_ = h / e_i\n",
    "a_ = a / e_i\n",
    "b_ = b / e_i\n",
    "f_ = f / e_i\n",
    "a1 = k * Me / e_i\n",
    "a2 = k * y / e_i**2\n",
    "a3 = Ae / Ap\n",
    "a4 = vmax / (Me * V * e_i)\n",
    "a5 = k * Km / e_i\n",
    "a6 = Ap * y / (V * w * e_i * Me)\n",
    "a7 = Ap * y / (V * w * g * Me)\n",
    "a8 = Ap * y / (V * w * j * Me)"
   ]
  },
  {
   "cell_type": "code",
   "execution_count": null,
   "id": "09a6da45",
   "metadata": {},
   "outputs": [],
   "source": [
    "import sympy as sy\n",
    "\n",
    "P, Pe, Pb, Pa, Pu, E, E\n",
    "\n",
    "# save system\n",
    "dP_ = 1 - a1*P - "
   ]
  }
 ],
 "metadata": {
  "kernelspec": {
   "display_name": "r_venv (3.10.12)",
   "language": "python",
   "name": "python3"
  },
  "language_info": {
   "codemirror_mode": {
    "name": "ipython",
    "version": 3
   },
   "file_extension": ".py",
   "mimetype": "text/x-python",
   "name": "python",
   "nbconvert_exporter": "python",
   "pygments_lexer": "ipython3",
   "version": "3.10.12"
  }
 },
 "nbformat": 4,
 "nbformat_minor": 5
}
